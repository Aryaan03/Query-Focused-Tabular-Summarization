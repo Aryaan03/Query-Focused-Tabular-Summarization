{
 "cells": [
  {
   "cell_type": "code",
   "execution_count": 1,
   "id": "72eab1f9-4df9-4acb-aa70-6112ab2160f4",
   "metadata": {
    "tags": []
   },
   "outputs": [],
   "source": [
    "import warnings\n",
    "warnings.filterwarnings('ignore')"
   ]
  },
  {
   "cell_type": "code",
   "execution_count": 2,
   "id": "170971eb-987c-4522-a11e-c803ee8708fd",
   "metadata": {
    "tags": []
   },
   "outputs": [
    {
     "data": {
      "text/plain": [
       "3"
      ]
     },
     "execution_count": 2,
     "metadata": {},
     "output_type": "execute_result"
    }
   ],
   "source": [
    "import torch\n",
    "torch.cuda.empty_cache()\n",
    "torch.cuda.device_count()"
   ]
  },
  {
   "cell_type": "code",
   "execution_count": 3,
   "id": "8fbe50cd-fb80-46aa-ba11-cb0241103b1d",
   "metadata": {
    "tags": []
   },
   "outputs": [],
   "source": [
    "from sklearn.model_selection import KFold\n",
    "from datasets import load_dataset, DatasetDict, Dataset, concatenate_datasets\n",
    "import datasets\n",
    "import pandas as pd\n",
    "import os\n",
    "import logging\n",
    "import nltk\n",
    "import numpy as np\n",
    "from transformers import Seq2SeqTrainingArguments, Seq2SeqTrainer, DataCollatorForSeq2Seq\n",
    "import evaluate\n",
    "from transformers import BartForConditionalGeneration, BartTokenizer\n",
    "from random import sample\n",
    "\n",
    "\n",
    "train_df = datasets.load_from_disk(\"/home/y.khan/cai6307-y.khan/Query-Focused-Tabular-Summarization/data/data/train\")\n",
    "test_df = datasets.load_from_disk(\"/home/y.khan/cai6307-y.khan/Query-Focused-Tabular-Summarization/data/data/test\")\n",
    "validate_df = datasets.load_from_disk(\"/home/y.khan/cai6307-y.khan/Query-Focused-Tabular-Summarization/data/data/validate\")"
   ]
  },
  {
   "cell_type": "code",
   "execution_count": 6,
   "id": "011f29b8-8f7f-43ee-b3ff-a4b773844d15",
   "metadata": {
    "tags": []
   },
   "outputs": [],
   "source": [
    "model_path = \"facebook/bart-large\"\n",
    "model = BartForConditionalGeneration.from_pretrained(model_path)\n",
    "tokenizer = BartTokenizer.from_pretrained(model_path)"
   ]
  },
  {
   "cell_type": "code",
   "execution_count": 7,
   "id": "4445b5af-7e53-4b81-acfe-244cf0e459bd",
   "metadata": {
    "tags": []
   },
   "outputs": [
    {
     "name": "stderr",
     "output_type": "stream",
     "text": [
      "Map: 100%|██████████| 2000/2000 [00:07<00:00, 277.93 examples/s]\n",
      "Map: 100%|██████████| 500/500 [00:01<00:00, 332.26 examples/s]\n"
     ]
    }
   ],
   "source": [
    "from typing import List, Dict\n",
    "\n",
    "def tokenization_with_answer(examples):\n",
    "    inputs = []\n",
    "    \n",
    "    task_prefix = \"Given a query and a table, generate a summary that answers the query based on the information in the table: \"\n",
    "\n",
    "    for i, (query, table, summary) in enumerate(zip(examples['query'], examples['table'], examples['summary'])):\n",
    "        flattened_table = flatten_table(table, i)\n",
    "        input_text = f\"{task_prefix} Table {flattened_table}. Query: {query}\"\n",
    "\n",
    "        inputs.append(input_text)\n",
    "        \n",
    "    model_inputs = tokenizer(inputs, max_length=1024, truncation=True,padding='max_length')\n",
    "    with tokenizer.as_target_tokenizer():\n",
    "        labels = tokenizer(examples[\"summary\"], max_length=512, truncation=True)\n",
    "    \n",
    "    model_inputs[\"labels\"] = labels[\"input_ids\"] \n",
    "\n",
    "    return model_inputs\n",
    "\n",
    "\n",
    "def flatten_table(table: Dict, row_index: int) -> str:\n",
    "    header = table.get('header', [])\n",
    "    rows = table.get('rows', [])\n",
    "    title = table.get('title', [])\n",
    "\n",
    "    flattened_rows = []\n",
    "    for i, row in enumerate(rows):\n",
    "        row_text = f\"Row {i}, \" + \",\".join([f\"{col}:{val}\" for col, val in zip(header, row)])\n",
    "        flattened_rows.append(\"## \"+row_text)\n",
    "\n",
    "    flattened_table = f\"Title: {' '.join(map(str, title))}\" + \" \" + \" \".join(flattened_rows)\n",
    "    return flattened_table\n",
    "\n",
    "tokenized_dataset_train = train_df.map(tokenization_with_answer, batched=True)\n",
    "tokenized_dataset_test = test_df.map(tokenization_with_answer, batched=True)\n",
    "\n",
    "processed_data_train = tokenized_dataset_train.remove_columns(['table','summary', 'row_ids', 'example_id', 'query'])\n",
    "processed_data_test = tokenized_dataset_test.remove_columns(['table','summary', 'row_ids', 'example_id', 'query'])"
   ]
  },
  {
   "cell_type": "code",
   "execution_count": 8,
   "id": "b5682fcd-97b1-4c4e-9e0e-22e4b4bea987",
   "metadata": {
    "tags": []
   },
   "outputs": [],
   "source": [
    "def k_fold_split(dataset, num_folds=5):\n",
    "    fold_size = len(dataset) // num_folds\n",
    "    folds = []\n",
    "    for i in range(num_folds):\n",
    "        start = i * fold_size\n",
    "        end = start + fold_size if i < num_folds - 1 else len(dataset)\n",
    "        folds.append(dataset.select(range(start, end)))\n",
    "    return folds"
   ]
  },
  {
   "cell_type": "code",
   "execution_count": 9,
   "id": "a9a5f21c-8e3a-4735-84af-c3ca97d79421",
   "metadata": {
    "tags": []
   },
   "outputs": [],
   "source": [
    "def postprocess_text(preds, labels):\n",
    "        preds = [pred.strip() for pred in preds]\n",
    "        labels = [label.strip() for label in labels]\n",
    "\n",
    "        # rougeLSum expects newline after each sentence\n",
    "        preds = [\"\\n\".join(nltk.sent_tokenize(pred)) for pred in preds]\n",
    "        labels = [\"\\n\".join(nltk.sent_tokenize(label)) for label in labels]\n",
    "\n",
    "        return preds, labels\n",
    "\n",
    "def metric_fn(eval_predictions):\n",
    "    predictions, labels = eval_predictions\n",
    "    decoded_predictions = tokenizer.batch_decode(predictions, skip_special_tokens=True)\n",
    "    for label in labels:\n",
    "        label[label < 0] = tokenizer.pad_token_id  # Replace masked label tokens\n",
    "    decoded_labels = tokenizer.batch_decode(labels, skip_special_tokens=True)\n",
    "    \n",
    "    decoded_predictions, decoded_labels = postprocess_text(decoded_predictions, decoded_labels)\n",
    "\n",
    "    rouge = evaluate.load('rouge')\n",
    "\n",
    "    # Compute ROUGE scores\n",
    "    rouge_results = rouge.compute(predictions=decoded_predictions, references=decoded_labels)\n",
    "\n",
    "    return rouge_results\n",
    "\n",
    "data_collator = DataCollatorForSeq2Seq(tokenizer=tokenizer, model= model)\n",
    "\n",
    "train_args = Seq2SeqTrainingArguments(\n",
    "    output_dir=\"./train_weights_bart\",\n",
    "    learning_rate=3e-5,\n",
    "    per_device_train_batch_size=8,\n",
    "    per_device_eval_batch_size=4,\n",
    "    num_train_epochs=20,\n",
    "    evaluation_strategy=\"epoch\",\n",
    "    save_strategy = \"epoch\",\n",
    "    weight_decay=0.01,\n",
    "    save_total_limit=5,\n",
    "    warmup_ratio=0.03,\n",
    "    load_best_model_at_end=True,\n",
    "    predict_with_generate=True,\n",
    "    overwrite_output_dir= True,\n",
    "    gradient_accumulation_steps = 2\n",
    ")\n",
    "\n",
    "trainer = Seq2SeqTrainer(\n",
    "    model,\n",
    "    train_args,\n",
    "    train_dataset=processed_data_train,\n",
    "    eval_dataset=processed_data_test,\n",
    "    tokenizer=tokenizer,\n",
    "    data_collator=data_collator,\n",
    "    compute_metrics=metric_fn\n",
    ")"
   ]
  },
  {
   "cell_type": "code",
   "execution_count": null,
   "id": "76b09033-b673-4999-b8f3-93a4c58e3722",
   "metadata": {
    "tags": []
   },
   "outputs": [
    {
     "name": "stderr",
     "output_type": "stream",
     "text": [
      "Map: 100%|██████████| 1800/1800 [00:04<00:00, 373.60 examples/s]\n",
      "Map: 100%|██████████| 200/200 [00:00<00:00, 358.39 examples/s]\n"
     ]
    }
   ],
   "source": [
    "folds = k_fold_split(train_df, num_folds=10)\n",
    "\n",
    "for i in range(len(folds)):\n",
    "    val_fold = folds[i]\n",
    "    train_folds = [folds[j] for j in range(len(folds)) if j != i]\n",
    "    train_dataset = concatenate_datasets(train_folds)\n",
    "\n",
    "    tokenized_train = train_dataset.map(tokenization_with_answer, batched=True)\n",
    "    tokenized_val = val_fold.map(tokenization_with_answer, batched=True)\n",
    "\n",
    "    # Remove unnecessary columns\n",
    "    processed_train = tokenized_train.remove_columns(['table', 'summary', 'row_ids', 'example_id', 'query'])\n",
    "    processed_val = tokenized_val.remove_columns(['table', 'summary', 'row_ids', 'example_id', 'query'])\n",
    "\n",
    "    # Update your trainer's train_dataset and eval_dataset\n",
    "    trainer.train_dataset = processed_train\n",
    "    trainer.eval_dataset = processed_val\n",
    "\n",
    "    # Train your model\n",
    "    trainer.train()\n",
    "    trainer.evaluate()"
   ]
  },
  {
   "cell_type": "code",
   "execution_count": null,
   "id": "7790ef28-0369-477c-b6dd-bf038364846a",
   "metadata": {},
   "outputs": [],
   "source": [
    "model.save_pretrained(\"BART\")\n",
    "tokenizer.save_pretrained(\"BART\")"
   ]
  },
  {
   "cell_type": "code",
   "execution_count": null,
   "id": "f2722ed5-e723-44d9-9e35-af0d978b940d",
   "metadata": {
    "tags": []
   },
   "outputs": [],
   "source": [
    "tokenized_dataset_test = test_df.map(tokenization_with_answer, batched=True)\n",
    "processed_data_test = tokenized_dataset_test.remove_columns(['table','summary', 'row_ids', 'example_id', 'query', 'answers', 'coordinates'])"
   ]
  },
  {
   "cell_type": "code",
   "execution_count": null,
   "id": "4870f2b9-6639-4dd5-90ef-3ecd814cab3c",
   "metadata": {
    "tags": []
   },
   "outputs": [],
   "source": [
    "predictions, labels, metrics = trainer.predict(processed_data_test)\n",
    "decoded_predictions = tokenizer.batch_decode(predictions, skip_special_tokens=True)\n",
    "decoded_labels = tokenizer.batch_decode(labels, skip_special_tokens=True)"
   ]
  },
  {
   "cell_type": "code",
   "execution_count": null,
   "id": "9299beda-1e76-4a13-8391-8f80caa77a9a",
   "metadata": {
    "tags": []
   },
   "outputs": [],
   "source": [
    "decoded_predictions, decoded_labels = postprocess_text(decoded_predictions, decoded_labels)"
   ]
  },
  {
   "cell_type": "code",
   "execution_count": null,
   "id": "6bf4ab5c-f36e-43e5-a8eb-f15c1a1cd251",
   "metadata": {
    "tags": []
   },
   "outputs": [],
   "source": [
    "import evaluate  \n",
    "\n",
    "rouge = evaluate.load(\"rouge\")\n",
    "rouge_results = rouge.compute(predictions=decoded_predictions, references=decoded_labels)\n",
    "print(rouge_results)"
   ]
  },
  {
   "cell_type": "code",
   "execution_count": null,
   "id": "18469803-82c9-4810-807b-32a6cdc6d426",
   "metadata": {},
   "outputs": [],
   "source": []
  }
 ],
 "metadata": {
  "kernelspec": {
   "display_name": "hf-llm",
   "language": "python",
   "name": "hf-llm"
  },
  "language_info": {
   "codemirror_mode": {
    "name": "ipython",
    "version": 3
   },
   "file_extension": ".py",
   "mimetype": "text/x-python",
   "name": "python",
   "nbconvert_exporter": "python",
   "pygments_lexer": "ipython3",
   "version": "3.10.12"
  }
 },
 "nbformat": 4,
 "nbformat_minor": 5
}
