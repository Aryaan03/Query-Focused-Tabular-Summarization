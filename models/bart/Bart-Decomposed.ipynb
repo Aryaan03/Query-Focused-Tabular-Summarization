{
 "cells": [
  {
   "cell_type": "code",
   "execution_count": 4,
   "id": "d0cf138e-a220-4460-8783-5c3f818ce2c1",
   "metadata": {
    "tags": []
   },
   "outputs": [],
   "source": [
    "import warnings\n",
    "warnings.filterwarnings('ignore')"
   ]
  },
  {
   "cell_type": "code",
   "execution_count": 5,
   "id": "b1ad589c-62ac-4a0c-aff3-8bc6435d6938",
   "metadata": {
    "tags": []
   },
   "outputs": [],
   "source": [
    "import torch\n",
    "torch.cuda.empty_cache()"
   ]
  },
  {
   "cell_type": "code",
   "execution_count": 6,
   "id": "4699e442-8e18-4150-acd6-a0e749c21ddf",
   "metadata": {
    "tags": []
   },
   "outputs": [],
   "source": [
    "from sklearn.model_selection import KFold\n",
    "from datasets import load_dataset, DatasetDict, Dataset, concatenate_datasets\n",
    "import datasets\n",
    "import pandas as pd\n",
    "import os\n",
    "import logging\n",
    "import nltk\n",
    "import numpy as np\n",
    "from transformers import Seq2SeqTrainingArguments, Seq2SeqTrainer, DataCollatorForSeq2Seq\n",
    "import evaluate\n",
    "from transformers import BartForConditionalGeneration, BartTokenizer\n",
    "from random import sample\n",
    "\n",
    "\n",
    "train_df = datasets.load_from_disk(\"/home/y.khan/cai6307-y.khan/Query-Focused-Tabular-Summarization/data/decomposed/decomposed_train\")\n",
    "test_df = datasets.load_from_disk(\"/home/y.khan/cai6307-y.khan/Query-Focused-Tabular-Summarization/data/decomposed/decomposed_test\")\n",
    "validate_df = datasets.load_from_disk(\"/home/y.khan/cai6307-y.khan/Query-Focused-Tabular-Summarization/data/decomposed/decomposed_validate\")"
   ]
  },
  {
   "cell_type": "code",
   "execution_count": 4,
   "id": "cfc3bbed-c8c2-4391-80ef-69c377830103",
   "metadata": {
    "tags": []
   },
   "outputs": [],
   "source": [
    "model_path = \"facebook/bart-large\"\n",
    "tokenizer = AutoTokenizer.from_pretrained(model_path)\n",
    "\n",
    "model = AutoModelForSeq2SeqLM.from_pretrained(model_path)"
   ]
  },
  {
   "cell_type": "code",
   "execution_count": 28,
   "id": "bf73b7a4-83de-44d8-af37-92af438e7a7c",
   "metadata": {
    "tags": []
   },
   "outputs": [
    {
     "name": "stderr",
     "output_type": "stream",
     "text": [
      "Map: 100%|██████████| 2000/2000 [00:09<00:00, 213.09 examples/s]\n",
      "Map: 100%|██████████| 500/500 [00:02<00:00, 240.32 examples/s]\n"
     ]
    }
   ],
   "source": [
    "from typing import List, Dict\n",
    "\n",
    "def tokenization_with_answer(examples):\n",
    "    inputs = []\n",
    "    targets = []\n",
    "    \n",
    "    task_prefix = \"Given a query and a table, generate a summary that answers the query based on the information in the table: \"\n",
    "\n",
    "    for i, (query, table, answer, coordinates, summary) in enumerate(zip(examples['query'], examples['table'], examples['answers'], examples['coordinates'], examples['summary'])):\n",
    "        flattened_table = flatten_table(table, i)\n",
    "        input_text = f\"{task_prefix} Table {flattened_table}. Query: {query}\"\n",
    "\n",
    "        inputs.append(input_text)\n",
    "        targets.append(summary)\n",
    "        \n",
    "    model_inputs = tokenizer(inputs, max_length=1024, truncation=True,padding='max_length')\n",
    "    with tokenizer.as_target_tokenizer():\n",
    "        labels = tokenizer(examples[\"summary\"], max_length=512, truncation=True)\n",
    "    \n",
    "    model_inputs[\"labels\"] = labels[\"input_ids\"] \n",
    "\n",
    "    res = tokenizer(inputs, text_target=targets, truncation=True, padding=True)\n",
    "    return model_inputs\n",
    "\n",
    "def flatten_table(table: Dict, row_index: int) -> str:\n",
    "    header = table.get('header', [])\n",
    "    rows = table.get('rows', [])\n",
    "    title = table.get('title', [])\n",
    "\n",
    "    flattened_rows = []\n",
    "    for i, row in enumerate(rows):\n",
    "        row_text = f\"Row {i}, \" + \",\".join([f\"{col}:{val}\" for col, val in zip(header, row)])\n",
    "        flattened_rows.append(\"## \"+row_text)\n",
    "\n",
    "    flattened_table = f\"Title: {' '.join(map(str, title))}\" + \" \" + \" \".join(flattened_rows)\n",
    "    return flattened_table\n",
    "\n",
    "tokenized_dataset_train = train_df.map(tokenization_with_answer, batched=True)\n",
    "tokenized_dataset_test = test_df.map(tokenization_with_answer, batched=True)\n",
    "\n",
    "processed_data_train = tokenized_dataset_train.remove_columns(['table','summary', 'row_ids', 'example_id', 'query', 'answers', 'coordinates'])\n",
    "processed_data_test = tokenized_dataset_test.remove_columns(['table','summary', 'row_ids', 'example_id', 'query', 'answers', 'coordinates'])"
   ]
  },
  {
   "cell_type": "code",
   "execution_count": 29,
   "id": "043899b3-0f5a-45c0-9dcc-81c470692e0e",
   "metadata": {
    "tags": []
   },
   "outputs": [],
   "source": [
    "def k_fold_split(dataset, num_folds=5):\n",
    "    fold_size = len(dataset) // num_folds\n",
    "    folds = []\n",
    "    for i in range(num_folds):\n",
    "        start = i * fold_size\n",
    "        end = start + fold_size if i < num_folds - 1 else len(dataset)\n",
    "        folds.append(dataset.select(range(start, end)))\n",
    "    return folds"
   ]
  },
  {
   "cell_type": "code",
   "execution_count": 30,
   "id": "124e69ad-8684-49ab-8f84-08c1181619dc",
   "metadata": {
    "tags": []
   },
   "outputs": [],
   "source": [
    "def postprocess_text(preds, labels):\n",
    "        preds = [pred.strip() for pred in preds]\n",
    "        labels = [label.strip() for label in labels]\n",
    "\n",
    "        # rougeLSum expects newline after each sentence\n",
    "        preds = [\"\\n\".join(nltk.sent_tokenize(pred)) for pred in preds]\n",
    "        labels = [\"\\n\".join(nltk.sent_tokenize(label)) for label in labels]\n",
    "\n",
    "        return preds, labels\n",
    "\n",
    "def metric_fn(eval_predictions):\n",
    "    predictions, labels = eval_predictions\n",
    "    decoded_predictions = tokenizer.batch_decode(predictions, skip_special_tokens=True)\n",
    "    for label in labels:\n",
    "        label[label < 0] = tokenizer.pad_token_id  # Replace masked label tokens\n",
    "    decoded_labels = tokenizer.batch_decode(labels, skip_special_tokens=True)\n",
    "    \n",
    "    decoded_predictions, decoded_labels = postprocess_text(decoded_predictions, decoded_labels)\n",
    "\n",
    "    rouge = evaluate.load('rouge')\n",
    "\n",
    "    # Compute ROUGE scores\n",
    "    rouge_results = rouge.compute(predictions=decoded_predictions, references=decoded_labels)\n",
    "\n",
    "    return rouge_results\n",
    "\n",
    "data_collator = DataCollatorForSeq2Seq(tokenizer=tokenizer, model= model)\n",
    "\n",
    "train_args = Seq2SeqTrainingArguments(\n",
    "    output_dir=\"./train_weights_bart_decomposed\",\n",
    "    learning_rate=3e-5,\n",
    "    per_device_train_batch_size=8,\n",
    "    per_device_eval_batch_size=4,\n",
    "    num_train_epochs=20,\n",
    "    evaluation_strategy=\"epoch\",\n",
    "    save_strategy = \"epoch\",\n",
    "    weight_decay=0.01,\n",
    "    save_total_limit=5,\n",
    "    warmup_ratio=0.03,\n",
    "    load_best_model_at_end=True,\n",
    "    predict_with_generate=True,\n",
    "    overwrite_output_dir= True,\n",
    "    gradient_accumulation_steps = 2\n",
    ")\n",
    "\n",
    "\n",
    "trainer = Seq2SeqTrainer(\n",
    "    model,\n",
    "    train_args,\n",
    "    train_dataset=processed_data_train,\n",
    "    eval_dataset=processed_data_test,\n",
    "    tokenizer=tokenizer,\n",
    "    data_collator=data_collator,\n",
    "    compute_metrics=metric_fn\n",
    ")"
   ]
  },
  {
   "cell_type": "code",
   "execution_count": 10,
   "id": "f7e72a3c-ba11-4ea2-aca6-bd2916cc3b19",
   "metadata": {
    "tags": []
   },
   "outputs": [
    {
     "data": {
      "text/html": [
       "\n",
       "    <div>\n",
       "      \n",
       "      <progress value='1500' max='1500' style='width:300px; height:20px; vertical-align: middle;'></progress>\n",
       "      [1500/1500 31:50, Epoch 20/20]\n",
       "    </div>\n",
       "    <table border=\"1\" class=\"dataframe\">\n",
       "  <thead>\n",
       " <tr style=\"text-align: left;\">\n",
       "      <th>Epoch</th>\n",
       "      <th>Training Loss</th>\n",
       "      <th>Validation Loss</th>\n",
       "      <th>Rouge1</th>\n",
       "      <th>Rouge2</th>\n",
       "      <th>Rougel</th>\n",
       "      <th>Rougelsum</th>\n",
       "    </tr>\n",
       "  </thead>\n",
       "  <tbody>\n",
       "    <tr>\n",
       "      <td>1</td>\n",
       "      <td>No log</td>\n",
       "      <td>1.741640</td>\n",
       "      <td>0.310922</td>\n",
       "      <td>0.190126</td>\n",
       "      <td>0.274251</td>\n",
       "      <td>0.284224</td>\n",
       "    </tr>\n",
       "    <tr>\n",
       "      <td>2</td>\n",
       "      <td>No log</td>\n",
       "      <td>1.746532</td>\n",
       "      <td>0.311700</td>\n",
       "      <td>0.186292</td>\n",
       "      <td>0.272200</td>\n",
       "      <td>0.282696</td>\n",
       "    </tr>\n",
       "    <tr>\n",
       "      <td>3</td>\n",
       "      <td>No log</td>\n",
       "      <td>1.781855</td>\n",
       "      <td>0.308137</td>\n",
       "      <td>0.184520</td>\n",
       "      <td>0.270460</td>\n",
       "      <td>0.282074</td>\n",
       "    </tr>\n",
       "    <tr>\n",
       "      <td>4</td>\n",
       "      <td>No log</td>\n",
       "      <td>1.792227</td>\n",
       "      <td>0.310651</td>\n",
       "      <td>0.180755</td>\n",
       "      <td>0.268887</td>\n",
       "      <td>0.281130</td>\n",
       "    </tr>\n",
       "    <tr>\n",
       "      <td>5</td>\n",
       "      <td>No log</td>\n",
       "      <td>1.859723</td>\n",
       "      <td>0.304483</td>\n",
       "      <td>0.180463</td>\n",
       "      <td>0.263685</td>\n",
       "      <td>0.276920</td>\n",
       "    </tr>\n",
       "    <tr>\n",
       "      <td>6</td>\n",
       "      <td>No log</td>\n",
       "      <td>1.847143</td>\n",
       "      <td>0.306652</td>\n",
       "      <td>0.182138</td>\n",
       "      <td>0.268237</td>\n",
       "      <td>0.279202</td>\n",
       "    </tr>\n",
       "    <tr>\n",
       "      <td>7</td>\n",
       "      <td>0.953000</td>\n",
       "      <td>1.914978</td>\n",
       "      <td>0.309419</td>\n",
       "      <td>0.179245</td>\n",
       "      <td>0.267391</td>\n",
       "      <td>0.280251</td>\n",
       "    </tr>\n",
       "    <tr>\n",
       "      <td>8</td>\n",
       "      <td>0.953000</td>\n",
       "      <td>1.905485</td>\n",
       "      <td>0.309323</td>\n",
       "      <td>0.185684</td>\n",
       "      <td>0.272819</td>\n",
       "      <td>0.283899</td>\n",
       "    </tr>\n",
       "    <tr>\n",
       "      <td>9</td>\n",
       "      <td>0.953000</td>\n",
       "      <td>1.961449</td>\n",
       "      <td>0.309507</td>\n",
       "      <td>0.182913</td>\n",
       "      <td>0.271276</td>\n",
       "      <td>0.283882</td>\n",
       "    </tr>\n",
       "    <tr>\n",
       "      <td>10</td>\n",
       "      <td>0.953000</td>\n",
       "      <td>2.014781</td>\n",
       "      <td>0.312802</td>\n",
       "      <td>0.183745</td>\n",
       "      <td>0.271571</td>\n",
       "      <td>0.283286</td>\n",
       "    </tr>\n",
       "    <tr>\n",
       "      <td>11</td>\n",
       "      <td>0.953000</td>\n",
       "      <td>2.023904</td>\n",
       "      <td>0.311637</td>\n",
       "      <td>0.185436</td>\n",
       "      <td>0.273821</td>\n",
       "      <td>0.286219</td>\n",
       "    </tr>\n",
       "    <tr>\n",
       "      <td>12</td>\n",
       "      <td>0.953000</td>\n",
       "      <td>2.034305</td>\n",
       "      <td>0.307686</td>\n",
       "      <td>0.182139</td>\n",
       "      <td>0.268039</td>\n",
       "      <td>0.280698</td>\n",
       "    </tr>\n",
       "    <tr>\n",
       "      <td>13</td>\n",
       "      <td>0.953000</td>\n",
       "      <td>2.097256</td>\n",
       "      <td>0.313264</td>\n",
       "      <td>0.186734</td>\n",
       "      <td>0.275213</td>\n",
       "      <td>0.288065</td>\n",
       "    </tr>\n",
       "    <tr>\n",
       "      <td>14</td>\n",
       "      <td>0.654500</td>\n",
       "      <td>2.099739</td>\n",
       "      <td>0.308655</td>\n",
       "      <td>0.182025</td>\n",
       "      <td>0.269875</td>\n",
       "      <td>0.282815</td>\n",
       "    </tr>\n",
       "    <tr>\n",
       "      <td>15</td>\n",
       "      <td>0.654500</td>\n",
       "      <td>2.117104</td>\n",
       "      <td>0.313947</td>\n",
       "      <td>0.184778</td>\n",
       "      <td>0.273610</td>\n",
       "      <td>0.287154</td>\n",
       "    </tr>\n",
       "    <tr>\n",
       "      <td>16</td>\n",
       "      <td>0.654500</td>\n",
       "      <td>2.122247</td>\n",
       "      <td>0.313228</td>\n",
       "      <td>0.185229</td>\n",
       "      <td>0.273695</td>\n",
       "      <td>0.286972</td>\n",
       "    </tr>\n",
       "    <tr>\n",
       "      <td>17</td>\n",
       "      <td>0.654500</td>\n",
       "      <td>2.138912</td>\n",
       "      <td>0.309753</td>\n",
       "      <td>0.182780</td>\n",
       "      <td>0.270096</td>\n",
       "      <td>0.283537</td>\n",
       "    </tr>\n",
       "    <tr>\n",
       "      <td>18</td>\n",
       "      <td>0.654500</td>\n",
       "      <td>2.145381</td>\n",
       "      <td>0.308105</td>\n",
       "      <td>0.181364</td>\n",
       "      <td>0.271100</td>\n",
       "      <td>0.283596</td>\n",
       "    </tr>\n",
       "    <tr>\n",
       "      <td>19</td>\n",
       "      <td>0.654500</td>\n",
       "      <td>2.166959</td>\n",
       "      <td>0.312431</td>\n",
       "      <td>0.183770</td>\n",
       "      <td>0.274688</td>\n",
       "      <td>0.287782</td>\n",
       "    </tr>\n",
       "    <tr>\n",
       "      <td>20</td>\n",
       "      <td>0.520800</td>\n",
       "      <td>2.166718</td>\n",
       "      <td>0.309370</td>\n",
       "      <td>0.184597</td>\n",
       "      <td>0.273038</td>\n",
       "      <td>0.284954</td>\n",
       "    </tr>\n",
       "  </tbody>\n",
       "</table><p>"
      ],
      "text/plain": [
       "<IPython.core.display.HTML object>"
      ]
     },
     "metadata": {},
     "output_type": "display_data"
    },
    {
     "name": "stderr",
     "output_type": "stream",
     "text": [
      "Downloading builder script: 100%|██████████| 6.27k/6.27k [00:00<00:00, 21.8MB/s]\n"
     ]
    },
    {
     "data": {
      "text/html": [
       "\n",
       "    <div>\n",
       "      \n",
       "      <progress value='34' max='17' style='width:300px; height:20px; vertical-align: middle;'></progress>\n",
       "      [17/17 02:07]\n",
       "    </div>\n",
       "    "
      ],
      "text/plain": [
       "<IPython.core.display.HTML object>"
      ]
     },
     "metadata": {},
     "output_type": "display_data"
    },
    {
     "name": "stderr",
     "output_type": "stream",
     "text": [
      "Map: 100%|██████████| 1800/1800 [00:13<00:00, 134.93 examples/s]\n",
      "Map: 100%|██████████| 200/200 [00:00<00:00, 411.28 examples/s]\n"
     ]
    },
    {
     "data": {
      "text/html": [
       "\n",
       "    <div>\n",
       "      \n",
       "      <progress value='1500' max='1500' style='width:300px; height:20px; vertical-align: middle;'></progress>\n",
       "      [1500/1500 31:53, Epoch 20/20]\n",
       "    </div>\n",
       "    <table border=\"1\" class=\"dataframe\">\n",
       "  <thead>\n",
       " <tr style=\"text-align: left;\">\n",
       "      <th>Epoch</th>\n",
       "      <th>Training Loss</th>\n",
       "      <th>Validation Loss</th>\n",
       "      <th>Rouge1</th>\n",
       "      <th>Rouge2</th>\n",
       "      <th>Rougel</th>\n",
       "      <th>Rougelsum</th>\n",
       "    </tr>\n",
       "  </thead>\n",
       "  <tbody>\n",
       "    <tr>\n",
       "      <td>1</td>\n",
       "      <td>No log</td>\n",
       "      <td>0.364045</td>\n",
       "      <td>0.378481</td>\n",
       "      <td>0.317903</td>\n",
       "      <td>0.364101</td>\n",
       "      <td>0.371057</td>\n",
       "    </tr>\n",
       "    <tr>\n",
       "      <td>2</td>\n",
       "      <td>No log</td>\n",
       "      <td>0.362913</td>\n",
       "      <td>0.377242</td>\n",
       "      <td>0.305969</td>\n",
       "      <td>0.360126</td>\n",
       "      <td>0.367271</td>\n",
       "    </tr>\n",
       "    <tr>\n",
       "      <td>3</td>\n",
       "      <td>No log</td>\n",
       "      <td>0.388991</td>\n",
       "      <td>0.386919</td>\n",
       "      <td>0.317680</td>\n",
       "      <td>0.369138</td>\n",
       "      <td>0.377016</td>\n",
       "    </tr>\n",
       "    <tr>\n",
       "      <td>4</td>\n",
       "      <td>No log</td>\n",
       "      <td>0.406257</td>\n",
       "      <td>0.381557</td>\n",
       "      <td>0.308955</td>\n",
       "      <td>0.364593</td>\n",
       "      <td>0.371286</td>\n",
       "    </tr>\n",
       "    <tr>\n",
       "      <td>5</td>\n",
       "      <td>No log</td>\n",
       "      <td>0.404682</td>\n",
       "      <td>0.377502</td>\n",
       "      <td>0.302452</td>\n",
       "      <td>0.358389</td>\n",
       "      <td>0.366657</td>\n",
       "    </tr>\n",
       "    <tr>\n",
       "      <td>6</td>\n",
       "      <td>No log</td>\n",
       "      <td>0.412435</td>\n",
       "      <td>0.364652</td>\n",
       "      <td>0.289373</td>\n",
       "      <td>0.346564</td>\n",
       "      <td>0.355266</td>\n",
       "    </tr>\n",
       "    <tr>\n",
       "      <td>7</td>\n",
       "      <td>0.581300</td>\n",
       "      <td>0.405055</td>\n",
       "      <td>0.371139</td>\n",
       "      <td>0.291156</td>\n",
       "      <td>0.348776</td>\n",
       "      <td>0.357577</td>\n",
       "    </tr>\n",
       "    <tr>\n",
       "      <td>8</td>\n",
       "      <td>0.581300</td>\n",
       "      <td>0.413587</td>\n",
       "      <td>0.369951</td>\n",
       "      <td>0.292602</td>\n",
       "      <td>0.351380</td>\n",
       "      <td>0.358850</td>\n",
       "    </tr>\n",
       "    <tr>\n",
       "      <td>9</td>\n",
       "      <td>0.581300</td>\n",
       "      <td>0.425972</td>\n",
       "      <td>0.364491</td>\n",
       "      <td>0.288418</td>\n",
       "      <td>0.347132</td>\n",
       "      <td>0.353575</td>\n",
       "    </tr>\n",
       "    <tr>\n",
       "      <td>10</td>\n",
       "      <td>0.581300</td>\n",
       "      <td>0.436486</td>\n",
       "      <td>0.361531</td>\n",
       "      <td>0.281145</td>\n",
       "      <td>0.340903</td>\n",
       "      <td>0.348076</td>\n",
       "    </tr>\n",
       "    <tr>\n",
       "      <td>11</td>\n",
       "      <td>0.581300</td>\n",
       "      <td>0.425423</td>\n",
       "      <td>0.374005</td>\n",
       "      <td>0.294030</td>\n",
       "      <td>0.352979</td>\n",
       "      <td>0.360724</td>\n",
       "    </tr>\n",
       "    <tr>\n",
       "      <td>12</td>\n",
       "      <td>0.581300</td>\n",
       "      <td>0.429676</td>\n",
       "      <td>0.367911</td>\n",
       "      <td>0.290826</td>\n",
       "      <td>0.348333</td>\n",
       "      <td>0.355672</td>\n",
       "    </tr>\n",
       "    <tr>\n",
       "      <td>13</td>\n",
       "      <td>0.581300</td>\n",
       "      <td>0.432448</td>\n",
       "      <td>0.366711</td>\n",
       "      <td>0.292173</td>\n",
       "      <td>0.349736</td>\n",
       "      <td>0.356676</td>\n",
       "    </tr>\n",
       "    <tr>\n",
       "      <td>14</td>\n",
       "      <td>0.374000</td>\n",
       "      <td>0.439826</td>\n",
       "      <td>0.374479</td>\n",
       "      <td>0.295207</td>\n",
       "      <td>0.355425</td>\n",
       "      <td>0.362020</td>\n",
       "    </tr>\n",
       "    <tr>\n",
       "      <td>15</td>\n",
       "      <td>0.374000</td>\n",
       "      <td>0.440058</td>\n",
       "      <td>0.371253</td>\n",
       "      <td>0.294789</td>\n",
       "      <td>0.352689</td>\n",
       "      <td>0.359467</td>\n",
       "    </tr>\n",
       "    <tr>\n",
       "      <td>16</td>\n",
       "      <td>0.374000</td>\n",
       "      <td>0.438041</td>\n",
       "      <td>0.372573</td>\n",
       "      <td>0.293440</td>\n",
       "      <td>0.354110</td>\n",
       "      <td>0.361384</td>\n",
       "    </tr>\n",
       "    <tr>\n",
       "      <td>17</td>\n",
       "      <td>0.374000</td>\n",
       "      <td>0.440235</td>\n",
       "      <td>0.367903</td>\n",
       "      <td>0.288587</td>\n",
       "      <td>0.349748</td>\n",
       "      <td>0.356262</td>\n",
       "    </tr>\n",
       "    <tr>\n",
       "      <td>18</td>\n",
       "      <td>0.374000</td>\n",
       "      <td>0.444106</td>\n",
       "      <td>0.367850</td>\n",
       "      <td>0.287979</td>\n",
       "      <td>0.348033</td>\n",
       "      <td>0.355975</td>\n",
       "    </tr>\n",
       "    <tr>\n",
       "      <td>19</td>\n",
       "      <td>0.374000</td>\n",
       "      <td>0.443937</td>\n",
       "      <td>0.369519</td>\n",
       "      <td>0.286909</td>\n",
       "      <td>0.349540</td>\n",
       "      <td>0.356539</td>\n",
       "    </tr>\n",
       "    <tr>\n",
       "      <td>20</td>\n",
       "      <td>0.276400</td>\n",
       "      <td>0.442447</td>\n",
       "      <td>0.368890</td>\n",
       "      <td>0.284419</td>\n",
       "      <td>0.348218</td>\n",
       "      <td>0.355607</td>\n",
       "    </tr>\n",
       "  </tbody>\n",
       "</table><p>"
      ],
      "text/plain": [
       "<IPython.core.display.HTML object>"
      ]
     },
     "metadata": {},
     "output_type": "display_data"
    },
    {
     "data": {
      "text/html": [
       "\n",
       "    <div>\n",
       "      \n",
       "      <progress value='34' max='17' style='width:300px; height:20px; vertical-align: middle;'></progress>\n",
       "      [17/17 02:03]\n",
       "    </div>\n",
       "    "
      ],
      "text/plain": [
       "<IPython.core.display.HTML object>"
      ]
     },
     "metadata": {},
     "output_type": "display_data"
    },
    {
     "name": "stderr",
     "output_type": "stream",
     "text": [
      "Map: 100%|██████████| 1800/1800 [00:04<00:00, 427.80 examples/s]\n",
      "Map: 100%|██████████| 200/200 [00:00<00:00, 417.10 examples/s]\n"
     ]
    },
    {
     "data": {
      "text/html": [
       "\n",
       "    <div>\n",
       "      \n",
       "      <progress value='1500' max='1500' style='width:300px; height:20px; vertical-align: middle;'></progress>\n",
       "      [1500/1500 32:01, Epoch 20/20]\n",
       "    </div>\n",
       "    <table border=\"1\" class=\"dataframe\">\n",
       "  <thead>\n",
       " <tr style=\"text-align: left;\">\n",
       "      <th>Epoch</th>\n",
       "      <th>Training Loss</th>\n",
       "      <th>Validation Loss</th>\n",
       "      <th>Rouge1</th>\n",
       "      <th>Rouge2</th>\n",
       "      <th>Rougel</th>\n",
       "      <th>Rougelsum</th>\n",
       "    </tr>\n",
       "  </thead>\n",
       "  <tbody>\n",
       "    <tr>\n",
       "      <td>1</td>\n",
       "      <td>No log</td>\n",
       "      <td>0.156500</td>\n",
       "      <td>0.419272</td>\n",
       "      <td>0.386060</td>\n",
       "      <td>0.416496</td>\n",
       "      <td>0.418385</td>\n",
       "    </tr>\n",
       "    <tr>\n",
       "      <td>2</td>\n",
       "      <td>No log</td>\n",
       "      <td>0.136608</td>\n",
       "      <td>0.413219</td>\n",
       "      <td>0.374962</td>\n",
       "      <td>0.407938</td>\n",
       "      <td>0.410821</td>\n",
       "    </tr>\n",
       "    <tr>\n",
       "      <td>3</td>\n",
       "      <td>No log</td>\n",
       "      <td>0.129492</td>\n",
       "      <td>0.402444</td>\n",
       "      <td>0.365389</td>\n",
       "      <td>0.394082</td>\n",
       "      <td>0.396720</td>\n",
       "    </tr>\n",
       "    <tr>\n",
       "      <td>4</td>\n",
       "      <td>No log</td>\n",
       "      <td>0.141372</td>\n",
       "      <td>0.407959</td>\n",
       "      <td>0.366141</td>\n",
       "      <td>0.400560</td>\n",
       "      <td>0.404135</td>\n",
       "    </tr>\n",
       "    <tr>\n",
       "      <td>5</td>\n",
       "      <td>No log</td>\n",
       "      <td>0.161560</td>\n",
       "      <td>0.412432</td>\n",
       "      <td>0.371556</td>\n",
       "      <td>0.406299</td>\n",
       "      <td>0.409584</td>\n",
       "    </tr>\n",
       "    <tr>\n",
       "      <td>6</td>\n",
       "      <td>No log</td>\n",
       "      <td>0.135184</td>\n",
       "      <td>0.404734</td>\n",
       "      <td>0.368046</td>\n",
       "      <td>0.398335</td>\n",
       "      <td>0.400729</td>\n",
       "    </tr>\n",
       "    <tr>\n",
       "      <td>7</td>\n",
       "      <td>0.299500</td>\n",
       "      <td>0.152729</td>\n",
       "      <td>0.397220</td>\n",
       "      <td>0.357946</td>\n",
       "      <td>0.390428</td>\n",
       "      <td>0.392657</td>\n",
       "    </tr>\n",
       "    <tr>\n",
       "      <td>8</td>\n",
       "      <td>0.299500</td>\n",
       "      <td>0.143979</td>\n",
       "      <td>0.400395</td>\n",
       "      <td>0.360895</td>\n",
       "      <td>0.392811</td>\n",
       "      <td>0.395079</td>\n",
       "    </tr>\n",
       "    <tr>\n",
       "      <td>9</td>\n",
       "      <td>0.299500</td>\n",
       "      <td>0.145063</td>\n",
       "      <td>0.404780</td>\n",
       "      <td>0.365985</td>\n",
       "      <td>0.397151</td>\n",
       "      <td>0.399483</td>\n",
       "    </tr>\n",
       "    <tr>\n",
       "      <td>10</td>\n",
       "      <td>0.299500</td>\n",
       "      <td>0.159074</td>\n",
       "      <td>0.409068</td>\n",
       "      <td>0.364837</td>\n",
       "      <td>0.401305</td>\n",
       "      <td>0.404562</td>\n",
       "    </tr>\n",
       "    <tr>\n",
       "      <td>11</td>\n",
       "      <td>0.299500</td>\n",
       "      <td>0.147136</td>\n",
       "      <td>0.401682</td>\n",
       "      <td>0.355507</td>\n",
       "      <td>0.392536</td>\n",
       "      <td>0.396385</td>\n",
       "    </tr>\n",
       "    <tr>\n",
       "      <td>12</td>\n",
       "      <td>0.299500</td>\n",
       "      <td>0.147503</td>\n",
       "      <td>0.404424</td>\n",
       "      <td>0.358933</td>\n",
       "      <td>0.397494</td>\n",
       "      <td>0.400806</td>\n",
       "    </tr>\n",
       "    <tr>\n",
       "      <td>13</td>\n",
       "      <td>0.299500</td>\n",
       "      <td>0.150737</td>\n",
       "      <td>0.400212</td>\n",
       "      <td>0.358667</td>\n",
       "      <td>0.392204</td>\n",
       "      <td>0.395859</td>\n",
       "    </tr>\n",
       "    <tr>\n",
       "      <td>14</td>\n",
       "      <td>0.191800</td>\n",
       "      <td>0.148281</td>\n",
       "      <td>0.399033</td>\n",
       "      <td>0.360070</td>\n",
       "      <td>0.391463</td>\n",
       "      <td>0.394841</td>\n",
       "    </tr>\n",
       "    <tr>\n",
       "      <td>15</td>\n",
       "      <td>0.191800</td>\n",
       "      <td>0.145234</td>\n",
       "      <td>0.402166</td>\n",
       "      <td>0.355137</td>\n",
       "      <td>0.394224</td>\n",
       "      <td>0.397395</td>\n",
       "    </tr>\n",
       "    <tr>\n",
       "      <td>16</td>\n",
       "      <td>0.191800</td>\n",
       "      <td>0.147220</td>\n",
       "      <td>0.399733</td>\n",
       "      <td>0.354023</td>\n",
       "      <td>0.392807</td>\n",
       "      <td>0.396312</td>\n",
       "    </tr>\n",
       "    <tr>\n",
       "      <td>17</td>\n",
       "      <td>0.191800</td>\n",
       "      <td>0.147495</td>\n",
       "      <td>0.405353</td>\n",
       "      <td>0.361533</td>\n",
       "      <td>0.397354</td>\n",
       "      <td>0.401131</td>\n",
       "    </tr>\n",
       "    <tr>\n",
       "      <td>18</td>\n",
       "      <td>0.191800</td>\n",
       "      <td>0.145712</td>\n",
       "      <td>0.399263</td>\n",
       "      <td>0.359829</td>\n",
       "      <td>0.391641</td>\n",
       "      <td>0.394503</td>\n",
       "    </tr>\n",
       "    <tr>\n",
       "      <td>19</td>\n",
       "      <td>0.191800</td>\n",
       "      <td>0.150105</td>\n",
       "      <td>0.400702</td>\n",
       "      <td>0.361159</td>\n",
       "      <td>0.392740</td>\n",
       "      <td>0.395403</td>\n",
       "    </tr>\n",
       "    <tr>\n",
       "      <td>20</td>\n",
       "      <td>0.137000</td>\n",
       "      <td>0.144689</td>\n",
       "      <td>0.398698</td>\n",
       "      <td>0.360516</td>\n",
       "      <td>0.391374</td>\n",
       "      <td>0.393775</td>\n",
       "    </tr>\n",
       "  </tbody>\n",
       "</table><p>"
      ],
      "text/plain": [
       "<IPython.core.display.HTML object>"
      ]
     },
     "metadata": {},
     "output_type": "display_data"
    },
    {
     "data": {
      "text/html": [
       "\n",
       "    <div>\n",
       "      \n",
       "      <progress value='34' max='17' style='width:300px; height:20px; vertical-align: middle;'></progress>\n",
       "      [17/17 02:05]\n",
       "    </div>\n",
       "    "
      ],
      "text/plain": [
       "<IPython.core.display.HTML object>"
      ]
     },
     "metadata": {},
     "output_type": "display_data"
    },
    {
     "name": "stderr",
     "output_type": "stream",
     "text": [
      "Map: 100%|██████████| 1800/1800 [00:04<00:00, 422.56 examples/s]\n",
      "Map: 100%|██████████| 200/200 [00:00<00:00, 412.09 examples/s]\n"
     ]
    },
    {
     "data": {
      "text/html": [
       "\n",
       "    <div>\n",
       "      \n",
       "      <progress value='1500' max='1500' style='width:300px; height:20px; vertical-align: middle;'></progress>\n",
       "      [1500/1500 33:10, Epoch 20/20]\n",
       "    </div>\n",
       "    <table border=\"1\" class=\"dataframe\">\n",
       "  <thead>\n",
       " <tr style=\"text-align: left;\">\n",
       "      <th>Epoch</th>\n",
       "      <th>Training Loss</th>\n",
       "      <th>Validation Loss</th>\n",
       "      <th>Rouge1</th>\n",
       "      <th>Rouge2</th>\n",
       "      <th>Rougel</th>\n",
       "      <th>Rougelsum</th>\n",
       "    </tr>\n",
       "  </thead>\n",
       "  <tbody>\n",
       "    <tr>\n",
       "      <td>1</td>\n",
       "      <td>No log</td>\n",
       "      <td>0.061970</td>\n",
       "      <td>0.412412</td>\n",
       "      <td>0.392762</td>\n",
       "      <td>0.411311</td>\n",
       "      <td>0.412276</td>\n",
       "    </tr>\n",
       "    <tr>\n",
       "      <td>2</td>\n",
       "      <td>No log</td>\n",
       "      <td>0.076129</td>\n",
       "      <td>0.403392</td>\n",
       "      <td>0.379299</td>\n",
       "      <td>0.400439</td>\n",
       "      <td>0.401373</td>\n",
       "    </tr>\n",
       "    <tr>\n",
       "      <td>3</td>\n",
       "      <td>No log</td>\n",
       "      <td>0.064934</td>\n",
       "      <td>0.408537</td>\n",
       "      <td>0.385470</td>\n",
       "      <td>0.406839</td>\n",
       "      <td>0.407348</td>\n",
       "    </tr>\n",
       "    <tr>\n",
       "      <td>4</td>\n",
       "      <td>No log</td>\n",
       "      <td>0.066857</td>\n",
       "      <td>0.404594</td>\n",
       "      <td>0.382167</td>\n",
       "      <td>0.403075</td>\n",
       "      <td>0.403389</td>\n",
       "    </tr>\n",
       "    <tr>\n",
       "      <td>5</td>\n",
       "      <td>No log</td>\n",
       "      <td>0.065650</td>\n",
       "      <td>0.404224</td>\n",
       "      <td>0.379157</td>\n",
       "      <td>0.401967</td>\n",
       "      <td>0.402760</td>\n",
       "    </tr>\n",
       "    <tr>\n",
       "      <td>6</td>\n",
       "      <td>No log</td>\n",
       "      <td>0.066976</td>\n",
       "      <td>0.408126</td>\n",
       "      <td>0.385139</td>\n",
       "      <td>0.406402</td>\n",
       "      <td>0.407079</td>\n",
       "    </tr>\n",
       "    <tr>\n",
       "      <td>7</td>\n",
       "      <td>0.164700</td>\n",
       "      <td>0.065450</td>\n",
       "      <td>0.404206</td>\n",
       "      <td>0.380197</td>\n",
       "      <td>0.402028</td>\n",
       "      <td>0.402371</td>\n",
       "    </tr>\n",
       "    <tr>\n",
       "      <td>8</td>\n",
       "      <td>0.164700</td>\n",
       "      <td>0.063854</td>\n",
       "      <td>0.405026</td>\n",
       "      <td>0.382238</td>\n",
       "      <td>0.403485</td>\n",
       "      <td>0.404045</td>\n",
       "    </tr>\n",
       "    <tr>\n",
       "      <td>9</td>\n",
       "      <td>0.164700</td>\n",
       "      <td>0.081352</td>\n",
       "      <td>0.398497</td>\n",
       "      <td>0.371701</td>\n",
       "      <td>0.395192</td>\n",
       "      <td>0.396353</td>\n",
       "    </tr>\n",
       "    <tr>\n",
       "      <td>10</td>\n",
       "      <td>0.164700</td>\n",
       "      <td>0.066170</td>\n",
       "      <td>0.405291</td>\n",
       "      <td>0.379943</td>\n",
       "      <td>0.403946</td>\n",
       "      <td>0.404182</td>\n",
       "    </tr>\n",
       "    <tr>\n",
       "      <td>11</td>\n",
       "      <td>0.164700</td>\n",
       "      <td>0.069235</td>\n",
       "      <td>0.399064</td>\n",
       "      <td>0.372613</td>\n",
       "      <td>0.396457</td>\n",
       "      <td>0.397270</td>\n",
       "    </tr>\n",
       "    <tr>\n",
       "      <td>12</td>\n",
       "      <td>0.164700</td>\n",
       "      <td>0.075633</td>\n",
       "      <td>0.406558</td>\n",
       "      <td>0.384029</td>\n",
       "      <td>0.405216</td>\n",
       "      <td>0.405536</td>\n",
       "    </tr>\n",
       "    <tr>\n",
       "      <td>13</td>\n",
       "      <td>0.164700</td>\n",
       "      <td>0.064696</td>\n",
       "      <td>0.403893</td>\n",
       "      <td>0.379096</td>\n",
       "      <td>0.401566</td>\n",
       "      <td>0.402111</td>\n",
       "    </tr>\n",
       "    <tr>\n",
       "      <td>14</td>\n",
       "      <td>0.106700</td>\n",
       "      <td>0.066519</td>\n",
       "      <td>0.401763</td>\n",
       "      <td>0.375610</td>\n",
       "      <td>0.399267</td>\n",
       "      <td>0.399923</td>\n",
       "    </tr>\n",
       "    <tr>\n",
       "      <td>15</td>\n",
       "      <td>0.106700</td>\n",
       "      <td>0.064168</td>\n",
       "      <td>0.403846</td>\n",
       "      <td>0.378598</td>\n",
       "      <td>0.401194</td>\n",
       "      <td>0.401912</td>\n",
       "    </tr>\n",
       "    <tr>\n",
       "      <td>16</td>\n",
       "      <td>0.106700</td>\n",
       "      <td>0.061696</td>\n",
       "      <td>0.405376</td>\n",
       "      <td>0.382070</td>\n",
       "      <td>0.404064</td>\n",
       "      <td>0.404156</td>\n",
       "    </tr>\n",
       "    <tr>\n",
       "      <td>17</td>\n",
       "      <td>0.106700</td>\n",
       "      <td>0.063733</td>\n",
       "      <td>0.404590</td>\n",
       "      <td>0.381387</td>\n",
       "      <td>0.403292</td>\n",
       "      <td>0.403446</td>\n",
       "    </tr>\n",
       "    <tr>\n",
       "      <td>18</td>\n",
       "      <td>0.106700</td>\n",
       "      <td>0.063537</td>\n",
       "      <td>0.404281</td>\n",
       "      <td>0.379354</td>\n",
       "      <td>0.401909</td>\n",
       "      <td>0.402262</td>\n",
       "    </tr>\n",
       "    <tr>\n",
       "      <td>19</td>\n",
       "      <td>0.106700</td>\n",
       "      <td>0.069688</td>\n",
       "      <td>0.403439</td>\n",
       "      <td>0.379932</td>\n",
       "      <td>0.401618</td>\n",
       "      <td>0.402114</td>\n",
       "    </tr>\n",
       "    <tr>\n",
       "      <td>20</td>\n",
       "      <td>0.076900</td>\n",
       "      <td>0.063580</td>\n",
       "      <td>0.404492</td>\n",
       "      <td>0.381432</td>\n",
       "      <td>0.403360</td>\n",
       "      <td>0.403267</td>\n",
       "    </tr>\n",
       "  </tbody>\n",
       "</table><p>"
      ],
      "text/plain": [
       "<IPython.core.display.HTML object>"
      ]
     },
     "metadata": {},
     "output_type": "display_data"
    },
    {
     "data": {
      "text/html": [
       "\n",
       "    <div>\n",
       "      \n",
       "      <progress value='34' max='17' style='width:300px; height:20px; vertical-align: middle;'></progress>\n",
       "      [17/17 02:06]\n",
       "    </div>\n",
       "    "
      ],
      "text/plain": [
       "<IPython.core.display.HTML object>"
      ]
     },
     "metadata": {},
     "output_type": "display_data"
    },
    {
     "name": "stderr",
     "output_type": "stream",
     "text": [
      "Map: 100%|██████████| 1800/1800 [00:08<00:00, 212.22 examples/s]\n",
      "Map: 100%|██████████| 200/200 [00:00<00:00, 376.07 examples/s]\n"
     ]
    },
    {
     "data": {
      "text/html": [
       "\n",
       "    <div>\n",
       "      \n",
       "      <progress value='1500' max='1500' style='width:300px; height:20px; vertical-align: middle;'></progress>\n",
       "      [1500/1500 32:07, Epoch 20/20]\n",
       "    </div>\n",
       "    <table border=\"1\" class=\"dataframe\">\n",
       "  <thead>\n",
       " <tr style=\"text-align: left;\">\n",
       "      <th>Epoch</th>\n",
       "      <th>Training Loss</th>\n",
       "      <th>Validation Loss</th>\n",
       "      <th>Rouge1</th>\n",
       "      <th>Rouge2</th>\n",
       "      <th>Rougel</th>\n",
       "      <th>Rougelsum</th>\n",
       "    </tr>\n",
       "  </thead>\n",
       "  <tbody>\n",
       "    <tr>\n",
       "      <td>1</td>\n",
       "      <td>No log</td>\n",
       "      <td>0.142327</td>\n",
       "      <td>0.416846</td>\n",
       "      <td>0.394999</td>\n",
       "      <td>0.413090</td>\n",
       "      <td>0.414817</td>\n",
       "    </tr>\n",
       "    <tr>\n",
       "      <td>2</td>\n",
       "      <td>No log</td>\n",
       "      <td>0.057901</td>\n",
       "      <td>0.419560</td>\n",
       "      <td>0.398587</td>\n",
       "      <td>0.415920</td>\n",
       "      <td>0.417070</td>\n",
       "    </tr>\n",
       "    <tr>\n",
       "      <td>3</td>\n",
       "      <td>No log</td>\n",
       "      <td>0.073529</td>\n",
       "      <td>0.414845</td>\n",
       "      <td>0.393639</td>\n",
       "      <td>0.411853</td>\n",
       "      <td>0.413005</td>\n",
       "    </tr>\n",
       "    <tr>\n",
       "      <td>4</td>\n",
       "      <td>No log</td>\n",
       "      <td>0.056515</td>\n",
       "      <td>0.417103</td>\n",
       "      <td>0.395399</td>\n",
       "      <td>0.413033</td>\n",
       "      <td>0.414709</td>\n",
       "    </tr>\n",
       "    <tr>\n",
       "      <td>5</td>\n",
       "      <td>No log</td>\n",
       "      <td>0.046258</td>\n",
       "      <td>0.418374</td>\n",
       "      <td>0.395948</td>\n",
       "      <td>0.413820</td>\n",
       "      <td>0.415693</td>\n",
       "    </tr>\n",
       "    <tr>\n",
       "      <td>6</td>\n",
       "      <td>No log</td>\n",
       "      <td>0.045891</td>\n",
       "      <td>0.417661</td>\n",
       "      <td>0.393274</td>\n",
       "      <td>0.412191</td>\n",
       "      <td>0.414440</td>\n",
       "    </tr>\n",
       "    <tr>\n",
       "      <td>7</td>\n",
       "      <td>0.107100</td>\n",
       "      <td>0.055041</td>\n",
       "      <td>0.416188</td>\n",
       "      <td>0.392838</td>\n",
       "      <td>0.411618</td>\n",
       "      <td>0.413287</td>\n",
       "    </tr>\n",
       "    <tr>\n",
       "      <td>8</td>\n",
       "      <td>0.107100</td>\n",
       "      <td>0.045833</td>\n",
       "      <td>0.418086</td>\n",
       "      <td>0.394226</td>\n",
       "      <td>0.412785</td>\n",
       "      <td>0.414664</td>\n",
       "    </tr>\n",
       "    <tr>\n",
       "      <td>9</td>\n",
       "      <td>0.107100</td>\n",
       "      <td>0.045942</td>\n",
       "      <td>0.418353</td>\n",
       "      <td>0.394515</td>\n",
       "      <td>0.413284</td>\n",
       "      <td>0.415322</td>\n",
       "    </tr>\n",
       "    <tr>\n",
       "      <td>10</td>\n",
       "      <td>0.107100</td>\n",
       "      <td>0.072462</td>\n",
       "      <td>0.417684</td>\n",
       "      <td>0.394105</td>\n",
       "      <td>0.412779</td>\n",
       "      <td>0.414353</td>\n",
       "    </tr>\n",
       "    <tr>\n",
       "      <td>11</td>\n",
       "      <td>0.107100</td>\n",
       "      <td>0.059202</td>\n",
       "      <td>0.416259</td>\n",
       "      <td>0.393585</td>\n",
       "      <td>0.411895</td>\n",
       "      <td>0.413310</td>\n",
       "    </tr>\n",
       "    <tr>\n",
       "      <td>12</td>\n",
       "      <td>0.107100</td>\n",
       "      <td>0.057401</td>\n",
       "      <td>0.418444</td>\n",
       "      <td>0.394377</td>\n",
       "      <td>0.413205</td>\n",
       "      <td>0.415215</td>\n",
       "    </tr>\n",
       "    <tr>\n",
       "      <td>13</td>\n",
       "      <td>0.107100</td>\n",
       "      <td>0.056122</td>\n",
       "      <td>0.419920</td>\n",
       "      <td>0.397004</td>\n",
       "      <td>0.415120</td>\n",
       "      <td>0.416537</td>\n",
       "    </tr>\n",
       "    <tr>\n",
       "      <td>14</td>\n",
       "      <td>0.072300</td>\n",
       "      <td>0.053188</td>\n",
       "      <td>0.418888</td>\n",
       "      <td>0.395477</td>\n",
       "      <td>0.413738</td>\n",
       "      <td>0.415343</td>\n",
       "    </tr>\n",
       "    <tr>\n",
       "      <td>15</td>\n",
       "      <td>0.072300</td>\n",
       "      <td>0.047999</td>\n",
       "      <td>0.419043</td>\n",
       "      <td>0.396300</td>\n",
       "      <td>0.414480</td>\n",
       "      <td>0.415659</td>\n",
       "    </tr>\n",
       "    <tr>\n",
       "      <td>16</td>\n",
       "      <td>0.072300</td>\n",
       "      <td>0.061702</td>\n",
       "      <td>0.418733</td>\n",
       "      <td>0.394927</td>\n",
       "      <td>0.413973</td>\n",
       "      <td>0.415732</td>\n",
       "    </tr>\n",
       "    <tr>\n",
       "      <td>17</td>\n",
       "      <td>0.072300</td>\n",
       "      <td>0.049669</td>\n",
       "      <td>0.419410</td>\n",
       "      <td>0.395628</td>\n",
       "      <td>0.413992</td>\n",
       "      <td>0.415965</td>\n",
       "    </tr>\n",
       "    <tr>\n",
       "      <td>18</td>\n",
       "      <td>0.072300</td>\n",
       "      <td>0.044203</td>\n",
       "      <td>0.418439</td>\n",
       "      <td>0.394572</td>\n",
       "      <td>0.413329</td>\n",
       "      <td>0.415244</td>\n",
       "    </tr>\n",
       "    <tr>\n",
       "      <td>19</td>\n",
       "      <td>0.072300</td>\n",
       "      <td>0.043624</td>\n",
       "      <td>0.418397</td>\n",
       "      <td>0.394478</td>\n",
       "      <td>0.413228</td>\n",
       "      <td>0.414581</td>\n",
       "    </tr>\n",
       "    <tr>\n",
       "      <td>20</td>\n",
       "      <td>0.050700</td>\n",
       "      <td>0.043965</td>\n",
       "      <td>0.418423</td>\n",
       "      <td>0.394704</td>\n",
       "      <td>0.413255</td>\n",
       "      <td>0.414669</td>\n",
       "    </tr>\n",
       "  </tbody>\n",
       "</table><p>"
      ],
      "text/plain": [
       "<IPython.core.display.HTML object>"
      ]
     },
     "metadata": {},
     "output_type": "display_data"
    },
    {
     "data": {
      "text/html": [
       "\n",
       "    <div>\n",
       "      \n",
       "      <progress value='34' max='17' style='width:300px; height:20px; vertical-align: middle;'></progress>\n",
       "      [17/17 02:20]\n",
       "    </div>\n",
       "    "
      ],
      "text/plain": [
       "<IPython.core.display.HTML object>"
      ]
     },
     "metadata": {},
     "output_type": "display_data"
    },
    {
     "name": "stderr",
     "output_type": "stream",
     "text": [
      "Map: 100%|██████████| 1800/1800 [00:05<00:00, 324.95 examples/s]\n",
      "Map: 100%|██████████| 200/200 [00:00<00:00, 431.59 examples/s]\n"
     ]
    },
    {
     "data": {
      "text/html": [
       "\n",
       "    <div>\n",
       "      \n",
       "      <progress value='1500' max='1500' style='width:300px; height:20px; vertical-align: middle;'></progress>\n",
       "      [1500/1500 32:34, Epoch 20/20]\n",
       "    </div>\n",
       "    <table border=\"1\" class=\"dataframe\">\n",
       "  <thead>\n",
       " <tr style=\"text-align: left;\">\n",
       "      <th>Epoch</th>\n",
       "      <th>Training Loss</th>\n",
       "      <th>Validation Loss</th>\n",
       "      <th>Rouge1</th>\n",
       "      <th>Rouge2</th>\n",
       "      <th>Rougel</th>\n",
       "      <th>Rougelsum</th>\n",
       "    </tr>\n",
       "  </thead>\n",
       "  <tbody>\n",
       "    <tr>\n",
       "      <td>1</td>\n",
       "      <td>No log</td>\n",
       "      <td>0.038347</td>\n",
       "      <td>0.421725</td>\n",
       "      <td>0.403774</td>\n",
       "      <td>0.421493</td>\n",
       "      <td>0.421319</td>\n",
       "    </tr>\n",
       "    <tr>\n",
       "      <td>2</td>\n",
       "      <td>No log</td>\n",
       "      <td>0.043123</td>\n",
       "      <td>0.422697</td>\n",
       "      <td>0.404328</td>\n",
       "      <td>0.422105</td>\n",
       "      <td>0.422060</td>\n",
       "    </tr>\n",
       "    <tr>\n",
       "      <td>3</td>\n",
       "      <td>No log</td>\n",
       "      <td>0.042001</td>\n",
       "      <td>0.422435</td>\n",
       "      <td>0.403945</td>\n",
       "      <td>0.421828</td>\n",
       "      <td>0.421818</td>\n",
       "    </tr>\n",
       "    <tr>\n",
       "      <td>4</td>\n",
       "      <td>No log</td>\n",
       "      <td>0.039421</td>\n",
       "      <td>0.420669</td>\n",
       "      <td>0.400036</td>\n",
       "      <td>0.418590</td>\n",
       "      <td>0.418580</td>\n",
       "    </tr>\n",
       "    <tr>\n",
       "      <td>5</td>\n",
       "      <td>No log</td>\n",
       "      <td>0.059225</td>\n",
       "      <td>0.422748</td>\n",
       "      <td>0.404081</td>\n",
       "      <td>0.421586</td>\n",
       "      <td>0.421749</td>\n",
       "    </tr>\n",
       "    <tr>\n",
       "      <td>6</td>\n",
       "      <td>No log</td>\n",
       "      <td>0.035079</td>\n",
       "      <td>0.422347</td>\n",
       "      <td>0.404089</td>\n",
       "      <td>0.421700</td>\n",
       "      <td>0.421723</td>\n",
       "    </tr>\n",
       "    <tr>\n",
       "      <td>7</td>\n",
       "      <td>0.070500</td>\n",
       "      <td>0.048578</td>\n",
       "      <td>0.420912</td>\n",
       "      <td>0.402408</td>\n",
       "      <td>0.420228</td>\n",
       "      <td>0.420133</td>\n",
       "    </tr>\n",
       "    <tr>\n",
       "      <td>8</td>\n",
       "      <td>0.070500</td>\n",
       "      <td>0.053893</td>\n",
       "      <td>0.419583</td>\n",
       "      <td>0.401293</td>\n",
       "      <td>0.419220</td>\n",
       "      <td>0.418818</td>\n",
       "    </tr>\n",
       "    <tr>\n",
       "      <td>9</td>\n",
       "      <td>0.070500</td>\n",
       "      <td>0.036044</td>\n",
       "      <td>0.421895</td>\n",
       "      <td>0.403194</td>\n",
       "      <td>0.421129</td>\n",
       "      <td>0.421212</td>\n",
       "    </tr>\n",
       "    <tr>\n",
       "      <td>10</td>\n",
       "      <td>0.070500</td>\n",
       "      <td>0.037174</td>\n",
       "      <td>0.421917</td>\n",
       "      <td>0.403557</td>\n",
       "      <td>0.421226</td>\n",
       "      <td>0.421442</td>\n",
       "    </tr>\n",
       "    <tr>\n",
       "      <td>11</td>\n",
       "      <td>0.070500</td>\n",
       "      <td>0.037298</td>\n",
       "      <td>0.421739</td>\n",
       "      <td>0.403003</td>\n",
       "      <td>0.421304</td>\n",
       "      <td>0.421001</td>\n",
       "    </tr>\n",
       "    <tr>\n",
       "      <td>12</td>\n",
       "      <td>0.070500</td>\n",
       "      <td>0.045787</td>\n",
       "      <td>0.421207</td>\n",
       "      <td>0.402646</td>\n",
       "      <td>0.420637</td>\n",
       "      <td>0.420434</td>\n",
       "    </tr>\n",
       "    <tr>\n",
       "      <td>13</td>\n",
       "      <td>0.070500</td>\n",
       "      <td>0.037040</td>\n",
       "      <td>0.422517</td>\n",
       "      <td>0.404089</td>\n",
       "      <td>0.421897</td>\n",
       "      <td>0.421892</td>\n",
       "    </tr>\n",
       "    <tr>\n",
       "      <td>14</td>\n",
       "      <td>0.049800</td>\n",
       "      <td>0.040009</td>\n",
       "      <td>0.422389</td>\n",
       "      <td>0.403831</td>\n",
       "      <td>0.421598</td>\n",
       "      <td>0.421633</td>\n",
       "    </tr>\n",
       "    <tr>\n",
       "      <td>15</td>\n",
       "      <td>0.049800</td>\n",
       "      <td>0.039509</td>\n",
       "      <td>0.422389</td>\n",
       "      <td>0.403831</td>\n",
       "      <td>0.421598</td>\n",
       "      <td>0.421633</td>\n",
       "    </tr>\n",
       "    <tr>\n",
       "      <td>16</td>\n",
       "      <td>0.049800</td>\n",
       "      <td>0.037177</td>\n",
       "      <td>0.422389</td>\n",
       "      <td>0.403831</td>\n",
       "      <td>0.421598</td>\n",
       "      <td>0.421633</td>\n",
       "    </tr>\n",
       "    <tr>\n",
       "      <td>17</td>\n",
       "      <td>0.049800</td>\n",
       "      <td>0.034239</td>\n",
       "      <td>0.422225</td>\n",
       "      <td>0.403755</td>\n",
       "      <td>0.421515</td>\n",
       "      <td>0.421622</td>\n",
       "    </tr>\n",
       "    <tr>\n",
       "      <td>18</td>\n",
       "      <td>0.049800</td>\n",
       "      <td>0.045498</td>\n",
       "      <td>0.422389</td>\n",
       "      <td>0.403961</td>\n",
       "      <td>0.421598</td>\n",
       "      <td>0.421745</td>\n",
       "    </tr>\n",
       "    <tr>\n",
       "      <td>19</td>\n",
       "      <td>0.049800</td>\n",
       "      <td>0.034199</td>\n",
       "      <td>0.422389</td>\n",
       "      <td>0.403961</td>\n",
       "      <td>0.421598</td>\n",
       "      <td>0.421745</td>\n",
       "    </tr>\n",
       "    <tr>\n",
       "      <td>20</td>\n",
       "      <td>0.034700</td>\n",
       "      <td>0.034777</td>\n",
       "      <td>0.422389</td>\n",
       "      <td>0.403961</td>\n",
       "      <td>0.421598</td>\n",
       "      <td>0.421745</td>\n",
       "    </tr>\n",
       "  </tbody>\n",
       "</table><p>"
      ],
      "text/plain": [
       "<IPython.core.display.HTML object>"
      ]
     },
     "metadata": {},
     "output_type": "display_data"
    },
    {
     "data": {
      "text/html": [
       "\n",
       "    <div>\n",
       "      \n",
       "      <progress value='34' max='17' style='width:300px; height:20px; vertical-align: middle;'></progress>\n",
       "      [17/17 02:15]\n",
       "    </div>\n",
       "    "
      ],
      "text/plain": [
       "<IPython.core.display.HTML object>"
      ]
     },
     "metadata": {},
     "output_type": "display_data"
    },
    {
     "name": "stderr",
     "output_type": "stream",
     "text": [
      "Map: 100%|██████████| 1800/1800 [00:10<00:00, 170.84 examples/s]\n",
      "Map: 100%|██████████| 200/200 [00:00<00:00, 408.49 examples/s]\n"
     ]
    },
    {
     "data": {
      "text/html": [
       "\n",
       "    <div>\n",
       "      \n",
       "      <progress value='1500' max='1500' style='width:300px; height:20px; vertical-align: middle;'></progress>\n",
       "      [1500/1500 31:52, Epoch 20/20]\n",
       "    </div>\n",
       "    <table border=\"1\" class=\"dataframe\">\n",
       "  <thead>\n",
       " <tr style=\"text-align: left;\">\n",
       "      <th>Epoch</th>\n",
       "      <th>Training Loss</th>\n",
       "      <th>Validation Loss</th>\n",
       "      <th>Rouge1</th>\n",
       "      <th>Rouge2</th>\n",
       "      <th>Rougel</th>\n",
       "      <th>Rougelsum</th>\n",
       "    </tr>\n",
       "  </thead>\n",
       "  <tbody>\n",
       "    <tr>\n",
       "      <td>1</td>\n",
       "      <td>No log</td>\n",
       "      <td>0.029590</td>\n",
       "      <td>0.433875</td>\n",
       "      <td>0.414325</td>\n",
       "      <td>0.432634</td>\n",
       "      <td>0.433279</td>\n",
       "    </tr>\n",
       "    <tr>\n",
       "      <td>2</td>\n",
       "      <td>No log</td>\n",
       "      <td>0.086528</td>\n",
       "      <td>0.433805</td>\n",
       "      <td>0.413301</td>\n",
       "      <td>0.432305</td>\n",
       "      <td>0.433125</td>\n",
       "    </tr>\n",
       "    <tr>\n",
       "      <td>3</td>\n",
       "      <td>No log</td>\n",
       "      <td>0.032434</td>\n",
       "      <td>0.434199</td>\n",
       "      <td>0.415285</td>\n",
       "      <td>0.433461</td>\n",
       "      <td>0.433850</td>\n",
       "    </tr>\n",
       "    <tr>\n",
       "      <td>4</td>\n",
       "      <td>No log</td>\n",
       "      <td>0.071422</td>\n",
       "      <td>0.433651</td>\n",
       "      <td>0.413588</td>\n",
       "      <td>0.432202</td>\n",
       "      <td>0.433060</td>\n",
       "    </tr>\n",
       "    <tr>\n",
       "      <td>5</td>\n",
       "      <td>No log</td>\n",
       "      <td>0.036016</td>\n",
       "      <td>0.434232</td>\n",
       "      <td>0.414824</td>\n",
       "      <td>0.433066</td>\n",
       "      <td>0.433587</td>\n",
       "    </tr>\n",
       "    <tr>\n",
       "      <td>6</td>\n",
       "      <td>No log</td>\n",
       "      <td>0.033710</td>\n",
       "      <td>0.433443</td>\n",
       "      <td>0.412903</td>\n",
       "      <td>0.431857</td>\n",
       "      <td>0.432724</td>\n",
       "    </tr>\n",
       "    <tr>\n",
       "      <td>7</td>\n",
       "      <td>0.050900</td>\n",
       "      <td>0.058399</td>\n",
       "      <td>0.434282</td>\n",
       "      <td>0.414148</td>\n",
       "      <td>0.432986</td>\n",
       "      <td>0.433688</td>\n",
       "    </tr>\n",
       "    <tr>\n",
       "      <td>8</td>\n",
       "      <td>0.050900</td>\n",
       "      <td>0.033302</td>\n",
       "      <td>0.433633</td>\n",
       "      <td>0.413721</td>\n",
       "      <td>0.432533</td>\n",
       "      <td>0.433193</td>\n",
       "    </tr>\n",
       "    <tr>\n",
       "      <td>9</td>\n",
       "      <td>0.050900</td>\n",
       "      <td>0.056583</td>\n",
       "      <td>0.431724</td>\n",
       "      <td>0.412366</td>\n",
       "      <td>0.430410</td>\n",
       "      <td>0.431015</td>\n",
       "    </tr>\n",
       "    <tr>\n",
       "      <td>10</td>\n",
       "      <td>0.050900</td>\n",
       "      <td>0.041597</td>\n",
       "      <td>0.432550</td>\n",
       "      <td>0.413259</td>\n",
       "      <td>0.431068</td>\n",
       "      <td>0.431909</td>\n",
       "    </tr>\n",
       "    <tr>\n",
       "      <td>11</td>\n",
       "      <td>0.050900</td>\n",
       "      <td>0.034510</td>\n",
       "      <td>0.434062</td>\n",
       "      <td>0.414770</td>\n",
       "      <td>0.432506</td>\n",
       "      <td>0.433448</td>\n",
       "    </tr>\n",
       "    <tr>\n",
       "      <td>12</td>\n",
       "      <td>0.050900</td>\n",
       "      <td>0.033722</td>\n",
       "      <td>0.433809</td>\n",
       "      <td>0.414417</td>\n",
       "      <td>0.432502</td>\n",
       "      <td>0.433350</td>\n",
       "    </tr>\n",
       "    <tr>\n",
       "      <td>13</td>\n",
       "      <td>0.050900</td>\n",
       "      <td>0.035764</td>\n",
       "      <td>0.433810</td>\n",
       "      <td>0.413915</td>\n",
       "      <td>0.432121</td>\n",
       "      <td>0.432775</td>\n",
       "    </tr>\n",
       "    <tr>\n",
       "      <td>14</td>\n",
       "      <td>0.037400</td>\n",
       "      <td>0.029452</td>\n",
       "      <td>0.433996</td>\n",
       "      <td>0.413814</td>\n",
       "      <td>0.432124</td>\n",
       "      <td>0.433304</td>\n",
       "    </tr>\n",
       "    <tr>\n",
       "      <td>15</td>\n",
       "      <td>0.037400</td>\n",
       "      <td>0.032140</td>\n",
       "      <td>0.433798</td>\n",
       "      <td>0.412827</td>\n",
       "      <td>0.432333</td>\n",
       "      <td>0.433101</td>\n",
       "    </tr>\n",
       "    <tr>\n",
       "      <td>16</td>\n",
       "      <td>0.037400</td>\n",
       "      <td>0.031849</td>\n",
       "      <td>0.433595</td>\n",
       "      <td>0.412435</td>\n",
       "      <td>0.431684</td>\n",
       "      <td>0.432590</td>\n",
       "    </tr>\n",
       "    <tr>\n",
       "      <td>17</td>\n",
       "      <td>0.037400</td>\n",
       "      <td>0.031125</td>\n",
       "      <td>0.433996</td>\n",
       "      <td>0.413814</td>\n",
       "      <td>0.432124</td>\n",
       "      <td>0.433304</td>\n",
       "    </tr>\n",
       "    <tr>\n",
       "      <td>18</td>\n",
       "      <td>0.037400</td>\n",
       "      <td>0.031104</td>\n",
       "      <td>0.433793</td>\n",
       "      <td>0.413323</td>\n",
       "      <td>0.431933</td>\n",
       "      <td>0.432986</td>\n",
       "    </tr>\n",
       "    <tr>\n",
       "      <td>19</td>\n",
       "      <td>0.037400</td>\n",
       "      <td>0.032360</td>\n",
       "      <td>0.433996</td>\n",
       "      <td>0.413814</td>\n",
       "      <td>0.432124</td>\n",
       "      <td>0.433304</td>\n",
       "    </tr>\n",
       "    <tr>\n",
       "      <td>20</td>\n",
       "      <td>0.027400</td>\n",
       "      <td>0.032438</td>\n",
       "      <td>0.433996</td>\n",
       "      <td>0.413814</td>\n",
       "      <td>0.432124</td>\n",
       "      <td>0.433304</td>\n",
       "    </tr>\n",
       "  </tbody>\n",
       "</table><p>"
      ],
      "text/plain": [
       "<IPython.core.display.HTML object>"
      ]
     },
     "metadata": {},
     "output_type": "display_data"
    },
    {
     "data": {
      "text/html": [
       "\n",
       "    <div>\n",
       "      \n",
       "      <progress value='34' max='17' style='width:300px; height:20px; vertical-align: middle;'></progress>\n",
       "      [17/17 02:03]\n",
       "    </div>\n",
       "    "
      ],
      "text/plain": [
       "<IPython.core.display.HTML object>"
      ]
     },
     "metadata": {},
     "output_type": "display_data"
    },
    {
     "name": "stderr",
     "output_type": "stream",
     "text": [
      "Map: 100%|██████████| 1800/1800 [00:05<00:00, 328.24 examples/s]\n",
      "Map: 100%|██████████| 200/200 [00:00<00:00, 416.67 examples/s]\n"
     ]
    },
    {
     "data": {
      "text/html": [
       "\n",
       "    <div>\n",
       "      \n",
       "      <progress value='1500' max='1500' style='width:300px; height:20px; vertical-align: middle;'></progress>\n",
       "      [1500/1500 32:11, Epoch 20/20]\n",
       "    </div>\n",
       "    <table border=\"1\" class=\"dataframe\">\n",
       "  <thead>\n",
       " <tr style=\"text-align: left;\">\n",
       "      <th>Epoch</th>\n",
       "      <th>Training Loss</th>\n",
       "      <th>Validation Loss</th>\n",
       "      <th>Rouge1</th>\n",
       "      <th>Rouge2</th>\n",
       "      <th>Rougel</th>\n",
       "      <th>Rougelsum</th>\n",
       "    </tr>\n",
       "  </thead>\n",
       "  <tbody>\n",
       "    <tr>\n",
       "      <td>1</td>\n",
       "      <td>No log</td>\n",
       "      <td>0.046131</td>\n",
       "      <td>0.429790</td>\n",
       "      <td>0.411103</td>\n",
       "      <td>0.428886</td>\n",
       "      <td>0.429829</td>\n",
       "    </tr>\n",
       "    <tr>\n",
       "      <td>2</td>\n",
       "      <td>No log</td>\n",
       "      <td>0.038581</td>\n",
       "      <td>0.431093</td>\n",
       "      <td>0.411854</td>\n",
       "      <td>0.430400</td>\n",
       "      <td>0.431146</td>\n",
       "    </tr>\n",
       "    <tr>\n",
       "      <td>3</td>\n",
       "      <td>No log</td>\n",
       "      <td>0.036970</td>\n",
       "      <td>0.430814</td>\n",
       "      <td>0.411570</td>\n",
       "      <td>0.430334</td>\n",
       "      <td>0.431029</td>\n",
       "    </tr>\n",
       "    <tr>\n",
       "      <td>4</td>\n",
       "      <td>No log</td>\n",
       "      <td>0.037363</td>\n",
       "      <td>0.430978</td>\n",
       "      <td>0.412036</td>\n",
       "      <td>0.430340</td>\n",
       "      <td>0.431050</td>\n",
       "    </tr>\n",
       "    <tr>\n",
       "      <td>5</td>\n",
       "      <td>No log</td>\n",
       "      <td>0.034091</td>\n",
       "      <td>0.430564</td>\n",
       "      <td>0.411423</td>\n",
       "      <td>0.429776</td>\n",
       "      <td>0.430746</td>\n",
       "    </tr>\n",
       "    <tr>\n",
       "      <td>6</td>\n",
       "      <td>No log</td>\n",
       "      <td>0.040050</td>\n",
       "      <td>0.430499</td>\n",
       "      <td>0.411234</td>\n",
       "      <td>0.429707</td>\n",
       "      <td>0.430536</td>\n",
       "    </tr>\n",
       "    <tr>\n",
       "      <td>7</td>\n",
       "      <td>0.040300</td>\n",
       "      <td>0.033764</td>\n",
       "      <td>0.430148</td>\n",
       "      <td>0.410287</td>\n",
       "      <td>0.429183</td>\n",
       "      <td>0.430078</td>\n",
       "    </tr>\n",
       "    <tr>\n",
       "      <td>8</td>\n",
       "      <td>0.040300</td>\n",
       "      <td>0.033171</td>\n",
       "      <td>0.430200</td>\n",
       "      <td>0.410615</td>\n",
       "      <td>0.429509</td>\n",
       "      <td>0.430359</td>\n",
       "    </tr>\n",
       "    <tr>\n",
       "      <td>9</td>\n",
       "      <td>0.040300</td>\n",
       "      <td>0.037319</td>\n",
       "      <td>0.430509</td>\n",
       "      <td>0.411107</td>\n",
       "      <td>0.429838</td>\n",
       "      <td>0.430640</td>\n",
       "    </tr>\n",
       "    <tr>\n",
       "      <td>10</td>\n",
       "      <td>0.040300</td>\n",
       "      <td>0.040150</td>\n",
       "      <td>0.430615</td>\n",
       "      <td>0.411002</td>\n",
       "      <td>0.429721</td>\n",
       "      <td>0.430649</td>\n",
       "    </tr>\n",
       "    <tr>\n",
       "      <td>11</td>\n",
       "      <td>0.040300</td>\n",
       "      <td>0.033131</td>\n",
       "      <td>0.430141</td>\n",
       "      <td>0.410230</td>\n",
       "      <td>0.429428</td>\n",
       "      <td>0.430187</td>\n",
       "    </tr>\n",
       "    <tr>\n",
       "      <td>12</td>\n",
       "      <td>0.040300</td>\n",
       "      <td>0.042345</td>\n",
       "      <td>0.429961</td>\n",
       "      <td>0.410211</td>\n",
       "      <td>0.429158</td>\n",
       "      <td>0.430183</td>\n",
       "    </tr>\n",
       "    <tr>\n",
       "      <td>13</td>\n",
       "      <td>0.040300</td>\n",
       "      <td>0.039391</td>\n",
       "      <td>0.430412</td>\n",
       "      <td>0.410962</td>\n",
       "      <td>0.429688</td>\n",
       "      <td>0.430610</td>\n",
       "    </tr>\n",
       "    <tr>\n",
       "      <td>14</td>\n",
       "      <td>0.029400</td>\n",
       "      <td>0.035273</td>\n",
       "      <td>0.430548</td>\n",
       "      <td>0.410917</td>\n",
       "      <td>0.429923</td>\n",
       "      <td>0.430702</td>\n",
       "    </tr>\n",
       "    <tr>\n",
       "      <td>15</td>\n",
       "      <td>0.029400</td>\n",
       "      <td>0.031977</td>\n",
       "      <td>0.430548</td>\n",
       "      <td>0.410917</td>\n",
       "      <td>0.429923</td>\n",
       "      <td>0.430702</td>\n",
       "    </tr>\n",
       "    <tr>\n",
       "      <td>16</td>\n",
       "      <td>0.029400</td>\n",
       "      <td>0.031692</td>\n",
       "      <td>0.430437</td>\n",
       "      <td>0.410857</td>\n",
       "      <td>0.429743</td>\n",
       "      <td>0.430630</td>\n",
       "    </tr>\n",
       "    <tr>\n",
       "      <td>17</td>\n",
       "      <td>0.029400</td>\n",
       "      <td>0.053943</td>\n",
       "      <td>0.430548</td>\n",
       "      <td>0.410917</td>\n",
       "      <td>0.429923</td>\n",
       "      <td>0.430702</td>\n",
       "    </tr>\n",
       "    <tr>\n",
       "      <td>18</td>\n",
       "      <td>0.029400</td>\n",
       "      <td>0.034656</td>\n",
       "      <td>0.430548</td>\n",
       "      <td>0.410917</td>\n",
       "      <td>0.429923</td>\n",
       "      <td>0.430702</td>\n",
       "    </tr>\n",
       "    <tr>\n",
       "      <td>19</td>\n",
       "      <td>0.029400</td>\n",
       "      <td>0.033675</td>\n",
       "      <td>0.430548</td>\n",
       "      <td>0.410917</td>\n",
       "      <td>0.429923</td>\n",
       "      <td>0.430702</td>\n",
       "    </tr>\n",
       "    <tr>\n",
       "      <td>20</td>\n",
       "      <td>0.019000</td>\n",
       "      <td>0.031793</td>\n",
       "      <td>0.430548</td>\n",
       "      <td>0.410917</td>\n",
       "      <td>0.429923</td>\n",
       "      <td>0.430702</td>\n",
       "    </tr>\n",
       "  </tbody>\n",
       "</table><p>"
      ],
      "text/plain": [
       "<IPython.core.display.HTML object>"
      ]
     },
     "metadata": {},
     "output_type": "display_data"
    },
    {
     "data": {
      "text/html": [
       "\n",
       "    <div>\n",
       "      \n",
       "      <progress value='34' max='17' style='width:300px; height:20px; vertical-align: middle;'></progress>\n",
       "      [17/17 02:06]\n",
       "    </div>\n",
       "    "
      ],
      "text/plain": [
       "<IPython.core.display.HTML object>"
      ]
     },
     "metadata": {},
     "output_type": "display_data"
    },
    {
     "name": "stderr",
     "output_type": "stream",
     "text": [
      "Map: 100%|██████████| 1800/1800 [00:04<00:00, 409.70 examples/s]\n",
      "Map: 100%|██████████| 200/200 [00:00<00:00, 421.83 examples/s]\n"
     ]
    },
    {
     "data": {
      "text/html": [
       "\n",
       "    <div>\n",
       "      \n",
       "      <progress value='1500' max='1500' style='width:300px; height:20px; vertical-align: middle;'></progress>\n",
       "      [1500/1500 31:59, Epoch 20/20]\n",
       "    </div>\n",
       "    <table border=\"1\" class=\"dataframe\">\n",
       "  <thead>\n",
       " <tr style=\"text-align: left;\">\n",
       "      <th>Epoch</th>\n",
       "      <th>Training Loss</th>\n",
       "      <th>Validation Loss</th>\n",
       "      <th>Rouge1</th>\n",
       "      <th>Rouge2</th>\n",
       "      <th>Rougel</th>\n",
       "      <th>Rougelsum</th>\n",
       "    </tr>\n",
       "  </thead>\n",
       "  <tbody>\n",
       "    <tr>\n",
       "      <td>1</td>\n",
       "      <td>No log</td>\n",
       "      <td>0.028518</td>\n",
       "      <td>0.422896</td>\n",
       "      <td>0.396384</td>\n",
       "      <td>0.422651</td>\n",
       "      <td>0.422708</td>\n",
       "    </tr>\n",
       "    <tr>\n",
       "      <td>2</td>\n",
       "      <td>No log</td>\n",
       "      <td>0.059398</td>\n",
       "      <td>0.422887</td>\n",
       "      <td>0.395844</td>\n",
       "      <td>0.422610</td>\n",
       "      <td>0.422595</td>\n",
       "    </tr>\n",
       "    <tr>\n",
       "      <td>3</td>\n",
       "      <td>No log</td>\n",
       "      <td>0.027570</td>\n",
       "      <td>0.423011</td>\n",
       "      <td>0.396418</td>\n",
       "      <td>0.422690</td>\n",
       "      <td>0.422768</td>\n",
       "    </tr>\n",
       "    <tr>\n",
       "      <td>4</td>\n",
       "      <td>No log</td>\n",
       "      <td>0.036190</td>\n",
       "      <td>0.422772</td>\n",
       "      <td>0.396218</td>\n",
       "      <td>0.422488</td>\n",
       "      <td>0.422492</td>\n",
       "    </tr>\n",
       "    <tr>\n",
       "      <td>5</td>\n",
       "      <td>No log</td>\n",
       "      <td>0.033121</td>\n",
       "      <td>0.423097</td>\n",
       "      <td>0.396397</td>\n",
       "      <td>0.422695</td>\n",
       "      <td>0.422740</td>\n",
       "    </tr>\n",
       "    <tr>\n",
       "      <td>6</td>\n",
       "      <td>No log</td>\n",
       "      <td>0.029683</td>\n",
       "      <td>0.423715</td>\n",
       "      <td>0.396686</td>\n",
       "      <td>0.423392</td>\n",
       "      <td>0.423469</td>\n",
       "    </tr>\n",
       "    <tr>\n",
       "      <td>7</td>\n",
       "      <td>0.032800</td>\n",
       "      <td>0.030137</td>\n",
       "      <td>0.422892</td>\n",
       "      <td>0.396340</td>\n",
       "      <td>0.422562</td>\n",
       "      <td>0.422652</td>\n",
       "    </tr>\n",
       "    <tr>\n",
       "      <td>8</td>\n",
       "      <td>0.032800</td>\n",
       "      <td>0.045365</td>\n",
       "      <td>0.422892</td>\n",
       "      <td>0.396340</td>\n",
       "      <td>0.422562</td>\n",
       "      <td>0.422652</td>\n",
       "    </tr>\n",
       "    <tr>\n",
       "      <td>9</td>\n",
       "      <td>0.032800</td>\n",
       "      <td>0.030146</td>\n",
       "      <td>0.422772</td>\n",
       "      <td>0.396047</td>\n",
       "      <td>0.422488</td>\n",
       "      <td>0.422492</td>\n",
       "    </tr>\n",
       "    <tr>\n",
       "      <td>10</td>\n",
       "      <td>0.032800</td>\n",
       "      <td>0.030626</td>\n",
       "      <td>0.422892</td>\n",
       "      <td>0.396340</td>\n",
       "      <td>0.422562</td>\n",
       "      <td>0.422652</td>\n",
       "    </tr>\n",
       "    <tr>\n",
       "      <td>11</td>\n",
       "      <td>0.032800</td>\n",
       "      <td>0.063848</td>\n",
       "      <td>0.423097</td>\n",
       "      <td>0.396397</td>\n",
       "      <td>0.422695</td>\n",
       "      <td>0.422740</td>\n",
       "    </tr>\n",
       "    <tr>\n",
       "      <td>12</td>\n",
       "      <td>0.032800</td>\n",
       "      <td>0.036654</td>\n",
       "      <td>0.422892</td>\n",
       "      <td>0.396246</td>\n",
       "      <td>0.422529</td>\n",
       "      <td>0.422572</td>\n",
       "    </tr>\n",
       "    <tr>\n",
       "      <td>13</td>\n",
       "      <td>0.032800</td>\n",
       "      <td>0.040344</td>\n",
       "      <td>0.423856</td>\n",
       "      <td>0.396798</td>\n",
       "      <td>0.423451</td>\n",
       "      <td>0.423744</td>\n",
       "    </tr>\n",
       "    <tr>\n",
       "      <td>14</td>\n",
       "      <td>0.024000</td>\n",
       "      <td>0.050827</td>\n",
       "      <td>0.422943</td>\n",
       "      <td>0.396148</td>\n",
       "      <td>0.422522</td>\n",
       "      <td>0.422715</td>\n",
       "    </tr>\n",
       "    <tr>\n",
       "      <td>15</td>\n",
       "      <td>0.024000</td>\n",
       "      <td>0.029210</td>\n",
       "      <td>0.423670</td>\n",
       "      <td>0.396955</td>\n",
       "      <td>0.423408</td>\n",
       "      <td>0.423487</td>\n",
       "    </tr>\n",
       "    <tr>\n",
       "      <td>16</td>\n",
       "      <td>0.024000</td>\n",
       "      <td>0.027104</td>\n",
       "      <td>0.423670</td>\n",
       "      <td>0.396955</td>\n",
       "      <td>0.423408</td>\n",
       "      <td>0.423487</td>\n",
       "    </tr>\n",
       "    <tr>\n",
       "      <td>17</td>\n",
       "      <td>0.024000</td>\n",
       "      <td>0.044878</td>\n",
       "      <td>0.423773</td>\n",
       "      <td>0.396757</td>\n",
       "      <td>0.423392</td>\n",
       "      <td>0.423548</td>\n",
       "    </tr>\n",
       "    <tr>\n",
       "      <td>18</td>\n",
       "      <td>0.024000</td>\n",
       "      <td>0.051646</td>\n",
       "      <td>0.423902</td>\n",
       "      <td>0.396798</td>\n",
       "      <td>0.423523</td>\n",
       "      <td>0.423744</td>\n",
       "    </tr>\n",
       "    <tr>\n",
       "      <td>19</td>\n",
       "      <td>0.024000</td>\n",
       "      <td>0.031323</td>\n",
       "      <td>0.423670</td>\n",
       "      <td>0.396955</td>\n",
       "      <td>0.423408</td>\n",
       "      <td>0.423487</td>\n",
       "    </tr>\n",
       "    <tr>\n",
       "      <td>20</td>\n",
       "      <td>0.015900</td>\n",
       "      <td>0.029935</td>\n",
       "      <td>0.423670</td>\n",
       "      <td>0.396955</td>\n",
       "      <td>0.423408</td>\n",
       "      <td>0.423487</td>\n",
       "    </tr>\n",
       "  </tbody>\n",
       "</table><p>"
      ],
      "text/plain": [
       "<IPython.core.display.HTML object>"
      ]
     },
     "metadata": {},
     "output_type": "display_data"
    },
    {
     "data": {
      "text/html": [
       "\n",
       "    <div>\n",
       "      \n",
       "      <progress value='34' max='17' style='width:300px; height:20px; vertical-align: middle;'></progress>\n",
       "      [17/17 01:57]\n",
       "    </div>\n",
       "    "
      ],
      "text/plain": [
       "<IPython.core.display.HTML object>"
      ]
     },
     "metadata": {},
     "output_type": "display_data"
    },
    {
     "name": "stderr",
     "output_type": "stream",
     "text": [
      "Map: 100%|██████████| 1800/1800 [00:05<00:00, 305.91 examples/s]\n",
      "Map: 100%|██████████| 200/200 [00:00<00:00, 413.77 examples/s]\n"
     ]
    },
    {
     "data": {
      "text/html": [
       "\n",
       "    <div>\n",
       "      \n",
       "      <progress value='1500' max='1500' style='width:300px; height:20px; vertical-align: middle;'></progress>\n",
       "      [1500/1500 32:12, Epoch 20/20]\n",
       "    </div>\n",
       "    <table border=\"1\" class=\"dataframe\">\n",
       "  <thead>\n",
       " <tr style=\"text-align: left;\">\n",
       "      <th>Epoch</th>\n",
       "      <th>Training Loss</th>\n",
       "      <th>Validation Loss</th>\n",
       "      <th>Rouge1</th>\n",
       "      <th>Rouge2</th>\n",
       "      <th>Rougel</th>\n",
       "      <th>Rougelsum</th>\n",
       "    </tr>\n",
       "  </thead>\n",
       "  <tbody>\n",
       "    <tr>\n",
       "      <td>1</td>\n",
       "      <td>No log</td>\n",
       "      <td>0.061752</td>\n",
       "      <td>0.418781</td>\n",
       "      <td>0.400395</td>\n",
       "      <td>0.418817</td>\n",
       "      <td>0.418648</td>\n",
       "    </tr>\n",
       "    <tr>\n",
       "      <td>2</td>\n",
       "      <td>No log</td>\n",
       "      <td>0.031002</td>\n",
       "      <td>0.419056</td>\n",
       "      <td>0.400699</td>\n",
       "      <td>0.418940</td>\n",
       "      <td>0.418918</td>\n",
       "    </tr>\n",
       "    <tr>\n",
       "      <td>3</td>\n",
       "      <td>No log</td>\n",
       "      <td>0.054678</td>\n",
       "      <td>0.419509</td>\n",
       "      <td>0.400324</td>\n",
       "      <td>0.419117</td>\n",
       "      <td>0.418978</td>\n",
       "    </tr>\n",
       "    <tr>\n",
       "      <td>4</td>\n",
       "      <td>No log</td>\n",
       "      <td>0.030299</td>\n",
       "      <td>0.419509</td>\n",
       "      <td>0.400324</td>\n",
       "      <td>0.419117</td>\n",
       "      <td>0.418978</td>\n",
       "    </tr>\n",
       "    <tr>\n",
       "      <td>5</td>\n",
       "      <td>No log</td>\n",
       "      <td>0.045297</td>\n",
       "      <td>0.418246</td>\n",
       "      <td>0.398419</td>\n",
       "      <td>0.416998</td>\n",
       "      <td>0.417552</td>\n",
       "    </tr>\n",
       "    <tr>\n",
       "      <td>6</td>\n",
       "      <td>No log</td>\n",
       "      <td>0.055381</td>\n",
       "      <td>0.418933</td>\n",
       "      <td>0.400270</td>\n",
       "      <td>0.418866</td>\n",
       "      <td>0.418798</td>\n",
       "    </tr>\n",
       "    <tr>\n",
       "      <td>7</td>\n",
       "      <td>0.028000</td>\n",
       "      <td>0.031221</td>\n",
       "      <td>0.418005</td>\n",
       "      <td>0.398201</td>\n",
       "      <td>0.416582</td>\n",
       "      <td>0.417426</td>\n",
       "    </tr>\n",
       "    <tr>\n",
       "      <td>8</td>\n",
       "      <td>0.028000</td>\n",
       "      <td>0.066742</td>\n",
       "      <td>0.418498</td>\n",
       "      <td>0.400009</td>\n",
       "      <td>0.417808</td>\n",
       "      <td>0.418028</td>\n",
       "    </tr>\n",
       "    <tr>\n",
       "      <td>9</td>\n",
       "      <td>0.028000</td>\n",
       "      <td>0.030686</td>\n",
       "      <td>0.418132</td>\n",
       "      <td>0.399209</td>\n",
       "      <td>0.417553</td>\n",
       "      <td>0.417892</td>\n",
       "    </tr>\n",
       "    <tr>\n",
       "      <td>10</td>\n",
       "      <td>0.028000</td>\n",
       "      <td>0.033476</td>\n",
       "      <td>0.417809</td>\n",
       "      <td>0.398796</td>\n",
       "      <td>0.417323</td>\n",
       "      <td>0.417575</td>\n",
       "    </tr>\n",
       "    <tr>\n",
       "      <td>11</td>\n",
       "      <td>0.028000</td>\n",
       "      <td>0.030917</td>\n",
       "      <td>0.418240</td>\n",
       "      <td>0.398820</td>\n",
       "      <td>0.417637</td>\n",
       "      <td>0.418024</td>\n",
       "    </tr>\n",
       "    <tr>\n",
       "      <td>12</td>\n",
       "      <td>0.028000</td>\n",
       "      <td>0.041334</td>\n",
       "      <td>0.418253</td>\n",
       "      <td>0.399252</td>\n",
       "      <td>0.417637</td>\n",
       "      <td>0.417973</td>\n",
       "    </tr>\n",
       "    <tr>\n",
       "      <td>13</td>\n",
       "      <td>0.028000</td>\n",
       "      <td>0.036296</td>\n",
       "      <td>0.418251</td>\n",
       "      <td>0.399246</td>\n",
       "      <td>0.417633</td>\n",
       "      <td>0.417966</td>\n",
       "    </tr>\n",
       "    <tr>\n",
       "      <td>14</td>\n",
       "      <td>0.019400</td>\n",
       "      <td>0.044973</td>\n",
       "      <td>0.418332</td>\n",
       "      <td>0.399291</td>\n",
       "      <td>0.417728</td>\n",
       "      <td>0.418003</td>\n",
       "    </tr>\n",
       "    <tr>\n",
       "      <td>15</td>\n",
       "      <td>0.019400</td>\n",
       "      <td>0.031789</td>\n",
       "      <td>0.418107</td>\n",
       "      <td>0.399152</td>\n",
       "      <td>0.417470</td>\n",
       "      <td>0.417710</td>\n",
       "    </tr>\n",
       "    <tr>\n",
       "      <td>16</td>\n",
       "      <td>0.019400</td>\n",
       "      <td>0.032028</td>\n",
       "      <td>0.418332</td>\n",
       "      <td>0.399291</td>\n",
       "      <td>0.417728</td>\n",
       "      <td>0.418003</td>\n",
       "    </tr>\n",
       "    <tr>\n",
       "      <td>17</td>\n",
       "      <td>0.019400</td>\n",
       "      <td>0.031783</td>\n",
       "      <td>0.418107</td>\n",
       "      <td>0.399152</td>\n",
       "      <td>0.417470</td>\n",
       "      <td>0.417710</td>\n",
       "    </tr>\n",
       "    <tr>\n",
       "      <td>18</td>\n",
       "      <td>0.019400</td>\n",
       "      <td>0.048145</td>\n",
       "      <td>0.418332</td>\n",
       "      <td>0.399291</td>\n",
       "      <td>0.417728</td>\n",
       "      <td>0.418003</td>\n",
       "    </tr>\n",
       "    <tr>\n",
       "      <td>19</td>\n",
       "      <td>0.019400</td>\n",
       "      <td>0.032028</td>\n",
       "      <td>0.418332</td>\n",
       "      <td>0.399291</td>\n",
       "      <td>0.417728</td>\n",
       "      <td>0.418003</td>\n",
       "    </tr>\n",
       "    <tr>\n",
       "      <td>20</td>\n",
       "      <td>0.012500</td>\n",
       "      <td>0.030951</td>\n",
       "      <td>0.418332</td>\n",
       "      <td>0.399291</td>\n",
       "      <td>0.417728</td>\n",
       "      <td>0.418003</td>\n",
       "    </tr>\n",
       "  </tbody>\n",
       "</table><p>"
      ],
      "text/plain": [
       "<IPython.core.display.HTML object>"
      ]
     },
     "metadata": {},
     "output_type": "display_data"
    },
    {
     "data": {
      "text/html": [],
      "text/plain": [
       "<IPython.core.display.HTML object>"
      ]
     },
     "metadata": {},
     "output_type": "display_data"
    }
   ],
   "source": [
    "folds = k_fold_split(train_df, num_folds=10)\n",
    "\n",
    "for i in range(len(folds)):\n",
    "    val_fold = folds[i]\n",
    "    train_folds = [folds[j] for j in range(len(folds)) if j != i]\n",
    "    train_dataset = concatenate_datasets(train_folds)\n",
    "\n",
    "    tokenized_train = train_dataset.map(tokenization_with_answer, batched=True)\n",
    "    tokenized_val = val_fold.map(tokenization_with_answer, batched=True)\n",
    "\n",
    "    # Remove unnecessary columns\n",
    "    processed_train = tokenized_train.remove_columns(['table', 'summary', 'row_ids', 'example_id', 'query', 'answers', 'coordinates'])\n",
    "    processed_val = tokenized_val.remove_columns(['table', 'summary', 'row_ids', 'example_id', 'query', 'answers', 'coordinates'])\n",
    "\n",
    "    # Update your trainer's train_dataset and eval_dataset\n",
    "    trainer.train_dataset = processed_train\n",
    "    trainer.eval_dataset = processed_val\n",
    "\n",
    "    # Train your model\n",
    "    trainer.train()\n",
    "    trainer.evaluate()"
   ]
  },
  {
   "cell_type": "code",
   "execution_count": 11,
   "id": "12d1aeab-c09a-4994-9ce2-4f5fc888dac0",
   "metadata": {
    "tags": []
   },
   "outputs": [
    {
     "data": {
      "text/plain": [
       "('BART-decomposed-large/tokenizer_config.json',\n",
       " 'BART-decomposed-large/special_tokens_map.json',\n",
       " 'BART-decomposed-large/vocab.json',\n",
       " 'BART-decomposed-large/merges.txt',\n",
       " 'BART-decomposed-large/added_tokens.json',\n",
       " 'BART-decomposed-large/tokenizer.json')"
      ]
     },
     "execution_count": 11,
     "metadata": {},
     "output_type": "execute_result"
    }
   ],
   "source": [
    "model.save_pretrained(\"BART-decomposed\")\n",
    "tokenizer.save_pretrained(\"BART-decomposed\")"
   ]
  },
  {
   "cell_type": "code",
   "execution_count": null,
   "id": "f8e04438-9d48-4c30-aa91-5855b0efc035",
   "metadata": {},
   "outputs": [],
   "source": []
  },
  {
   "cell_type": "code",
   "execution_count": null,
   "id": "6e0656d9-92aa-4f84-a00f-b9da8b161ed0",
   "metadata": {},
   "outputs": [],
   "source": [
    "#### Predictions"
   ]
  },
  {
   "cell_type": "code",
   "execution_count": 38,
   "id": "f812b076-fb1d-41c2-9788-1ff2605fa410",
   "metadata": {
    "tags": []
   },
   "outputs": [],
   "source": [
    "import warnings\n",
    "import torch\n",
    "warnings.filterwarnings('ignore')\n",
    "torch.cuda.empty_cache()"
   ]
  },
  {
   "cell_type": "code",
   "execution_count": 39,
   "id": "352620ed-c003-46db-ad3c-0d25e996cd0a",
   "metadata": {
    "tags": []
   },
   "outputs": [],
   "source": [
    "from sklearn.model_selection import KFold\n",
    "from datasets import load_dataset, DatasetDict, Dataset, concatenate_datasets\n",
    "import datasets\n",
    "import pandas as pd\n",
    "import os\n",
    "import logging\n",
    "import nltk\n",
    "import numpy as np\n",
    "from transformers import Seq2SeqTrainingArguments, Seq2SeqTrainer, DataCollatorForSeq2Seq\n",
    "import evaluate\n",
    "from transformers import BartForConditionalGeneration, BartTokenizer\n",
    "from random import sample\n",
    "\n",
    "\n",
    "train_df = datasets.load_from_disk(\"/home/y.khan/cai6307-y.khan/Query-Focused-Tabular-Summarization/data/decomposed/decomposed_train\")\n",
    "test_df = datasets.load_from_disk(\"/home/y.khan/cai6307-y.khan/Query-Focused-Tabular-Summarization/data/decomposed/decomposed_test\")\n",
    "validate_df = datasets.load_from_disk(\"/home/y.khan/cai6307-y.khan/Query-Focused-Tabular-Summarization/data/decomposed/decomposed_validate\")"
   ]
  },
  {
   "cell_type": "code",
   "execution_count": 40,
   "id": "703b954b-0869-4a8b-acc5-03457840c0e1",
   "metadata": {
    "tags": []
   },
   "outputs": [],
   "source": [
    "model_path = \"/home/y.khan/cai6307-y.khan/Query-Focused-Tabular-Summarization/models/saved_model/bart-decomposed\"\n",
    "tokenizer = BartTokenizer.from_pretrained(model_path)\n",
    "model = BartForConditionalGeneration.from_pretrained(model_path)"
   ]
  },
  {
   "cell_type": "code",
   "execution_count": 41,
   "id": "f2263f0a-a2a8-437c-aa21-4bfb50344b89",
   "metadata": {
    "tags": []
   },
   "outputs": [
    {
     "name": "stderr",
     "output_type": "stream",
     "text": [
      "Map: 100%|██████████| 2000/2000 [00:09<00:00, 207.31 examples/s]\n",
      "Map: 100%|██████████| 500/500 [00:02<00:00, 236.72 examples/s]\n"
     ]
    }
   ],
   "source": [
    "from typing import List, Dict\n",
    "\n",
    "def tokenization_with_answer(examples):\n",
    "    inputs = []\n",
    "    targets = []\n",
    "    \n",
    "    task_prefix = \"Given a query and a table, generate a summary that answers the query based on the information in the table: \"\n",
    "\n",
    "    for i, (query, table, answer, coordinates, summary) in enumerate(zip(examples['query'], examples['table'], examples['answers'], examples['coordinates'], examples['summary'])):\n",
    "        flattened_table = flatten_table(table, i)\n",
    "        input_text = f\"{task_prefix} Table {flattened_table}. Query: {query}\"\n",
    "\n",
    "        inputs.append(input_text)\n",
    "        targets.append(summary)\n",
    "        \n",
    "    model_inputs = tokenizer(inputs, max_length=1024, truncation=True,padding='max_length')\n",
    "    with tokenizer.as_target_tokenizer():\n",
    "        labels = tokenizer(examples[\"summary\"], max_length=512, truncation=True)\n",
    "    \n",
    "    model_inputs[\"labels\"] = labels[\"input_ids\"] \n",
    "\n",
    "    res = tokenizer(inputs, text_target=targets, truncation=True, padding=True)\n",
    "    return model_inputs\n",
    "\n",
    "def flatten_table(table: Dict, row_index: int) -> str:\n",
    "    header = table.get('header', [])\n",
    "    rows = table.get('rows', [])\n",
    "    title = table.get('title', [])\n",
    "\n",
    "    flattened_rows = []\n",
    "    for i, row in enumerate(rows):\n",
    "        row_text = f\"Row {i}, \" + \",\".join([f\"{col}:{val}\" for col, val in zip(header, row)])\n",
    "        flattened_rows.append(\"## \"+row_text)\n",
    "\n",
    "    flattened_table = f\"Title: {' '.join(map(str, title))}\" + \" \" + \" \".join(flattened_rows)\n",
    "    return flattened_table\n",
    "\n",
    "tokenized_dataset_train = train_df.map(tokenization_with_answer, batched=True)\n",
    "tokenized_dataset_test = test_df.map(tokenization_with_answer, batched=True)\n",
    "\n",
    "processed_data_train = tokenized_dataset_train.remove_columns(['table','summary', 'row_ids', 'example_id', 'query', 'answers', 'coordinates'])\n",
    "processed_data_test = tokenized_dataset_test.remove_columns(['table','summary', 'row_ids', 'example_id', 'query', 'answers', 'coordinates'])\n",
    "\n",
    "def postprocess_text(preds, labels):\n",
    "        preds = [pred.strip() for pred in preds]\n",
    "        labels = [label.strip() for label in labels]\n",
    "\n",
    "        # rougeLSum expects newline after each sentence\n",
    "        preds = [\"\\n\".join(nltk.sent_tokenize(pred)) for pred in preds]\n",
    "        labels = [\"\\n\".join(nltk.sent_tokenize(label)) for label in labels]\n",
    "\n",
    "        return preds, labels\n",
    "\n",
    "def metric_fn(eval_predictions):\n",
    "    predictions, labels = eval_predictions\n",
    "    decoded_predictions = tokenizer.batch_decode(predictions, skip_special_tokens=True)\n",
    "    for label in labels:\n",
    "        label[label < 0] = tokenizer.pad_token_id  # Replace masked label tokens\n",
    "    decoded_labels = tokenizer.batch_decode(labels, skip_special_tokens=True)\n",
    "    \n",
    "    decoded_predictions, decoded_labels = postprocess_text(decoded_predictions, decoded_labels)\n",
    "\n",
    "    rouge = evaluate.load('rouge')\n",
    "\n",
    "    # Compute ROUGE scores\n",
    "    rouge_results = rouge.compute(predictions=decoded_predictions, references=decoded_labels)\n",
    "\n",
    "    return rouge_results\n",
    "\n",
    "data_collator = DataCollatorForSeq2Seq(tokenizer=tokenizer, model= model)\n",
    "\n",
    "train_args = Seq2SeqTrainingArguments(\n",
    "    output_dir=\"./train_weights_bart_decomposed\",\n",
    "    learning_rate=3e-5,\n",
    "    per_device_train_batch_size=8,\n",
    "    per_device_eval_batch_size=4,\n",
    "    num_train_epochs=20,\n",
    "    evaluation_strategy=\"epoch\",\n",
    "    save_strategy = \"epoch\",\n",
    "    weight_decay=0.01,\n",
    "    save_total_limit=5,\n",
    "    warmup_ratio=0.03,\n",
    "    load_best_model_at_end=True,\n",
    "    predict_with_generate=True,\n",
    "    overwrite_output_dir= True,\n",
    "    gradient_accumulation_steps = 2\n",
    ")\n",
    "\n",
    "\n",
    "trainer = Seq2SeqTrainer(\n",
    "    model,\n",
    "    train_args,\n",
    "    train_dataset=processed_data_train,\n",
    "    eval_dataset=processed_data_test,\n",
    "    tokenizer=tokenizer,\n",
    "    data_collator=data_collator,\n",
    "    compute_metrics=metric_fn\n",
    ")"
   ]
  },
  {
   "cell_type": "code",
   "execution_count": 42,
   "id": "bba9d85c-b29c-4213-8493-8bcf6d62cae8",
   "metadata": {
    "tags": []
   },
   "outputs": [],
   "source": [
    "validate_df_size = len(validate_df)\n",
    "step_size = 3\n",
    "num_batches = validate_df_size // step_size\n",
    "\n",
    "valid = []\n",
    "\n",
    "for i in range(num_batches):\n",
    "    start_index = i * step_size\n",
    "    end_index = (i + 1) * step_size\n",
    "    valid.append(validate_df.select(range(start_index, end_index)))\n",
    "\n",
    "# If there are remaining data points that don't fit into full batches of size 3\n",
    "if validate_df_size % step_size != 0:\n",
    "    remaining_data = validate_df_size % step_size\n",
    "    valid.append(validate_df.select(range(validate_df_size - remaining_data, validate_df_size)))"
   ]
  },
  {
   "cell_type": "code",
   "execution_count": 43,
   "id": "66670580-9e93-4e8d-9ca0-49e3ad55fe01",
   "metadata": {
    "tags": []
   },
   "outputs": [
    {
     "name": "stderr",
     "output_type": "stream",
     "text": [
      "Map: 100%|██████████| 3/3 [00:00<00:00, 130.16 examples/s]\n"
     ]
    },
    {
     "data": {
      "text/html": [],
      "text/plain": [
       "<IPython.core.display.HTML object>"
      ]
     },
     "metadata": {},
     "output_type": "display_data"
    },
    {
     "name": "stderr",
     "output_type": "stream",
     "text": [
      "Some weights of RobertaModel were not initialized from the model checkpoint at roberta-large and are newly initialized: ['roberta.pooler.dense.weight', 'roberta.pooler.dense.bias']\n",
      "You should probably TRAIN this model on a down-stream task to be able to use it for predictions and inference.\n",
      "Map: 100%|██████████| 3/3 [00:00<00:00, 98.00 examples/s]\n"
     ]
    },
    {
     "data": {
      "text/html": [],
      "text/plain": [
       "<IPython.core.display.HTML object>"
      ]
     },
     "metadata": {},
     "output_type": "display_data"
    },
    {
     "name": "stderr",
     "output_type": "stream",
     "text": [
      "Map: 100%|██████████| 3/3 [00:00<00:00, 166.15 examples/s]\n"
     ]
    },
    {
     "data": {
      "text/html": [],
      "text/plain": [
       "<IPython.core.display.HTML object>"
      ]
     },
     "metadata": {},
     "output_type": "display_data"
    },
    {
     "name": "stderr",
     "output_type": "stream",
     "text": [
      "Map: 100%|██████████| 3/3 [00:00<00:00, 125.45 examples/s]\n"
     ]
    },
    {
     "data": {
      "text/html": [],
      "text/plain": [
       "<IPython.core.display.HTML object>"
      ]
     },
     "metadata": {},
     "output_type": "display_data"
    },
    {
     "name": "stderr",
     "output_type": "stream",
     "text": [
      "Map: 100%|██████████| 3/3 [00:00<00:00, 169.81 examples/s]\n"
     ]
    },
    {
     "data": {
      "text/html": [],
      "text/plain": [
       "<IPython.core.display.HTML object>"
      ]
     },
     "metadata": {},
     "output_type": "display_data"
    },
    {
     "name": "stderr",
     "output_type": "stream",
     "text": [
      "Map: 100%|██████████| 3/3 [00:00<00:00, 68.18 examples/s]\n"
     ]
    },
    {
     "data": {
      "text/html": [],
      "text/plain": [
       "<IPython.core.display.HTML object>"
      ]
     },
     "metadata": {},
     "output_type": "display_data"
    },
    {
     "name": "stderr",
     "output_type": "stream",
     "text": [
      "Map: 100%|██████████| 3/3 [00:00<00:00, 121.25 examples/s]\n"
     ]
    },
    {
     "data": {
      "text/html": [],
      "text/plain": [
       "<IPython.core.display.HTML object>"
      ]
     },
     "metadata": {},
     "output_type": "display_data"
    },
    {
     "name": "stderr",
     "output_type": "stream",
     "text": [
      "Map: 100%|██████████| 3/3 [00:00<00:00, 77.10 examples/s]\n"
     ]
    },
    {
     "data": {
      "text/html": [],
      "text/plain": [
       "<IPython.core.display.HTML object>"
      ]
     },
     "metadata": {},
     "output_type": "display_data"
    },
    {
     "name": "stderr",
     "output_type": "stream",
     "text": [
      "Map: 100%|██████████| 3/3 [00:00<00:00, 125.26 examples/s]\n"
     ]
    },
    {
     "data": {
      "text/html": [],
      "text/plain": [
       "<IPython.core.display.HTML object>"
      ]
     },
     "metadata": {},
     "output_type": "display_data"
    },
    {
     "name": "stderr",
     "output_type": "stream",
     "text": [
      "Map: 100%|██████████| 3/3 [00:00<00:00, 141.32 examples/s]\n"
     ]
    },
    {
     "data": {
      "text/html": [],
      "text/plain": [
       "<IPython.core.display.HTML object>"
      ]
     },
     "metadata": {},
     "output_type": "display_data"
    },
    {
     "name": "stderr",
     "output_type": "stream",
     "text": [
      "Map: 100%|██████████| 3/3 [00:00<00:00, 92.52 examples/s]\n"
     ]
    },
    {
     "data": {
      "text/html": [],
      "text/plain": [
       "<IPython.core.display.HTML object>"
      ]
     },
     "metadata": {},
     "output_type": "display_data"
    },
    {
     "name": "stderr",
     "output_type": "stream",
     "text": [
      "Map: 100%|██████████| 3/3 [00:00<00:00, 76.76 examples/s]\n"
     ]
    },
    {
     "data": {
      "text/html": [],
      "text/plain": [
       "<IPython.core.display.HTML object>"
      ]
     },
     "metadata": {},
     "output_type": "display_data"
    },
    {
     "name": "stderr",
     "output_type": "stream",
     "text": [
      "Map: 100%|██████████| 3/3 [00:00<00:00, 91.14 examples/s]\n"
     ]
    },
    {
     "data": {
      "text/html": [],
      "text/plain": [
       "<IPython.core.display.HTML object>"
      ]
     },
     "metadata": {},
     "output_type": "display_data"
    },
    {
     "name": "stderr",
     "output_type": "stream",
     "text": [
      "Map: 100%|██████████| 3/3 [00:00<00:00, 129.11 examples/s]\n"
     ]
    },
    {
     "data": {
      "text/html": [],
      "text/plain": [
       "<IPython.core.display.HTML object>"
      ]
     },
     "metadata": {},
     "output_type": "display_data"
    },
    {
     "name": "stderr",
     "output_type": "stream",
     "text": [
      "Map: 100%|██████████| 3/3 [00:00<00:00, 157.54 examples/s]\n"
     ]
    },
    {
     "data": {
      "text/html": [],
      "text/plain": [
       "<IPython.core.display.HTML object>"
      ]
     },
     "metadata": {},
     "output_type": "display_data"
    },
    {
     "name": "stderr",
     "output_type": "stream",
     "text": [
      "Map: 100%|██████████| 3/3 [00:00<00:00, 155.58 examples/s]\n"
     ]
    },
    {
     "data": {
      "text/html": [],
      "text/plain": [
       "<IPython.core.display.HTML object>"
      ]
     },
     "metadata": {},
     "output_type": "display_data"
    },
    {
     "name": "stderr",
     "output_type": "stream",
     "text": [
      "Map: 100%|██████████| 3/3 [00:00<00:00, 158.07 examples/s]\n"
     ]
    },
    {
     "data": {
      "text/html": [],
      "text/plain": [
       "<IPython.core.display.HTML object>"
      ]
     },
     "metadata": {},
     "output_type": "display_data"
    },
    {
     "name": "stderr",
     "output_type": "stream",
     "text": [
      "Map: 100%|██████████| 3/3 [00:00<00:00, 91.26 examples/s]\n"
     ]
    },
    {
     "data": {
      "text/html": [],
      "text/plain": [
       "<IPython.core.display.HTML object>"
      ]
     },
     "metadata": {},
     "output_type": "display_data"
    },
    {
     "name": "stderr",
     "output_type": "stream",
     "text": [
      "Map: 100%|██████████| 3/3 [00:00<00:00, 149.69 examples/s]\n"
     ]
    },
    {
     "data": {
      "text/html": [],
      "text/plain": [
       "<IPython.core.display.HTML object>"
      ]
     },
     "metadata": {},
     "output_type": "display_data"
    },
    {
     "name": "stderr",
     "output_type": "stream",
     "text": [
      "Map: 100%|██████████| 3/3 [00:00<00:00, 66.54 examples/s]\n"
     ]
    },
    {
     "data": {
      "text/html": [],
      "text/plain": [
       "<IPython.core.display.HTML object>"
      ]
     },
     "metadata": {},
     "output_type": "display_data"
    },
    {
     "name": "stderr",
     "output_type": "stream",
     "text": [
      "Map: 100%|██████████| 3/3 [00:00<00:00, 69.58 examples/s]\n"
     ]
    },
    {
     "data": {
      "text/html": [],
      "text/plain": [
       "<IPython.core.display.HTML object>"
      ]
     },
     "metadata": {},
     "output_type": "display_data"
    },
    {
     "name": "stderr",
     "output_type": "stream",
     "text": [
      "Map: 100%|██████████| 3/3 [00:00<00:00, 73.68 examples/s]\n"
     ]
    },
    {
     "data": {
      "text/html": [],
      "text/plain": [
       "<IPython.core.display.HTML object>"
      ]
     },
     "metadata": {},
     "output_type": "display_data"
    },
    {
     "name": "stderr",
     "output_type": "stream",
     "text": [
      "Map: 100%|██████████| 3/3 [00:00<00:00, 82.21 examples/s]\n"
     ]
    },
    {
     "data": {
      "text/html": [],
      "text/plain": [
       "<IPython.core.display.HTML object>"
      ]
     },
     "metadata": {},
     "output_type": "display_data"
    },
    {
     "name": "stderr",
     "output_type": "stream",
     "text": [
      "Map: 100%|██████████| 3/3 [00:00<00:00, 188.81 examples/s]\n"
     ]
    },
    {
     "data": {
      "text/html": [],
      "text/plain": [
       "<IPython.core.display.HTML object>"
      ]
     },
     "metadata": {},
     "output_type": "display_data"
    },
    {
     "name": "stderr",
     "output_type": "stream",
     "text": [
      "Map: 100%|██████████| 3/3 [00:00<00:00, 114.94 examples/s]\n"
     ]
    },
    {
     "data": {
      "text/html": [],
      "text/plain": [
       "<IPython.core.display.HTML object>"
      ]
     },
     "metadata": {},
     "output_type": "display_data"
    },
    {
     "name": "stderr",
     "output_type": "stream",
     "text": [
      "Map: 100%|██████████| 3/3 [00:00<00:00, 110.71 examples/s]\n"
     ]
    },
    {
     "data": {
      "text/html": [],
      "text/plain": [
       "<IPython.core.display.HTML object>"
      ]
     },
     "metadata": {},
     "output_type": "display_data"
    },
    {
     "name": "stderr",
     "output_type": "stream",
     "text": [
      "Map: 100%|██████████| 3/3 [00:00<00:00, 115.42 examples/s]\n"
     ]
    },
    {
     "data": {
      "text/html": [],
      "text/plain": [
       "<IPython.core.display.HTML object>"
      ]
     },
     "metadata": {},
     "output_type": "display_data"
    },
    {
     "name": "stderr",
     "output_type": "stream",
     "text": [
      "Map: 100%|██████████| 3/3 [00:00<00:00, 28.26 examples/s]\n"
     ]
    },
    {
     "data": {
      "text/html": [],
      "text/plain": [
       "<IPython.core.display.HTML object>"
      ]
     },
     "metadata": {},
     "output_type": "display_data"
    },
    {
     "name": "stderr",
     "output_type": "stream",
     "text": [
      "Map: 100%|██████████| 3/3 [00:00<00:00, 72.04 examples/s]\n"
     ]
    },
    {
     "data": {
      "text/html": [],
      "text/plain": [
       "<IPython.core.display.HTML object>"
      ]
     },
     "metadata": {},
     "output_type": "display_data"
    },
    {
     "name": "stderr",
     "output_type": "stream",
     "text": [
      "Map: 100%|██████████| 3/3 [00:01<00:00,  2.24 examples/s]\n"
     ]
    },
    {
     "data": {
      "text/html": [],
      "text/plain": [
       "<IPython.core.display.HTML object>"
      ]
     },
     "metadata": {},
     "output_type": "display_data"
    },
    {
     "name": "stderr",
     "output_type": "stream",
     "text": [
      "Map: 100%|██████████| 3/3 [00:00<00:00, 67.22 examples/s]\n"
     ]
    },
    {
     "data": {
      "text/html": [],
      "text/plain": [
       "<IPython.core.display.HTML object>"
      ]
     },
     "metadata": {},
     "output_type": "display_data"
    },
    {
     "name": "stderr",
     "output_type": "stream",
     "text": [
      "Map: 100%|██████████| 3/3 [00:00<00:00, 79.92 examples/s]\n"
     ]
    },
    {
     "data": {
      "text/html": [],
      "text/plain": [
       "<IPython.core.display.HTML object>"
      ]
     },
     "metadata": {},
     "output_type": "display_data"
    },
    {
     "name": "stderr",
     "output_type": "stream",
     "text": [
      "Map: 100%|██████████| 3/3 [00:00<00:00, 66.80 examples/s]\n"
     ]
    },
    {
     "data": {
      "text/html": [],
      "text/plain": [
       "<IPython.core.display.HTML object>"
      ]
     },
     "metadata": {},
     "output_type": "display_data"
    },
    {
     "name": "stderr",
     "output_type": "stream",
     "text": [
      "Map: 100%|██████████| 3/3 [00:00<00:00, 74.02 examples/s]\n"
     ]
    },
    {
     "data": {
      "text/html": [],
      "text/plain": [
       "<IPython.core.display.HTML object>"
      ]
     },
     "metadata": {},
     "output_type": "display_data"
    },
    {
     "name": "stderr",
     "output_type": "stream",
     "text": [
      "Map: 100%|██████████| 3/3 [00:00<00:00, 70.25 examples/s]\n"
     ]
    },
    {
     "data": {
      "text/html": [],
      "text/plain": [
       "<IPython.core.display.HTML object>"
      ]
     },
     "metadata": {},
     "output_type": "display_data"
    },
    {
     "name": "stderr",
     "output_type": "stream",
     "text": [
      "Map: 100%|██████████| 3/3 [00:00<00:00, 93.93 examples/s]\n"
     ]
    },
    {
     "data": {
      "text/html": [],
      "text/plain": [
       "<IPython.core.display.HTML object>"
      ]
     },
     "metadata": {},
     "output_type": "display_data"
    },
    {
     "name": "stderr",
     "output_type": "stream",
     "text": [
      "Map: 100%|██████████| 3/3 [00:00<00:00, 80.04 examples/s]\n"
     ]
    },
    {
     "data": {
      "text/html": [],
      "text/plain": [
       "<IPython.core.display.HTML object>"
      ]
     },
     "metadata": {},
     "output_type": "display_data"
    },
    {
     "name": "stderr",
     "output_type": "stream",
     "text": [
      "Map: 100%|██████████| 3/3 [00:00<00:00, 65.06 examples/s]\n"
     ]
    },
    {
     "data": {
      "text/html": [],
      "text/plain": [
       "<IPython.core.display.HTML object>"
      ]
     },
     "metadata": {},
     "output_type": "display_data"
    },
    {
     "name": "stderr",
     "output_type": "stream",
     "text": [
      "Map: 100%|██████████| 3/3 [00:00<00:00, 100.21 examples/s]\n"
     ]
    },
    {
     "data": {
      "text/html": [],
      "text/plain": [
       "<IPython.core.display.HTML object>"
      ]
     },
     "metadata": {},
     "output_type": "display_data"
    },
    {
     "name": "stderr",
     "output_type": "stream",
     "text": [
      "Map: 100%|██████████| 3/3 [00:00<00:00, 87.32 examples/s]\n"
     ]
    },
    {
     "data": {
      "text/html": [],
      "text/plain": [
       "<IPython.core.display.HTML object>"
      ]
     },
     "metadata": {},
     "output_type": "display_data"
    },
    {
     "name": "stderr",
     "output_type": "stream",
     "text": [
      "Map: 100%|██████████| 3/3 [00:00<00:00, 99.74 examples/s]\n"
     ]
    },
    {
     "data": {
      "text/html": [],
      "text/plain": [
       "<IPython.core.display.HTML object>"
      ]
     },
     "metadata": {},
     "output_type": "display_data"
    },
    {
     "name": "stderr",
     "output_type": "stream",
     "text": [
      "Map: 100%|██████████| 3/3 [00:00<00:00, 93.92 examples/s]\n"
     ]
    },
    {
     "data": {
      "text/html": [],
      "text/plain": [
       "<IPython.core.display.HTML object>"
      ]
     },
     "metadata": {},
     "output_type": "display_data"
    },
    {
     "name": "stderr",
     "output_type": "stream",
     "text": [
      "Map: 100%|██████████| 3/3 [00:00<00:00, 76.09 examples/s]\n"
     ]
    },
    {
     "data": {
      "text/html": [],
      "text/plain": [
       "<IPython.core.display.HTML object>"
      ]
     },
     "metadata": {},
     "output_type": "display_data"
    },
    {
     "name": "stderr",
     "output_type": "stream",
     "text": [
      "Map: 100%|██████████| 3/3 [00:00<00:00, 73.58 examples/s]\n"
     ]
    },
    {
     "data": {
      "text/html": [],
      "text/plain": [
       "<IPython.core.display.HTML object>"
      ]
     },
     "metadata": {},
     "output_type": "display_data"
    },
    {
     "name": "stderr",
     "output_type": "stream",
     "text": [
      "Map: 100%|██████████| 3/3 [00:00<00:00, 71.68 examples/s]\n"
     ]
    },
    {
     "data": {
      "text/html": [],
      "text/plain": [
       "<IPython.core.display.HTML object>"
      ]
     },
     "metadata": {},
     "output_type": "display_data"
    },
    {
     "name": "stderr",
     "output_type": "stream",
     "text": [
      "Map: 100%|██████████| 3/3 [00:00<00:00, 66.68 examples/s]\n"
     ]
    },
    {
     "data": {
      "text/html": [],
      "text/plain": [
       "<IPython.core.display.HTML object>"
      ]
     },
     "metadata": {},
     "output_type": "display_data"
    },
    {
     "name": "stderr",
     "output_type": "stream",
     "text": [
      "Map: 100%|██████████| 3/3 [00:00<00:00, 80.91 examples/s]\n"
     ]
    },
    {
     "data": {
      "text/html": [],
      "text/plain": [
       "<IPython.core.display.HTML object>"
      ]
     },
     "metadata": {},
     "output_type": "display_data"
    },
    {
     "name": "stderr",
     "output_type": "stream",
     "text": [
      "Map: 100%|██████████| 3/3 [00:00<00:00, 51.58 examples/s]\n"
     ]
    },
    {
     "data": {
      "text/html": [],
      "text/plain": [
       "<IPython.core.display.HTML object>"
      ]
     },
     "metadata": {},
     "output_type": "display_data"
    },
    {
     "name": "stderr",
     "output_type": "stream",
     "text": [
      "Map: 100%|██████████| 3/3 [00:00<00:00, 98.53 examples/s]\n"
     ]
    },
    {
     "data": {
      "text/html": [],
      "text/plain": [
       "<IPython.core.display.HTML object>"
      ]
     },
     "metadata": {},
     "output_type": "display_data"
    },
    {
     "name": "stderr",
     "output_type": "stream",
     "text": [
      "Map: 100%|██████████| 3/3 [00:00<00:00, 80.86 examples/s]\n"
     ]
    },
    {
     "data": {
      "text/html": [],
      "text/plain": [
       "<IPython.core.display.HTML object>"
      ]
     },
     "metadata": {},
     "output_type": "display_data"
    },
    {
     "name": "stderr",
     "output_type": "stream",
     "text": [
      "Map: 100%|██████████| 3/3 [00:00<00:00, 87.23 examples/s]\n"
     ]
    },
    {
     "data": {
      "text/html": [],
      "text/plain": [
       "<IPython.core.display.HTML object>"
      ]
     },
     "metadata": {},
     "output_type": "display_data"
    },
    {
     "name": "stderr",
     "output_type": "stream",
     "text": [
      "Map: 100%|██████████| 3/3 [00:00<00:00, 79.48 examples/s]\n"
     ]
    },
    {
     "data": {
      "text/html": [],
      "text/plain": [
       "<IPython.core.display.HTML object>"
      ]
     },
     "metadata": {},
     "output_type": "display_data"
    },
    {
     "name": "stderr",
     "output_type": "stream",
     "text": [
      "Map: 100%|██████████| 3/3 [00:00<00:00, 76.14 examples/s]\n"
     ]
    },
    {
     "data": {
      "text/html": [],
      "text/plain": [
       "<IPython.core.display.HTML object>"
      ]
     },
     "metadata": {},
     "output_type": "display_data"
    },
    {
     "name": "stderr",
     "output_type": "stream",
     "text": [
      "Map: 100%|██████████| 3/3 [00:00<00:00, 90.85 examples/s]\n"
     ]
    },
    {
     "data": {
      "text/html": [],
      "text/plain": [
       "<IPython.core.display.HTML object>"
      ]
     },
     "metadata": {},
     "output_type": "display_data"
    },
    {
     "name": "stderr",
     "output_type": "stream",
     "text": [
      "Map: 100%|██████████| 3/3 [00:00<00:00, 67.45 examples/s]\n"
     ]
    },
    {
     "data": {
      "text/html": [],
      "text/plain": [
       "<IPython.core.display.HTML object>"
      ]
     },
     "metadata": {},
     "output_type": "display_data"
    },
    {
     "name": "stderr",
     "output_type": "stream",
     "text": [
      "Map: 100%|██████████| 3/3 [00:00<00:00, 75.29 examples/s]\n"
     ]
    },
    {
     "data": {
      "text/html": [],
      "text/plain": [
       "<IPython.core.display.HTML object>"
      ]
     },
     "metadata": {},
     "output_type": "display_data"
    },
    {
     "name": "stderr",
     "output_type": "stream",
     "text": [
      "Map: 100%|██████████| 3/3 [00:00<00:00, 102.54 examples/s]\n"
     ]
    },
    {
     "data": {
      "text/html": [],
      "text/plain": [
       "<IPython.core.display.HTML object>"
      ]
     },
     "metadata": {},
     "output_type": "display_data"
    },
    {
     "name": "stderr",
     "output_type": "stream",
     "text": [
      "Map: 100%|██████████| 3/3 [00:00<00:00, 71.98 examples/s]\n"
     ]
    },
    {
     "data": {
      "text/html": [],
      "text/plain": [
       "<IPython.core.display.HTML object>"
      ]
     },
     "metadata": {},
     "output_type": "display_data"
    },
    {
     "name": "stderr",
     "output_type": "stream",
     "text": [
      "Map: 100%|██████████| 3/3 [00:00<00:00, 81.56 examples/s]\n"
     ]
    },
    {
     "data": {
      "text/html": [],
      "text/plain": [
       "<IPython.core.display.HTML object>"
      ]
     },
     "metadata": {},
     "output_type": "display_data"
    },
    {
     "name": "stderr",
     "output_type": "stream",
     "text": [
      "Map: 100%|██████████| 3/3 [00:00<00:00, 85.72 examples/s]\n"
     ]
    },
    {
     "data": {
      "text/html": [],
      "text/plain": [
       "<IPython.core.display.HTML object>"
      ]
     },
     "metadata": {},
     "output_type": "display_data"
    },
    {
     "name": "stderr",
     "output_type": "stream",
     "text": [
      "Map: 100%|██████████| 3/3 [00:00<00:00, 91.44 examples/s]\n"
     ]
    },
    {
     "data": {
      "text/html": [],
      "text/plain": [
       "<IPython.core.display.HTML object>"
      ]
     },
     "metadata": {},
     "output_type": "display_data"
    },
    {
     "name": "stderr",
     "output_type": "stream",
     "text": [
      "Map: 100%|██████████| 3/3 [00:00<00:00, 57.16 examples/s]\n"
     ]
    },
    {
     "data": {
      "text/html": [],
      "text/plain": [
       "<IPython.core.display.HTML object>"
      ]
     },
     "metadata": {},
     "output_type": "display_data"
    },
    {
     "name": "stderr",
     "output_type": "stream",
     "text": [
      "Map: 100%|██████████| 3/3 [00:00<00:00, 70.19 examples/s]\n"
     ]
    },
    {
     "data": {
      "text/html": [],
      "text/plain": [
       "<IPython.core.display.HTML object>"
      ]
     },
     "metadata": {},
     "output_type": "display_data"
    },
    {
     "name": "stderr",
     "output_type": "stream",
     "text": [
      "Map: 100%|██████████| 3/3 [00:00<00:00, 80.62 examples/s]\n"
     ]
    },
    {
     "data": {
      "text/html": [],
      "text/plain": [
       "<IPython.core.display.HTML object>"
      ]
     },
     "metadata": {},
     "output_type": "display_data"
    },
    {
     "name": "stderr",
     "output_type": "stream",
     "text": [
      "Map: 100%|██████████| 3/3 [00:00<00:00, 89.36 examples/s]\n"
     ]
    },
    {
     "data": {
      "text/html": [],
      "text/plain": [
       "<IPython.core.display.HTML object>"
      ]
     },
     "metadata": {},
     "output_type": "display_data"
    },
    {
     "name": "stderr",
     "output_type": "stream",
     "text": [
      "Map: 100%|██████████| 3/3 [00:00<00:00, 73.31 examples/s]\n"
     ]
    },
    {
     "data": {
      "text/html": [],
      "text/plain": [
       "<IPython.core.display.HTML object>"
      ]
     },
     "metadata": {},
     "output_type": "display_data"
    },
    {
     "name": "stderr",
     "output_type": "stream",
     "text": [
      "Map: 100%|██████████| 2/2 [00:00<00:00, 54.46 examples/s]\n"
     ]
    },
    {
     "data": {
      "text/html": [],
      "text/plain": [
       "<IPython.core.display.HTML object>"
      ]
     },
     "metadata": {},
     "output_type": "display_data"
    },
    {
     "data": {
      "text/plain": [
       "(0.4153478758111462, 0.8964134411728795)"
      ]
     },
     "execution_count": 43,
     "metadata": {},
     "output_type": "execute_result"
    }
   ],
   "source": [
    "import numpy as np\n",
    "rougeL = []\n",
    "bert = []\n",
    "bertscore = evaluate.load(\"bertscore\")\n",
    "\n",
    "for i in range(len(valid)):\n",
    "    validate_df = valid[i].map(tokenization_with_answer, batched=True)\n",
    "    predict_results = trainer.predict(validate_df, max_length = 1024)\n",
    "    metrics = predict_results.metrics\n",
    "    predictions = tokenizer.batch_decode(predict_results.predictions, skip_special_tokens=True, clean_up_tokenization_spaces=True)\n",
    "    predictions = [pred.strip() for pred in predictions]\n",
    "    \n",
    "    bert_score = bertscore.compute(predictions=predictions, references=valid[i]['summary'], lang = \"en\")\n",
    "    rougeL.append(metrics['test_rougeLsum'])\n",
    "    bert.append(np.mean(bert_score['f1']))\n",
    "\n",
    "sum(rougeL)/len(rougeL), sum(bert)/len(bert)"
   ]
  },
  {
   "cell_type": "code",
   "execution_count": null,
   "id": "a616f88d-5151-4d3a-9b71-142a2aacb2f9",
   "metadata": {},
   "outputs": [],
   "source": [
    "#### Example"
   ]
  },
  {
   "cell_type": "code",
   "execution_count": 64,
   "id": "1f153d6b-477b-41e2-b8a7-72d360f3c395",
   "metadata": {
    "tags": []
   },
   "outputs": [
    {
     "data": {
      "text/plain": [
       "[0.45078147002769864,\n",
       " 0.4351106427818756,\n",
       " 0.37665967854647103,\n",
       " 0.3851103788647161,\n",
       " 0.31119719109937727,\n",
       " 0.46369415990894874,\n",
       " 0.4362706293679158,\n",
       " 0.4378325123152709,\n",
       " 0.3879378000320138,\n",
       " 0.3811747283799507,\n",
       " 0.39663844029482226,\n",
       " 0.3800516559026628,\n",
       " 0.5059316472310567,\n",
       " 0.45227584010192706,\n",
       " 0.5223989084146478,\n",
       " 0.3913086419753086,\n",
       " 0.4876512105780399,\n",
       " 0.46204170897445906,\n",
       " 0.33460269896265776,\n",
       " 0.2694933561588,\n",
       " 0.3730994152046783,\n",
       " 0.4457557317597886,\n",
       " 0.39991120197420726,\n",
       " 0.4786450238277827,\n",
       " 0.4863509321981083,\n",
       " 0.357163565359385,\n",
       " 0.5571059431524549,\n",
       " 0.5014298457790816,\n",
       " 0.4504016139571471,\n",
       " 0.330868544600939,\n",
       " 0.38143618833274,\n",
       " 0.3568990853201379,\n",
       " 0.436373174206528,\n",
       " 0.35056295807178817,\n",
       " 0.30633230888007956,\n",
       " 0.41498240321769736,\n",
       " 0.4956691449101429,\n",
       " 0.41173069411681484,\n",
       " 0.40507708070803544,\n",
       " 0.39611480809302946,\n",
       " 0.6183053723629911,\n",
       " 0.48314606741573035,\n",
       " 0.48514030980868156,\n",
       " 0.395593220338983,\n",
       " 0.2720991168124571,\n",
       " 0.374791418543702,\n",
       " 0.4030409356725146,\n",
       " 0.44375718974864126,\n",
       " 0.35337321369225655,\n",
       " 0.38894438894438893,\n",
       " 0.40793060718711277,\n",
       " 0.26011142103579415,\n",
       " 0.3624706181309955,\n",
       " 0.4284133641790373,\n",
       " 0.4939939939939941,\n",
       " 0.5324872530387474,\n",
       " 0.44523048617924427,\n",
       " 0.32062313022577926,\n",
       " 0.3104032998769841,\n",
       " 0.4178220168266382,\n",
       " 0.3604094984160702,\n",
       " 0.43939577260811385,\n",
       " 0.40976763028045077,\n",
       " 0.507347670250896,\n",
       " 0.5805022506515044,\n",
       " 0.3450764985214018,\n",
       " 0.38405797101449274]"
      ]
     },
     "execution_count": 64,
     "metadata": {},
     "output_type": "execute_result"
    }
   ],
   "source": [
    "rougeL"
   ]
  },
  {
   "cell_type": "code",
   "execution_count": 95,
   "id": "8c219029-f5e8-4d82-a832-01e4507b2b21",
   "metadata": {
    "tags": []
   },
   "outputs": [
    {
     "data": {
      "text/plain": [
       "40"
      ]
     },
     "execution_count": 95,
     "metadata": {},
     "output_type": "execute_result"
    }
   ],
   "source": [
    "np.argmax(rougeL)"
   ]
  },
  {
   "cell_type": "code",
   "execution_count": 129,
   "id": "91ceec80-517d-4d0a-ba93-7f6e97135de3",
   "metadata": {
    "tags": []
   },
   "outputs": [
    {
     "data": {
      "text/html": [],
      "text/plain": [
       "<IPython.core.display.HTML object>"
      ]
     },
     "metadata": {},
     "output_type": "display_data"
    },
    {
     "data": {
      "text/plain": [
       "['The yearly trend in the total number of acres affected by the wildfires in California based on the start dates and the acreage of each listed fire shows a general upward trend. The most big fire, Mendocino Complex fire, which started in July 2018, has the most acres affected with 459,123 acres, while the most small fire, Camp fire, started in August 1987, only has 140,948 acres. Other fires, like Butte fire, Ventura fire, and Colusa fire, have smaller acreage ranging from 177,866 acres to 281,893 acres.',\n",
       " 'In Columbo\\'s fourth season, the episodes in order are \"An Exercise in Fatality,\" \"Negative Reaction,\" \"By Dawn\\'s Early Light,\" \"Troubled Waters,\" \"Playback,\" and \"A Deadly State of Mind.\" The episodes have corresponding titles, murderers, and victims. The episodes show Robert Conrad, Dick Van Dyke, Patrick McGoohan, Tom Simcox, and Poupée Bocar as the murderers. The victims are Antonette Bower, Don Gordon, Stephen Elliott, and Lesley Ann Warren.',\n",
       " 'The Utah Jazz have had two players who played for the Utah Jazz and attended Byu: Andy Toolson and Jamaal Tinsley. Toolson played with the team from 1990-91 and 1995-96, while Tinsly played from 2011-present for Iowa State.']"
      ]
     },
     "execution_count": 129,
     "metadata": {},
     "output_type": "execute_result"
    }
   ],
   "source": [
    "validate_df = valid[16].map(tokenization_with_answer, batched=True)\n",
    "predict_results = trainer.predict(validate_df, max_length = 1024)\n",
    "\n",
    "predictions = tokenizer.batch_decode(predict_results.predictions, skip_special_tokens=True, clean_up_tokenization_spaces=True)\n",
    "predictions = [pred.strip() for pred in predictions]\n",
    "predictions"
   ]
  },
  {
   "cell_type": "code",
   "execution_count": 130,
   "id": "b27b67e7-7872-4513-b1f7-2f7989bd774b",
   "metadata": {
    "tags": []
   },
   "outputs": [
    {
     "data": {
      "text/plain": [
       "['There are not enough datas to make a sure conclusion about yearly trend of total acres affected by wildfires in California. As this table only has biggest wildfires and not all fires in state, it cannot show the full trend of every year. However, we can see that some more new fires, like Mendocino Complex in 2018 and Thomas Fire in 2017, have very big acreage. This may show that there is a going up trend in how bad wildfires are in recent years.',\n",
       " 'In fourth season of Columbo, first episode is \"An Exercise in Fatality\" on September 15, 1974. Have murderer Robert Conrad and victim Philip Bruns. Second episode is \"Negative Reaction\" on October 6, 1974. Have Dick Van Dyke as murderer and Antoinette Bower and Don Gordon as victims. Other episodes in order are: \"By Dawn\\'s Early Light\" with Patrick McGoohan as murderer and Tom Simcox as victim, \"Troubled Waters\" have Robert Vaughn as murderer and Poupée Bocar as victim, \"Playback\" with Oskar Werner as murderer and Martha Scott as victim, and last \"A Deadly State of Mind\" have George Hamilton as murderer and Stephen Elliott and Lesley Ann Warren as victims.',\n",
       " 'The players who attended Byu and played for the Utah Jazz are Andy Toolson. Toolson first played for the Jazz from 1990-91 and then again from 1995-96. He was a guard and forward and had the jersey number 5.']"
      ]
     },
     "execution_count": 130,
     "metadata": {},
     "output_type": "execute_result"
    }
   ],
   "source": [
    "validate_df['summary']"
   ]
  },
  {
   "cell_type": "code",
   "execution_count": 1,
   "id": "f92fec6d-f147-4987-b53c-47948153091e",
   "metadata": {
    "tags": []
   },
   "outputs": [
    {
     "ename": "NameError",
     "evalue": "name 'valid' is not defined",
     "output_type": "error",
     "traceback": [
      "\u001b[0;31m---------------------------------------------------------------------------\u001b[0m",
      "\u001b[0;31mNameError\u001b[0m                                 Traceback (most recent call last)",
      "Cell \u001b[0;32mIn[1], line 5\u001b[0m\n\u001b[1;32m      2\u001b[0m \u001b[38;5;28;01mdef\u001b[39;00m \u001b[38;5;21mto_pandas\u001b[39m(item):\n\u001b[1;32m      3\u001b[0m   \u001b[38;5;28;01mreturn\u001b[39;00m pd\u001b[38;5;241m.\u001b[39mDataFrame(item[\u001b[38;5;124m'\u001b[39m\u001b[38;5;124mtable\u001b[39m\u001b[38;5;124m'\u001b[39m][\u001b[38;5;124m\"\u001b[39m\u001b[38;5;124mrows\u001b[39m\u001b[38;5;124m\"\u001b[39m],columns\u001b[38;5;241m=\u001b[39mitem[\u001b[38;5;124m'\u001b[39m\u001b[38;5;124mtable\u001b[39m\u001b[38;5;124m'\u001b[39m][\u001b[38;5;124m\"\u001b[39m\u001b[38;5;124mheader\u001b[39m\u001b[38;5;124m\"\u001b[39m])\n\u001b[0;32m----> 5\u001b[0m to_pandas(\u001b[43mvalid\u001b[49m[\u001b[38;5;241m21\u001b[39m][\u001b[38;5;241m2\u001b[39m])\n",
      "\u001b[0;31mNameError\u001b[0m: name 'valid' is not defined"
     ]
    }
   ],
   "source": [
    "import pandas as pd\n",
    "def to_pandas(item):\n",
    "  return pd.DataFrame(item['table'][\"rows\"],columns=item['table'][\"header\"])\n",
    "\n",
    "to_pandas(valid[21][2])"
   ]
  },
  {
   "cell_type": "code",
   "execution_count": 132,
   "id": "89f86666-0137-4ed7-8997-4d88048703b9",
   "metadata": {
    "tags": []
   },
   "outputs": [
    {
     "data": {
      "text/plain": [
       "'1ae05e92-4ca6-483d-9307-488d28b0b31b'"
      ]
     },
     "execution_count": 132,
     "metadata": {},
     "output_type": "execute_result"
    }
   ],
   "source": [
    "valid[16][2]['example_id']"
   ]
  },
  {
   "cell_type": "code",
   "execution_count": 69,
   "id": "6dc69867-0c88-4283-a206-d4f8acd268e2",
   "metadata": {
    "tags": []
   },
   "outputs": [],
   "source": [
    "### Evaluation"
   ]
  },
  {
   "cell_type": "code",
   "execution_count": 7,
   "id": "65cadeda-d578-4fe9-9ed8-3537c5568cdf",
   "metadata": {
    "tags": []
   },
   "outputs": [],
   "source": [
    "model_path = \"/home/y.khan/cai6307-y.khan/Query-Focused-Tabular-Summarization/models/saved_model/bart-decomposed\"\n",
    "model = BartForConditionalGeneration.from_pretrained(model_path)\n",
    "tokenizer = BartTokenizer.from_pretrained(model_path)"
   ]
  },
  {
   "cell_type": "code",
   "execution_count": 24,
   "id": "1e800c65-0fca-4a0c-a4c1-db0351b1f321",
   "metadata": {
    "tags": []
   },
   "outputs": [],
   "source": [
    "from typing import List, Dict\n",
    "\n",
    "def flatten_table(table: Dict) -> str:\n",
    "    header = table.get('header', [])\n",
    "    rows = table.get('rows', [])\n",
    "    title = table.get('title', [])\n",
    "\n",
    "    flattened_rows = []\n",
    "    for i, row in enumerate(rows):\n",
    "        row_text = f\"Row {i}, \" + \",\".join([f\"{col}:{val}\" for col, val in zip(header, row)])\n",
    "        flattened_rows.append(\"## \"+row_text)\n",
    "\n",
    "    flattened_table = f\"Title: {' '.join(map(str, title))}\" + \" \" + \" \".join(flattened_rows)\n",
    "    return flattened_table\n",
    "\n",
    "def generate_predictions(dataset):\n",
    "    generated_texts = []\n",
    "    task_prefix = \"Given a query and a table, generate a summary that answers the query based on the information in the table: \"\n",
    "    for example in dataset:\n",
    "        table = example['table']\n",
    "        query = example['query']\n",
    "        flattened_table = flatten_table(table)\n",
    "        input_text = f\"{task_prefix} Table {flattened_table}. Query: {query}\"\n",
    "        model_input = tokenizer(input_text, max_length=1024, truncation=True, padding='max_length', return_tensors='pt')\n",
    "        output_sequences = model.generate(**model_input, min_length = 512)\n",
    "        generated_text = tokenizer.batch_decode(output_sequences, skip_special_tokens=True)\n",
    "        generated_texts.append(generated_text)\n",
    "\n",
    "    return generated_texts"
   ]
  },
  {
   "cell_type": "code",
   "execution_count": 25,
   "id": "ef8829ae-5a41-432a-92f5-b664f4e068a0",
   "metadata": {
    "tags": []
   },
   "outputs": [],
   "source": [
    "validate_df = datasets.load_from_disk(\"/home/y.khan/cai6307-y.khan/Query-Focused-Tabular-Summarization/data/decomposed/decomposed_validate\")\n",
    "validate_df = validate_df.shuffle().select(range(10))\n",
    "predictions = generate_predictions(validate_df)"
   ]
  },
  {
   "cell_type": "code",
   "execution_count": 26,
   "id": "357aa78b-af11-40e5-a097-2852ad1c1623",
   "metadata": {
    "tags": []
   },
   "outputs": [
    {
     "data": {
      "text/plain": [
       "[['The trend in UK viewership for Series 2 of Torchwood episodes based on the UK viewers'],\n",
       " ['George Harrison\\'s \"My Sweet Lord\" was released in 1970, and it'],\n",
       " ['China has the strongest overall power in the 2008 Summer Olympics. This can be seen from'],\n",
       " ['The top three deadliest storms according to the provided data are Haiyan (Yolanda'],\n",
       " ['Emilia Attías act in two films in 2016. These movies name'],\n",
       " ['Robin Frijns had one of his best performances in the Formula Renault 3.5'],\n",
       " ['The best performances in terms of batting average (minimum 80 at bats - ab)'],\n",
       " ['The Lynx constellation is home to three objects: a spiral galaxy, an'],\n",
       " ['Between 1994 and 2018, an athlete from the sport of Alpine skiing has been chosen as'],\n",
       " ['Inkster had shortest membership time in Western Wayne Athletic Conference, join in 2013']]"
      ]
     },
     "execution_count": 26,
     "metadata": {},
     "output_type": "execute_result"
    }
   ],
   "source": [
    "predictions"
   ]
  },
  {
   "cell_type": "code",
   "execution_count": 27,
   "id": "6bd0d838-262a-42ef-8a2f-a393ac5ad843",
   "metadata": {
    "tags": []
   },
   "outputs": [
    {
     "data": {
      "text/plain": [
       "['The trend in UK watch of Torchwood Series 2of episodes change many times in the series, but can see it have a little down in all watch. The series start very good with 4.22 million people watch first episode, named \"Kiss Kiss, Bang Bang,\" have director Ashley Way. The watch people get most at 4.32 million for number seven episode, called \"Dead Man Walking,\" have director Andy Goddard. But after this, the watch number go down slowly and  get low at 3.13 million for final episode, with name \"Exit Wounds,\" and director Ashley Way again. So at last, even there are some up and down of watch people in series, the all trend show a down from start to the end of Series 2.',\n",
       " 'George Harrison\\'s \"My Sweet Lord,\" released in 1970, sold 10 million copies. Other singles from the 1970s, such as Gloria Gaynor\\'s \"I Will Survive\" and Village People\\'s \"Y.M.C.A.\", both released in 1978, managed to sell more copies at 14 million and 12 million respectively. However, Harrison\\'s sales performance is still on par with other notable singles from the same decade, such as ABBA\\'s \"Fernando\" in 1976 and Middle of the Road\\'s \"Chirpy Chirpy Cheep Cheep\" in 1971, which both sold 10 million copies. Overall, while George Harrison\\'s \"My Sweet Lord\" wasn\\'t the highest-selling single of the 1970s, its sales were still impressive and comparable to other popular songs from the same era.',\n",
       " \"China has the strongest overall power with a team total of 374.675 points. They had the highest scores in Floor, Vault, and Team Total, which all contributed to their overall performance. This was followed closely by Japan with 369.55 points, Russia with 366.225 points, South Korea with 365.675 points, Germany with 365.675 points, United States with 365.2 points, France with 361.2 points, and Romania with 359.35 points respectively. China's impressive results in Floor and Vault demonstrate their strong overall power.\",\n",
       " 'As per given data, the most three deadly storms was \"Haiphong\" on 1881, Haiyan (Yolanda) on 2013, and Thelma (Uring) on 1991. These storms make 20,000, 6,300, and estimated 5,101-8,000 people die in each one.',\n",
       " 'Emilia Attías acted in two films released in 2016, which are \"Dolores\" and \"El muerto cuenta su historia.\"',\n",
       " 'Robin Frijns had his best performances in the Formula Renault 3.5 Series, competing for Fortec Motorsport in 2012. During this season, he raced a total of 17 times, winning three races and recording four pole positions, resulting in eight podiums and 189 points overall. He managed to win this series, taking home first place at the end of the year.',\n",
       " 'The Forest City Owls, they have some good perform in batting average in years. The best perform is in 2015 by Spencer Henderson, who get great batting average of .398; but team no go playoffs that year. Second-best perform in batting average is in 2009 by Konstantine Diamaduros, with average of .376, which helps team to win League Championship that year. In 2012, Alex Close also help team with batting average of .329, but team only go to first round playoffs and then lose. Steven Pallares is good too in 2014 with batting average .326, but team lose in first round. Finally, Kevin Mailloux play 2008 with batting average of .328 but team not go to playoffs.',\n",
       " 'The Lynx constellation is home to several objects, including three galaxies. Two of these galaxies are spiral galaxies, Ngc 2770 and Ngc 2798, while the third is an irregular galaxy, Ngc 2799. All three galaxies can be found within the Right Ascension of 09H09 M33.7S to 09H17 M31.2S and the Declination of Degree07\\'25\" to Degree59\\'36\".',\n",
       " \"In 1994, during the Lillehammer Winter Olympics, athlete Arsen Harutyunyan was chosen as the flag bearer for Armenia. This marked the first time an Alpine skier carried the flag for the country at the Olympics.  During the 2002 Winter Olympics in Salt Lake City, Arsen Nersisyan, an Alpine skier, was selected as Armenia's flag bearer in the opening ceremony.  Arsen Nersisyan was once again chosen as the flag bearer for Armenia in the 2010 Vancouver Winter Olympics, making it the third time an Alpine skier represented the country in this role.\",\n",
       " 'Inkster High School had the shortest membership duration in the Western Wayne Athletic Conference, joining in 2013 and leaving the same year. The circumstances surrounding its exit were due to the school being shut down, with no successive conference affiliation.']"
      ]
     },
     "execution_count": 27,
     "metadata": {},
     "output_type": "execute_result"
    }
   ],
   "source": [
    "validate_df['summary']"
   ]
  },
  {
   "cell_type": "code",
   "execution_count": 75,
   "id": "cc5be145-a7e0-47c4-b516-a71c8e1462e3",
   "metadata": {
    "tags": []
   },
   "outputs": [
    {
     "data": {
      "text/plain": [
       "[\"The 2008 - 09 Connecticut Huskies Women's Basketball Team had three players who scored more than 600 points: Maya Moore, Renee Montgomery and Tina Charles. Maya Moore scored 754 points, playing a total of 1209 minutes. She had 284 field goals, 90 three pointers, and 96 free throws. Montgomery Renee Montgomery scored 644 points in 1237 minutes, compiling 226 field goals, 99 three point shots and 93 free throws. Tina Charles scored 642 points in 982 minutes, with 259 field goals and 124 free throws.\",\n",
       " 'Swiss Locomotive and Machine Works built a Mountain Railway Rack Steam Locomotive with an slm number of 988 in 1896. It has a wheel arrangement of 0 - 4 - 2 T, and is located on the Snowdon Mountain Railway. Its name is Snowdon.',\n",
       " 'The trend of number turbines installed per project in Maine from 2006 to 2017 seem to fluctuate, no consistent increase or decrease over time. Some years have installation of big projects with more number of turbines, like Kibby Mountain in 2010 and Bingham Wind Farm in 2016, while other years have projects with less number of turbines, like Beaver Ridge in 2008 and Pisgah Mountain in 2016.',\n",
       " 'The Open Clusters located in the Columba constellation are NGC 2090. It is a spiral galaxy located . Its‘ right ascension ( J2000 ) was 05H47 M02.3S and Declination (J2000) was Degree15′05″.',\n",
       " 'The artists of the tracks with a BPM of 140 or higher in Dancemania 8 are based in Germany, United Kingdom,Hungary,Croatia/Italy and Switzerland.',\n",
       " 'Jennifer Lawrence 20 years, 163 days old when she get nominated for Academy Award for \"Winter\\'s Bone\". This nomination happened in January 25, 2011.',\n",
       " 'There are 1 object present in the Cancer constellation, which is a Spiral Galaxy (NGC 2775). This galaxy is located at Right Ascension (J2000) 09H10M20.1S and Declination (J2000) Degree02\\'18\".',\n",
       " 'The first game between Bermuda and West Indies happened on 23 April. In this game, Bermuda batted first and scored 5 runs for 174, while West Indies batted second and only managed to score 8 runs for 116 in 20 overs, resulting in a 58-run win for Bermuda.',\n",
       " 'Leigh Adams show gradual better in his position at Speedway Grand Prix from 1996 to 2008. In early year, he at middle position, like 15th, 10th, and 11th in 1996, 1997, and 1998. But his performance better in early 2000s with position around 4th to 7th. In 2007, Adams at his best position is 2nd with 153 points, win three Grand Prix that year.',\n",
       " 'In summary, between 1994 and 2018, the flag bearers for Armenia at the Winter Olympics represented the following sports: 1. Alpine Skiing - 3 times 2. Cross-country Skiing - 3 times 3. Figure Skating - 1 time ',\n",
       " 'There 13 private schools and 15 public schools in Maine. The private schools in 2016 have total enroll 19,978 students, but public schools have more high total enroll 60,880 students. So, public schools have more big total enroll in 2016 than private schools.',\n",
       " 'The Edenton District Brigade, it was operating for seven years, from 1776 to 1783. The first commander is Edward Vail, he was serving with rank of Brigadier General.',\n",
       " 'From 2003 to 2018, the trend in points awarded to the winning videos fluctuates with no clear pattern of consistent increase or decrease. While there are some years that witnessed significantly high scores, such as Russia\\'s \"LML\" by Via Gra with 198 points in 2007, and United Kingdom\\'s \"Hymn For The Weekend\" by Coldplay with a staggering 673 points in 2016, these are followed by relatively lower scores in subsequent years.',\n",
       " 'The teams with total points between 7 and 12 in the 2009 - 10 European Challenge Cup are Bourgoin (8 points), Worcester (7 points). Bourgoin earned 3 points in 2008 - 09, 2 in 2007 - 08, 1 in 2006 - 07, and 2 in 2005 - 06. Worcester earned 2 points in 2008 - 2009, 3 in 2007 - 08, 0 in 2006 - 07 and 2 in 2005-06.',\n",
       " 'Tom Cole made an average of 77.5% of his free throws, while John Oosterbaan managed to score 70.6% of his free throws. John Harris made 73.1% of his free throws, Bob Cantrell scored at 71.9%, Jon Hall had a 58.7% average, Doug Herner performed at 37.9%, and Bob Brown made 30.4% of his free throws in the 1961-62 season.',\n",
       " 'Doug Lewis participated in two Downhill competitions during the 1987 season. On February 28th, he placed 7th in Furano, Japan and on March 7th, he finished 9th in Aspen, Co, USA.',\n",
       " \"On July 07, 2007, three matches were played in the 2007 FIVB Volleyball Men's U21 World Championship. The first match saw a score of 0 - 3 with sets of 19 - 25, 17 - 25, and 12 -25 for a total of 48 - 75. The second match had a score of 3 - 0 with sets of 27 - 25, 25 – 16, and 25 – 17 for a total of 77 – 58. The third match ended in 1 - 3 with sets of 23 – 25, 16 – 25, and 25 – 22 for a total 81 – 97.\",\n",
       " 'The trend in UK watch of Torchwood Series 2of episodes change many times in the series, but can see it have a little down in all watch. The series start very good with 4.22 million people watch first episode, named \"Kiss Kiss, Bang Bang,\" have director Ashley Way. The watch people get most at 4.32 million for number seven episode, called \"Dead Man Walking,\" have director Andy Goddard. But after this, the watch number go down slowly and  get low at 3.13 million for final episode, with name \"Exit Wounds,\" and director Ashley Way again. So at last, even there are some up and down of watch people in series, the all trend show a down from start to the end of Series 2.',\n",
       " 'From the data provided between 1984 and 1996, age does not seem to significantly impact the ability of a cyclist to set the hour record. Riders ranging from 24 to 33 years have achieved impressive distances, with a majority of the riders in their late 20s and early 30s. In fact, Tony Rominger set two records at the age of 33, riding the farthest distance of 55.291 km. Overall, the variation in distances achieved appears to be more influenced by equipment advancements and individual skill than the age of the riders.',\n",
       " 'The episode of Dynamo: Magician Impossible that had the most viewers was 2.01 which aired on July 5th, 2012. This episode had 1,927,000 viewers and was the first episode of the second season.',\n",
       " \"There were a total of six players from the 2008-09 North Carolina Tar Heels Men's Basketball Team that were drafted in the NBA. These players included Tyler Hansbrough (13th overall pick in 2009 to the Indiana Pacers), Ty Lawson (18th overall pick in 2009 to the Denver Nuggets), Wayne Ellington (28th overall pick in 2009 to the Minnesota Timberwolves), Danny Green (46th overall pick in 2010 to the Cleveland Cavaliers), Ed Davis (13th overall pick in 2010 to the Toronto Raptors) and Tyler Zeller (17th overall pick in 2012 to the Dallas Mavericks).\",\n",
       " 'In 1987, Agderfly adding three models to they fleet, which are Socata Rallye, Grumman Cougar, and Bellanca Super Decathlon.',\n",
       " 'Justin Rose won two tournaments between 2006 and 2007. In 2006 he won the Mastercard Masters 1 tournament with a winning score of 276 and a distance of 12 strokes under par. He had a two-stroke margin of victory over Greg Chalmers and Richard Green. The following year in 2007, he won the Volvo Masters with a score of 283, one stroke under par.',\n",
       " \"In the 1996 race for New York's 25th district, incumbent Republican Jim Walsh was successfully reelected to the House of Representatives, obtaining 55.11% of the votes in a close race against Democratic candidate Marty Mack, who received 44.89%. Jim Walsh had first been elected to this position back in 1988.\",\n",
       " 'The trend of watching during Season 3 of American Horror Story: Coven looks not stable, with less people watching in first few episodes, then sometimes more people watching in later episodes. The season begin with episode \"Bitchcraft,\" which has 5.54 million people watching, the most people watching in this season. After first episode, people watching go down, with episodes 2 to 4 have people watching less than 4 million. But from episode 6, \"The Axeman Cometh,\" people watching start to go up again, has 4.16 million people watching. The last episode, \"The Seven Wonders,\" has more people watching, 4.24 million, but still not as high as first episode.',\n",
       " \"In the 2011 NFL regular season, Tom Brady's performance in terms of passing yards was quite impressive, amassing a total of 5,235 yards. While this put him among the elite quarterbacks who achieved 5,000 passing yards in a season, he did not have the highest number that year. Drew Brees of the New Orleans Saints had a standout 2011 season, throwing for a remarkable 5,476 yards, which was 241 yards more than Brady's total. Additionally, Matthew Stafford of the Detroit Lions accumulated 5,038 passing yards in 2011, although his performance was still 197 yards behind Brady's.\",\n",
       " 'There are two players from the Asia XI team listed in this table. Mahela Jayawardene scored 107 runs off 106 balls in the first innings against Africa XI, resulting in a win for the Asia XI team. Mahendra Singh Dhoni also contributed to the win with an unbeaten 139 runs off 97 balls, playing in the same first innings against Africa XI.',\n",
       " 'The 2005 ATP Masters Series included two tournaments played on Carpet (I) surfaces: Paris and Shanghai (TMC). At the Paris tournament, Tomas Berdych defeated Ivan Ljubičić in a five-set match to win the championship On October 31, while Andy Roddick and Radek Štěpánek were semifinalists. At the Shanghai tournament, David Nalbandian defeated Roger Federer in a five set match with a tiebreaker. Gaston Gaudio and Nikolay Davydenko were semifinalists.',\n",
       " 'The top three countries with highest increase in percent of foreign students from 2017 to 2018 be Canada, with 18.78% increase, then Australia with 13.52%, and Spain have 15.33% increase. The top send countries for Canada be China, India, and South Korea, while for Australia they be China, India, and Nepal. In case of Spain, top send countries be Italy, France, and United States.',\n",
       " 'Yes, Dynamo: Magician Impossible had the most viewers with 1,927,000 for episode 2.01 on July 5th, 2012. The show has consistently been the most watched show on the channel, with the rest of the episodes of Dynamo: Magician Impossible ranging from 1,193,000 to 1,826,000 viewers.',\n",
       " 'A total of 9 performers had invalid throws in one or more of their attempts, and they are Paweł Fajdek, Wojciech Nowicki, Krisztián Pars, Sergej Litvinov, Mostafa Al-Gamel, Ashraf Amgad Elseify, Tuomas Seppänen, Nick Miller, and Roberto Janet.',\n",
       " 'The time to withdraw for trains in table look like has order, old one withdraw first then new one. For trains made by Midland Railway between February and August 1914, their withdraw time is from June 1959 to February 1962. The first made train is first to be withdraw. Not same, trains made by Robert Stephenson & Co in 1925 have withdraw time between December 1963 and September 1964. This shows these trains, because they are new, withdraw later than those made by Midland Railway. This way tells that withdraw time has relation with make time, as old trains often took out from use before new ones.',\n",
       " 'In the 1981-82 season, Detroit Pistons has home record of 23 win and 18 lost, making them middle in Central Division. Comparing, Indiana Pacers get 25 win and 16 lost at home, doing little better than Pistons in same season.',\n",
       " \"Adelaide Rams' perform in 1997 season has some different when look at score of home games at Adelaide Oval and away games. When Rams play at Adelaide Oval, they win 2 games, have 1 draw, and lost 6 games, but in away games, they get 4 wins and 4 losses.\",\n",
       " 'The version of Souviens-Toi Du Jour included on the albums Innamoramento and Les Mots is the Album/Single Version. This version is 4 minutes and 55 seconds long, was not remixed, and released in 1999.',\n",
       " 'The Toronto Maple Leafs Gift Set coin from the Royal Canadian Mint has an issue price of 24.95. It is from the 2008 series and features a theme of the Canadian hockey team, Toronto Maple Leafs. The coin does not have an artist assigned to it.',\n",
       " 'Johnny Miller have highest score in fourth round (R4) with 76 score. This make effect his all finish in 1977 U.S. Open because he end tie for 27th place with total score 290. ',\n",
       " 'In the season of 1986, Doug Lewis placed 2nd in the Downhill discipline at Las Leñas, Argentina on 16 August 1985, 5th in the Downhill discipline at Kitzbühel, Austria on 17 January 1986, and 8th in the Downhill discipline at Aspen, Co, Usa on 8 March 1986.',\n",
       " \"In their thirteenth game on December 9th against the New England Patriots, the Buffalo Bills achieved their highest point total of the season with a win of 37-13. The Bills's defense only allowed 13 points from their opponent. This gave the Bills a record at that time of 8-5.\",\n",
       " 'In the 2012 season, Manor Motorsport had three drivers: Dmitry Suranovich, Fabiano Machado, and Tio Ellinas. All three drivers completed 16 races. Unfortunately, neither Suranovich nor Machado scored any points or fast laps, and they placed 23rd and 21st respectively in the driver championship. Conversely, Ellinas had more success; despite having no poles, he won one race and had three fast laps, earning 97 points which placed him 8th in the driver championship.',\n",
       " 'Most frequent writer for make episodes in second series of Torchwood, from data given, is Chris Chibnall. Chibnall write four episodes, they are \"Kiss Kiss, Bang Bang,\" \"Adrift,\" \"Fragments,\" and \"Exit Wounds.\" Other writers give fewer episodes for the series.',\n",
       " 'Jacques Anquetil is the cyclist who has won the most grand tours, with a total of 13. He is from France and won 6 Tours, 6 Giro, and 1 Vuelta.',\n",
       " \"From result of President Ballots' Informal and Formal counts, we can know big change in candidate popular during 1856 America National Convention. Millard Fillmore get more popular, he got 139 votes in Informal count and then go up to 179 votes in Formal count. This show Fillmore can make his position strong as top one in convention. On other side, some candidates like Garrett Davis and Kenneth Rayner, their vote count go down when convention go on, this tell us they lose popular. In total, compare Informal and Formal count can show us the changing America National Convention, because candidate popular change when event go on.\",\n",
       " 'In episode \"Negative Reaction,\" Dick Van Dyke do role of murderer. The victim in this special episode were Antoinette Bower and Don Gordon.',\n",
       " \"In Women's 100 meter freestyle - Semifinal 1 at 2012 Summer Olympics, fastest swimmer was Melanie Schlanger with time of 53.38 seconds, while slowest swimmer was Haruka Ueda with time of 54.59 seconds. The time difference between these two swimmer was 1.21 seconds.\",\n",
       " \"Renaud Lavillenie (FRA) and Yelena Isinbayeva (RUS) have won the most times in the Men's and Women's Pole Vault events, respectively. Bubka achieve his top score of 6.16 meters in 2014, while Isinbayeva reach her highest mark of 5.00 meters in 2009.\",\n",
       " 'Robin Frijns had his best performances in the Formula Renault 3.5 Series, competing for Fortec Motorsport in 2012. During this season, he raced a total of 17 times, winning three races and recording four pole positions, resulting in eight podiums and 189 points overall. He managed to win this series, taking home first place at the end of the year.',\n",
       " \"Chris Taylor had the most goals with 5 among the players from Frankfurt Lions. That was more than Jason Young's 3 goals and both had equivalent points, 13.\",\n",
       " 'There are not enough datas to make a sure conclusion about yearly trend of total acres affected by wildfires in California. As this table only has biggest wildfires and not all fires in state, it cannot show the full trend of every year. However, we can see that some more new fires, like Mendocino Complex in 2018 and Thomas Fire in 2017, have very big acreage. This may show that there is a going up trend in how bad wildfires are in recent years.',\n",
       " 'In fourth season of Columbo, first episode is \"An Exercise in Fatality\" on September 15, 1974. Have murderer Robert Conrad and victim Philip Bruns. Second episode is \"Negative Reaction\" on October 6, 1974. Have Dick Van Dyke as murderer and Antoinette Bower and Don Gordon as victims. Other episodes in order are: \"By Dawn\\'s Early Light\" with Patrick McGoohan as murderer and Tom Simcox as victim, \"Troubled Waters\" have Robert Vaughn as murderer and Poupée Bocar as victim, \"Playback\" with Oskar Werner as murderer and Martha Scott as victim, and last \"A Deadly State of Mind\" have George Hamilton as murderer and Stephen Elliott and Lesley Ann Warren as victims.',\n",
       " 'The players who attended Byu and played for the Utah Jazz are Andy Toolson. Toolson first played for the Jazz from 1990-91 and then again from 1995-96. He was a guard and forward and had the jersey number 5.',\n",
       " 'In the Miss World and Miss Earth pageants, controversies surrounding the use of bikinis emerged in the early years of both competitions. In the Miss World pageant, the controversy began in 1951 when Kiki Håkansson from Sweden was crowned the winner while wearing a bikini, leading to countries with strong religious traditions threatening to withdraw their delegates. This resulted in the pageant toning down its swimsuits to more modest designs in the years that followed. Similarly, in the 2003 Miss Earth competition, the participation of Vida Samadzai from Afghanistan while wearing a bikini caused an uproar in her native country due to cultural and religious concerns. Both instances highlight how the inclusion of bikinis in international pageants can lead to cultural clashes and controversies.',\n",
       " 'George Harrison\\'s \"My Sweet Lord,\" released in 1970, sold 10 million copies. Other singles from the 1970s, such as Gloria Gaynor\\'s \"I Will Survive\" and Village People\\'s \"Y.M.C.A.\", both released in 1978, managed to sell more copies at 14 million and 12 million respectively. However, Harrison\\'s sales performance is still on par with other notable singles from the same decade, such as ABBA\\'s \"Fernando\" in 1976 and Middle of the Road\\'s \"Chirpy Chirpy Cheep Cheep\" in 1971, which both sold 10 million copies. Overall, while George Harrison\\'s \"My Sweet Lord\" wasn\\'t the highest-selling single of the 1970s, its sales were still impressive and comparable to other popular songs from the same era.',\n",
       " 'Bradley Buecker directs four episodes in season 6 of Glee. The viewer rating for these episodes is follow: \"Loser Like Me\" has 2.34 million viewers, \"Homecoming\" has 2.34 million viewers also, \"A Wedding\" with 1.86 million viewers, and \"Dreams Come True\" with 2.54 million viewers. Buecker\\'s episodes get high rating compare to other episodes in this season.',\n",
       " '2007, Ryan Daut gets prize of $1,535,255. 2010, Harrison Gimbel wins and gets prize of $2,200,000, while Galen Hall gets $2,300,000 in 2011. At last, Kevin Schulz wins $1,491,580 in 2015, and Christian Harder gets winning of $429,664 in 2017.',\n",
       " 'In 1995 Eurovision Song Contest, have three country sing English. Ireland get 44 point, rank 14. United Kingdom get 76 point, rank 10. Malta also get 76 point, rank 10 too.',\n",
       " 'In past Civil Rights Games, St. Louis Cardinals play two games, in 2007 and 2010. In 2007, they win with score 5-1 against Cleveland Indians at AutoZone Park in Memphis, Tennessee, have 12,815 people watch. In 2010, they lose with little score, 3-4, against Cincinnati Reds at Great American Ball Park in Cincinnati, Ohio, have 41,326 people watch.',\n",
       " 'Two director of Puerto Rico Office of Management and Budget have serve under Republican governor. These director were María Sánchez Bras and Juan C. Pavía.',\n",
       " 'Ottawa team most victory in match from table, have 6 wins. They win match at January 8, January 15, January 21, January 28, February 11, and February 18.',\n",
       " 'France won the OGAE Video Contest in 2003,2011 and 2014 with 122,96 and 141 points respectively.',\n",
       " 'The three oldest Southern League stadium are Hank Aaron Stadium, The Ballpark at Jackson, and AT&T Field. The Mobile BayBears connect with Hank Aaron Stadium, open in 1997 in Mobile, Alabama, when the Jackson Generals play at The Ballpark at Jackson, this stadium in Jackson, Tennessee was establish in 1998. Lastly, the Chattanooga Lookouts link to AT&T Field, it in Chattanooga, Tennessee, and open in 2000. These stadiums giving a historic home for their baseball teams in the Southern League.',\n",
       " \"A total of 6 'Exhibition' type matches be hold in 1892 AHAC season from record data. Montreal Hockey Club play most in this type matches, with 4 exhibition games.\",\n",
       " 'The Forest City Owls, they have some good perform in batting average in years. The best perform is in 2015 by Spencer Henderson, who get great batting average of .398; but team no go playoffs that year. Second-best perform in batting average is in 2009 by Konstantine Diamaduros, with average of .376, which helps team to win League Championship that year. In 2012, Alex Close also help team with batting average of .329, but team only go to first round playoffs and then lose. Steven Pallares is good too in 2014 with batting average .326, but team lose in first round. Finally, Kevin Mailloux play 2008 with batting average of .328 but team not go to playoffs.',\n",
       " 'In Season 6 of Numbers, have three episode that same person write and direct. These episodes are \"Hangman\" by Ken Sanzel, \"Shadow Markets\" by Julie Hébert, and \"Cause and Effect\" by Nicolas Falacci.',\n",
       " 'The Green Bay Packers selected Ken Ruettgers with their first round pick in the 1985 NFL Draft. Ruettgers was a Guard from USC.',\n",
       " 'In 2007 IBSA World Championships and Games, opponent team which score most high against South Korea team was Spain. Final result of game was Spain 10, South Korea 0.',\n",
       " \"Upon analyzing the data from the table, there is no clear correlation between the order of performing (draw) and the eventual place (ranking) of the entries in the Eurovision Song Contest 2012 Semi-final 1. While some earlier performances did receive lower rankings, such as Montenegro (01) and Latvia (04), other early performers like Greece (03) and Albania (05) achieved top 5 positions. Additionally, the last performer, Ireland (18), ended up ranking 6th, further indicating that a performance's placement in the show had no consistent impact on its ranking.\",\n",
       " 'Among top 12 highest building in Kansas, five of them in city of Overland Park. Tallest building in Overland Park is Lighton Plaza I, have height of 254 ft (77 m) and 15 floors. Second tallest is Sheraton Overland Park, with height of 240 feet (73 m) and 23 floors. Third tallest in city is 7101 Tower, standing at 226 ft (69 m) and also 15 floors. Lastly, DoubleTree Overland Park is fourth tallest in city, have height of 218 ft (66 me) and 18 floors',\n",
       " \"In the 2006-07 New Jersey Devils East Conference Semi-finals series play against Ottawa Senators, Brodeur make decision for all five games. Outcome of games not seem strong related with Brodeur's decisions as Devils only win one game in series (Game 2). Overall, Ottawa Senators take series with 4-1 victory, beat New Jersey Devils in most of matchups.\",\n",
       " \"The albums give out by the label 'Atlantic' is Led Zeppelin IV by Led Zeppelin and Back in Black by AC/DC. Led Zeppelin IV sell 23,000,000 piece, while Back in Black sell 22,000,000 piece.\",\n",
       " 'Over the given time, the budget balance as a percentage of GDP has usually become worse, starting at -2.6% in 1980, reaching the lowest point at -11.2% in 2009, and little improving to -2.5% in 2017. Also, government debt as a percentage of GDP has grow over time, starting from 64.6% in 2007 and going up to 107.8% in 2017, although no data for earlier years. About the current account balance as a percentage of GDP, there has been change from small surplus of 0.1% in 1980 to deficit in years after, with the biggest deficit of -4.9% report in 2007. By 2017, the current account balance deficit little better to -2.4%, but still in deficit position.',\n",
       " \"The episodes written by David Farr are the sixth and seventh episodes of the Outcasts TV series directed by Andy Goddard and Jamie Payne respectively. The sixth episode titled 'Episode 6' achieved a viewership rating of 1.52 million viewers and had a share of 10.5%. This episode aired on 27 February 2011. The seventh episode titled 'Episode 7' was viewed by 1.33 million viewers with a share of 9.7% and it first aired on 6 March 2011.\",\n",
       " 'The album Mr. Tambourine Man has been released in the US in multiple formats. The original US release of the album was on Columbia Records in 1965, with catalog numbers Cl 2372 and CS 9172, both on vinyl LP. It was also reissued by Columbia in 1970 on vinyl LP with catalog number 465566 1. In 1987, a CD of the album was released by Columbia with catalog number CK 9172. Furthermore, a hybrid Super Audio CD edition was released in 2006 by Mobile Fidelity Sound Lab with catalog number UDSACD 2014. Last,on February 10 , 2009 Sony / Columbia released a CD of the album with catalog number 743323.',\n",
       " \"The 'Greezed Lightnin'' roller coaster, manufactured by Schwarzkopf, was opened in 1978 at the Six Flags AstroWorld, located in the Western Junction area of the park. This shuttle loop coaster was a thrilling ride, entertaining guests for nearly three decades. In 2005, the coaster was removed from the park and relocated to Joyland Amusement Park, where it remains in storage at the nearby McKenzie Park. The ownership of the 'Greezed Lightnin'' was then transferred to Cliff's Amusement Park. Despite its removal from AstroWorld, the coaster's legacy lives on as a memorable ride experienced by many visitors over the years.\",\n",
       " 'Between 1985 and 1989, the Yugoslavian Motorcycle Grand Prix 250 Cc class was won by three different riders. In 1985, Freddie Spencer was the 250 Cc winner. Sito Pons won the 250 Cc in 1986, 1988 and 1989, while Carlos Lavado won the class in 1987.',\n",
       " 'Number entries in PokerStars Caribbean Adventure Main Event have big influence on winner prize each year. When more entries, total prize pool and winner prize also grow big. This show positive connection between these two things. Can see in years like 2009, 2010, 2011, when entries over 1,000, and winner prize range between $2-3 million. But when fewer entries, like 2004, 2017, 2018, prizes much less, it prove good relationship between number entries and winner prize.',\n",
       " 'Yes, there has be two time when same athlete is opening and closing flag bearer for Israel in one Olympics event. In 2014 Winter Olympics, Vladislav Bykanov is both opening and closing flag bearer for Israel, he do short track speed skating sport. In 2006 Winter Olympics, Galit Chait is both opening and closing flag bearer for Israel, he do figure skating sport.',\n",
       " 'In 2011, Vijayawada population in Krishna district is 1,021,806. Among the city in Krishna district show in table, Vijayawada have most high population, so it most people city in district. Compare with Machilipatnam and Gudivada, they also in Krishna district, but have more small population, only 169,892 and 118,167.',\n",
       " 'The representation for ANC in National Assembly has been the less since 1994 election, from 252 seats goes to 249 seats in 2014 election. In the other side, representation for DP/DA parties is more big, number of seats from 7 in 1994 election to 89 in 2014 election.',\n",
       " 'The total number of championships secured by franchises playing at Budweiser Gardens is 7. ',\n",
       " 'Nolan Ryan play for California Angels in 1973 season and he achieve 383 strikeouts.',\n",
       " \"In Semifinal 2 of men's 100 meter butterfly at 2012 Summer Olympics, top three finishers were Chad le Clos from South Africa, Tyler McGill from United States, and Milorad Čavić from Serbia. Chad le Clos finished first with time of 51.42, setting national record. Tyler McGill was second at 51.61 , and Milorad Čavić finished third with time of 51.66 .\",\n",
       " 'From table have name \"List of tallest buildings and structures in Newcastle upon Tyne\", we can know that in the 20 tallest buildings and structures, 3 for worship places, 7 for living, 3 have mix uses, and other 7 are used for different things like football place, bridge, government place, and a control tower of airport. This show most are for people live.',\n",
       " 'There are five songs from the United Kingdom featured in the Dancemania 8 tracklist.',\n",
       " 'Between the 1934 and 1937 elections, the Co-Operative Commonwealth Federation (Ontario Section) saw a slight decline in their performance. In 1934, they earned 7.0% of the popular vote and won 1 seat out of the 90 available. Three years later in 1937, they earned 5.6% of the popular vote but failed to win any seats.',\n",
       " 'The car got highest team test score in series was Ford Fiesta ST with score 34.5 out of 40, and this car tested in Episode 7.',\n",
       " \"Between the years 2007 and 2013, both Francisco Bravo Medical Magnet High School and Marc and Eva Stern Math and Science School showed increases in their Academic Performance Index (API) scores. Francisco Bravo Medical Magnet High School's API score steadily and consistently increased from 807 in 2007 to 847 in 2013. While this was an overall upward trend, Marc and Eva Stern Math and Science School's API scores showed a bit more variation. Despite some fluctuations, Marc and Eva Stern Math and Science School's API increased from 718 in 2007 to 775 in 2013, demonstrating an overall enhancement in their academic performance.\",\n",
       " 'The album Mr. Tambourine Man has had one release in Japan, which was in 2003. This release was on the Sony label in CD format and it had a catalog number of Mhcp-66.',\n",
       " 'The all rain data for city in table show that flood badness different at many places in Sindh. Cities like Mithi, Mirpur Khas, and Nawabshah have very big rain, with all rain 51.0 inch, 34.1 inch, and 24.7 inch, so maybe these areas have most bad flood compare to other place with less rain total.',\n",
       " 'As per given data, the most three deadly storms was \"Haiphong\" on 1881, Haiyan (Yolanda) on 2013, and Thelma (Uring) on 1991. These storms make 20,000, 6,300, and estimated 5,101-8,000 people die in each one.',\n",
       " 'The Sun Life Building was the tallest building in Montreal between 1931 and 1964. It was located at 1155 Metcalfe Street and held the title of tallest building for 31 years. It was 122 meters (400 feet) tall and had 26 floors. It held the title of tallest building until it was surpassed by the Tour Cibc in 1962. Then, the Place Ville Marie was the tallest building n Montreal between 1962 and 1964.',\n",
       " 'Belvedere Films produced two Gujarati movies, \"Shu Thayu?\" in 2018 and \"Chhello Divas\" in 2015. In terms of worldwide gross, both films were quite successful, garnering significant revenues. \"Shu Thayu?\" earned ₹21 crore (US$2.9 million), while \"Chhello Divas\" made ₹18 crore (US$2.5 million).',\n",
       " 'The University of Birkbeck, London is one of the institutions that gained university status in 1920. It was established in 1823 and is located in London. The Vice Chancellor is Professor David Latchman and it has 19,020 students. Its research funding is 9,985 thousand pounds.',\n",
       " 'Base on win percentage and how long they are coach, the most good coach for Syracuse Orange football is Ben Schwartzwalder. He has win percentage of 0.626 and is coach for 25 year (1949-1973), make record of 153-91-3. In other hand, the not much good coach is Greg Robinson, who has win percentage of 0.213 and only is coach for 4 years (2005-2008), have record of 10-37.',\n",
       " 'The difference of frequency in standard channels of Citizens Band Radio can see when channels increase one by one. For example, between channel 1 and 2, the frequency increase by 0.01 MHz from 26.965 MHz to 26.975 MHz. Same, between channel 11 and 12, the frequency also increase 0.02 MHz, change from 27.085 MHz to 27.105 MHz. ',\n",
       " 'In first season of American Horror Story: Murder House, the viewer numbers generally have little change, with some high and low points. The most people watch the twelfth and last episode, called \"Afterbirth,\" with 3.22 million people watch. On other side, the episode with least people watch was second episode, \"Home Invasion,\" only 2.46 million people watch. It is important to say that the first episode get many people, 3.18 million, to watch, and maybe help the season keep viewer numbers not change too much. Overall, the number of people watching the show in whole season show that the show can keep audience interested, even though some episodes have little less people watch than others.',\n",
       " 'Though not at top of rankings in 1919 Big Ten Conference football season, Ohio State and Chicago show very good numbers. Ohio State, rank second in conference, has strong overall and conference records of 6-1 and 3-1. They also get very great points per game (PPG) average of 25.1, and their points against per game (PAG) is low 1.7, showing big impact on their games. The third rank team, Chicago, has very good 29.3 PPG and 3.7 PAG. This numbers mean Ohio State and Chicago do good in season and have important offensive and defensive records, even if not being first in conference.',\n",
       " \"In the Eurovision Song Contest 1980, there doesn't appear to be a strong correlation between the country's performance and the language in which the song was sung. The winning song was sung in English by an Irish artist, but the second and fourth highest-ranking songs were in German and French, respectively. The bottom three songs were in Arabic, Finnish, and French. \",\n",
       " 'In 1983, the stage 14 of Pas de Peyrol was a 2 category stage that began in Aurillac and finished in Issoire. The leader at the summit of this stage was Lucien Van Impe.',\n",
       " 'In 2015, UK Independence Party get one seat in House of Commons. That year, party get 3,881,099 total vote, is 12.6% of all vote.',\n",
       " 'From table, two singles from 1970s get more than 13 million sales. Gloria Gaynor \"I Will Survive\", in 1978, get 14 million sales, and Scorpions \"Wind of Change\", in 1991, also 14 million sales. ',\n",
       " \"From 1990 to 2014, a few trends can be see in the Mark (m) get by the winners in the Men's category of Pole Vault Stars. First, there is an overall increase in the height cleared by the winners, with Sergey Bubka having the record in 1990 at 6.05 meters and Renaud Lavillenie breaking the world record with a height of 6.16 meters in 2014. Second, Sergey Bubka's dominance in the early 1990s with three wins is noticeable, clearing more high heights each time. Lastly, Renaud Lavillenie's consistent winning with four times in a row from 2011 to 2014 shows his dominance in the event during this time period.\",\n",
       " \"Based on the information provided in the table, it is unclear what specifically caused the decline in Johnson's performance indicators in 2011. \",\n",
       " \"In 1994, during the Lillehammer Winter Olympics, athlete Arsen Harutyunyan was chosen as the flag bearer for Armenia. This marked the first time an Alpine skier carried the flag for the country at the Olympics.  During the 2002 Winter Olympics in Salt Lake City, Arsen Nersisyan, an Alpine skier, was selected as Armenia's flag bearer in the opening ceremony.  Arsen Nersisyan was once again chosen as the flag bearer for Armenia in the 2010 Vancouver Winter Olympics, making it the third time an Alpine skier represented the country in this role.\",\n",
       " 'The headquarter location, number of sports, and number of members have big different in the conferences founded in the 1970s. The America East Conference, which start in 1979, has its headquarter in Boston, Massachusetts, with 9 members and 19 sports in total. The Atlantic Sun Conference, founded in 1978, also has 9 members and 19 sports, but its headquarter is in Macon, Georgia. The Atlantic 10 Conference, which start in 1975, has more members (14 members) and more sports (21 sports) compare to the other two 1970s-founded conferences, and its headquarter is in Newport News, Virginia. In comparison, the Horizon League, founded in 1979 just like the America East Conference, has its headquarter in Indianapolis, Indiana, with 10 members and 19 sports.',\n",
       " 'The city of Visakhapatnam in Andhra Pradesh have a big growth of population between 2001 and 2011. In 2001, there are 982,904 peoples in Visakhapatnam, but in 2011, it become 2,035,922. ',\n",
       " 'Tallest building in Gary is Gary Manor, which standing at estimated height 157.35 feets (48 meters). It having 12 floor and building in year 1980. Building can be find at 1200 Washington Street in Gary.',\n",
       " \"At the 1984 Olympics in Los Angeles, Venezuela won three medals. Marcelino Bolivar won a bronze medal in Men's Light Flyweight Boxing, Omar Catari also earned a bronze medal in Men's Featherweight Boxing and Rafael Vidal won his own bronze medal in Men's 200 M Butterfly Swimming.\",\n",
       " \"Dan Marino's achievement of 5,084 passing yards in the 1984 season was significant as it marked the first time in NFL history that a quarterback reached 5,000 passing yards in a single season. Additionally, Marino was tied for the youngest quarterback to achieve this milestone, a record he shares with Patrick Mahomes. Similarly, Mahomes attained 5,097 passing yards in the 2018 season, tying Marino as the youngest quarterback to achieve a 5,000-yard season.\",\n",
       " \"In the 1958 Big Ten Conference football time, it look like two connection between teams' AP final rank and PAG (Points Against Per Game) places. Top four rank teams - Iowa, Wisconsin, Ohio State, and Purdue - all have small PAG scores compare to teams with not so good rankings. This make think strong defense, not let many points scored against them, help them do good during the season. On the other hand, teams with big PAG scores, like Michigan and Minnesota, have low rankings in the meeting. This relationship show that stopping other teams from scoring help teams get better rankings in the 1958 Big Ten Conference football season.\",\n",
       " 'Vinu Mohan get Asianet award for Best New person for act as Mohan Krishnan in film Nivedyam. This movie come out in year 2007. It his second movie, after he first do in Kanne Madanguka in 2005.',\n",
       " 'Out of the eight artists in the United Kingdom Eurovision Song Contest 1990, only three artists, Thom Hardwell,Kim Goody, and John Miles, self-composed their song. This did not favor their placement, as Thom Hardwell\\'s \"Never Give Up\" finished in 8th place with only 3,540 votes. The top three artists all had songs composed by other individuals and received significantly more votes than the self-composed entry',\n",
       " \"The 1963 England Rugby Union Tour of Australasia included three matches against Wellington, Otago, and Hawke's Bay. The match against Wellington was held on May 18 at Athletic Park in Wellington and was a tour match. The match against Otago was held on May 22 at Carisbrook in Dunedin, also a tour match. Lastly, the match against Hawke's Bay was held on May 28 at Mclean Park in Napier and was also a tour match.\",\n",
       " 'Several athletes have been selected more than once as flag bearers for Belgium at the Olympics, representing various sports. Gaston Roelants, an athlete in the field of athletics, has been chosen four times in the 1964, 1968, 1972, and 1976 Summer Olympics. Kevin Van der Perren, a figure skater, carried the flag on two occasions at the 2006 and 2010 Winter Olympics. Henri Mollin, an alpine skier, was selected for the 1980 and 1984 Winter Olympics, making him another athlete to hold the flag twice. Robert Blanchaer,an alpine skier,was selected for the 1972 and 1976 Winter Olympics.Andre Neilis, an athlete in the field of sailing,was selected for the 1956 and 1960 SumMer Olympics.',\n",
       " 'First episode of season 8 American Horror Story, name \"The End,\" was directed by Bradley Buecker and write by Ryan Murphy & Brad Falchuk, got 3.08 million US peoples watch. Last episode of the season, name \"Apocalypse Then,\" also directed by Bradley Buecker and write by Ryan Murphy & Brad Falchuk, get 1.83 million US peoples watch. Both episodes have same directors and writers but have different number of watch peoples.',\n",
       " 'In stages at Le Grand-Bornand show in table, the stage winner wear yellow jersey in same race 2 out of 5 time.',\n",
       " \"Ayrton Senna had a total of 65 pole positions in his 162 entries, while Lewis Hamilton has had 31 pole positions in a total of 127 entries throughout his career. This represents a ratio of 53.7% for Senna and 44.81% for Hamilton. Overall, this suggests that Senna was slightly more successful in claiming pole positions than Hamilton, with Senna’s entry-to-pole success rate being slightly higher (8.89%) than Hamiltons'.\",\n",
       " 'First no-football, many-sport NCAA conference founded is Missouri Valley Conference (MVC The Valley), which establishing in 1907. It now have 10 members.',\n",
       " \"NoneThe begin place of stages in Le Grand-Bornand have changed over the years, with different places like Annecy, Le Bourg-d'Oisans, Bourg-Saint-Maurice, and Bourg-en-Bresse being the start points. This change in begin points also affects the total distance of every stage, from 159 kilometers in 2018 to 204.5 kilometers in 2013 and 2004. \",\n",
       " 'Damien Murray of Offaly score total 59 point, have 8 goal and 35 point in 2003 National Hurling League, make him fourth in top scorer. His perform good, but player from Tipperary and Kilkenny get more score. Eoin Kelly from Tipperary have total 74 point and Henry Shefflin from Kilkenny get 64 point, they be in first and second place.',\n",
       " 'The artist who show \"Ara,\" Claudia Crabuzza & Claudio Gabriel Sanna, have the qualification for win both the Jury award and public award at SUNS 2012. The artist get 5th place in the Liet International 2012, with total of 64 point.',\n",
       " 'In the 2004 United States president election in Vermont, John Kerry get 58.94% of the popular votes and George W. Bush get 38.80% of the popular votes. John Kerry was give 3 electoral votes, while George W. Bush not get any electoral votes in Vermont.',\n",
       " 'The Philadelphia Flyers accumulated 16 points in April. They won eight games, and tied one in overtime. This gave them a record of 36 - 37 - 11 for the month and a total of 83 points.',\n",
       " \"The relation between number of floors and building height in tallest buildings in Fresno mostly positive. It means when floors more, building height also more. But this relation not always straight line because other things can affect building height, like each floor's height. For example, Golden State County Plaza has 21 floors but not tallest building in Fresno. It because its total height less than Robert E. Coyle United States Courthouse. This building only has 9 floors but higher total height.\",\n",
       " \"Sergej Litvinov and David Söderberg achieved their Season's Best (SB) performance in this event. Litvinov's final mark was 77.24, and Söderberg's final mark was 76.92 .\",\n",
       " 'In 2010, the Saitama Super Arena be choose for DREAM events three time. These events have Dynamite!! 2010 on December 31, Dream 15 on July 10, and Dream 14 on May 29. Other event place for that year was Nippon Gaishi Hall in Nagoya and Yokohama Arena in Yokohama, for Dream 16 and Dream 13, respective.',\n",
       " \"In 1966 and 1967 year, the Waterbury Orbits performance go down little bit under different coaches. In 1966, when Coach Fred Wallner control the team, they have quite good season, with 8 wins, 3 lose, and 1 tie, end up 2nd in the Northern Division of Atlantic Coast Football League. But in 1967, when Coach Nick Cutro is leader, the team's performance go down a bit, finish season with 6 wins, 6 lose, but still get 2nd place in Northern Division. \",\n",
       " 'In 1986 season of Reading Rainbow, Laura Haymann and Hugh Martin are the narrators that do in more than one episode. Laura Haymann talk in two episodes, \"Feelings\" (episode 3) and \"Watch the Stars Come Out\" (episode 4). ',\n",
       " 'The United States national rugby union team have played at BBVA Compass Stadium in Houston, TX five times total. They faced opponents, like Ireland on 2013-06-08, Scotland on 2014-06-08, Italy on 2012-06-03, Chile on 2016-02-20, and Argentina XV on 2016-02-06. ',\n",
       " 'In the 2007 Intense Football League Season, Katy Ruff Riders had a winning streak. They had a 7-7 record with a 4-3 home record and 3-4 away record.',\n",
       " 'According to the table, Peyton Manning holds the record for the most passing yards in a season with 5,477 yards. Manning achieved this feat while playing for the Denver Broncos during the 2013 season.',\n",
       " 'The range of crowd sizes at matches is from 8,056 to 34,608 watchers. The match between Melbourne Victory and Los Angeles Galaxy attract most big crowd size .',\n",
       " 'According to available data, Manchester produced most winners in Miss New Hampshire Teen USA competition, with total of 14 winners. This trend maybe shows Manchester has more big group of talented and accomplished young women, maybe because have more people or better chances for grow in confidence, skills and education. Another option, maybe because more organized or well-made pageant community or training program in city, which make contestants more prepared for succeed in competition.',\n",
       " 'Adam Scott won the Scandic Carlsberg Scandinavian Masters in 2003 by a margin of two strokes. Scott posted scores of 70,71,67 and 69 for a total of 277. He beat out Nick Dougherty for the two stroke victory.',\n",
       " 'In the 1997 Eurovision Song Contest, the top five nations in terms of points collected were the United Kingdom, Ireland, Turkey, Italy, and Cyprus. The United Kingdom secured first place with 227 points, and their artists, Katrina and the Waves, sang in English. Ireland\\'s Marc Roberts sang \"Mysterious Woman\" in English as well, achieving second place with 157 points. Turkey\\'s Şebnem Paker & Grup Ethnic took third place with 121 points, singing \"Dinle\" in Turkish, while Italy\\'s Jalisse ranked fourth with 114 points for their Italian song \"Fiumi di parole,\" and Cyprus\\' Hara & Andreas Konstantinou came in fifth with 98 points for their Greek song \"Mana mou\" (Μάνα μου).',\n",
       " 'The Edenton District Brigade operation, make in 1775 and finish in 1783, have many units leaded by first commanders who have colonel rank. The Bertie County Regiment was command by Thomas Witmell, and Chowan County Regiment was lead by Thomas Bonner. Samuel Jarvis was first commander of Currituck County Regiment, and Benjamin Wynns take charge of Hertford County Regiment. Other first commanders and their units included Miles Harvey for the Perquimans County Regiment, Edward Buncombe for the Tyrrell County Regiment,and John Lowery and William Williams for the 1st  Pasquotank County Regiments and Martin County Regiment. ',\n",
       " \"In years Forest City Owls won League Championship, their win-loss record very good. Owls get 46 wins and only 9 losses in 2009, and 37 wins and 19 losses in 2010. Best pitcher in 2009 championship season Spencer Patton, who have 9 wins and 0 losses, and 1.46 ERA. Best hitter in 2009 season, Konstantine Diamaduros, also have very good .376 batting average. Same in 2010 championship season, best pitcher is Jeremy Fant, who have 3-2 win-loss record and 1.91 ERA. Best hitter in 2010 year, Will Skinner, with .307 batting average.  Strong performance from best pitchers and hitters surely help team's overall success in these championship seasons. In both years, look like strong pitching performance with high-performing hitter help Forest City Owls win their League Championships.\",\n",
       " 'In 1977 US Open, Lou Graham got lowest total score 279. His scoring pattern change in four rounds, begin with first round score 72 and decrease to 71 in second round. In last two rounds, Graham show very consistent, got 68 score in third and fourth rounds, finally finish event at good -1 under par.',\n",
       " 'The distribution of the 4 x 100 metres relay records among different nations during the World Championships in Athletics from 1983 to 2015 indicated that five nations held records: Great Britain, West Germany, Russia,the United States, and Jamaica. Great Britain held one record in 1983, while West Germany held two records in the same year. The United States held three records, spanning from 1987 to 1997. Jamaica held the most recent records in 2013 and 2015, showcasing a shift in dominance within the sport.',\n",
       " 'From table, have 6 singles released in 1990s. Sales range from minimum 10 million copys to maximum 14 million copys in that time.',\n",
       " \"From year 2000 to 2010, the age of winners of Miss New Hampshire Teen USA is between 15 and 18 years old. In 2000, Kristen O'Neil from Manchester win at age of 17, and in 2010, Morgan Lucas, also from Manchester, win at age of 18. The smallest age winner during this time is Brittany Dube from Hampstead, who is 15 years old when she win in 2005. Through the years, winners' ages not seem to have a special pattern or trend.\",\n",
       " 'In February of the 2007-08 season, the Montreal Canadiens play 14 games total. From table we look, only two times have games go to over-time or need shoot-out. In details, Canadiens play over-time game with Florida Panthers on February 13th, and they play shoot-out game with New York Rangers on February 19th. This show that OT and SO games not happen a lot for Canadiens in this time, about 14% of February games need more play time.',\n",
       " 'Three big town in Greenland have most people is Nuuk, Sisimiut, and Ilulissat. Nuuk before have name is Godthåb Godthaab Neu-Herrnhut, have 17,796 people. Sisimiut before name is Holsteinsborg, have 5,491 people, Ilulissat before name is Jakobshavn, have 4,563 people living.',\n",
       " \"In Lance Moore's career, his average yards ('AVG') per season have some change, but we cannot say it has big increase or decrease in total. Early in his time, from 2006 to 2008, his average yards are going up, from 10.0 to 11.7. But after 2008 season, Moore's average yards each season have not stable, with up and down like from 10.9 in 2009 to 11.6 in 2010, then reach high in 16.0 in 2012, and last at 11.6 in 2015.\",\n",
       " \"The matches between Charlton and Millwall in the London Pfa Charity Fund have been relatively even. Charlton have won two games, Millwall have won two games, and the teams have drawn one game. Across all five matches, Charlton has scored seven goals to Millwall's five goals. Although the overall results are close, it appears that Charlton has a slight edge over Millwall in these particular matches.\",\n",
       " 'The Freestyle was won by Drew Lachey with a score of 30, giving him the highest score out of all the dancers. Stacy Keibler was the worst dancer with a score of 26, making her the lowest scorer of the Freestyle.',\n",
       " 'The change of leader from James Woodsworth to Major Coldwell in 1945 had big effect on how many vote and seat win by Cooperative Commonwealth Federation. Under Major Coldwell lead in 1945 election, the party get 815,720 vote which more than double than vote they get in last election with Woodsworth, and their vote share go up to 15.6%. Also, number of seat party win go from 8 in 1940 to 28 in 1945, show big grow in their parliament presence.',\n",
       " 'Oldest winning horse in Shakertown Stakes from 1997 to 2018 is Something Extra, it is a 7-year-old horse and won in 2015. Jockey for this race was Shaun Bridgmohan. Time record for this race was 1:02.85. It show impress skill of jockey and horse both.',\n",
       " 'From table data, seem no relation between electoral population size and count of ethnic representative in different area. All areas in list, no matter their electoral population size, write \"Mauritian\" as ethnic representative, show same ethnic in all area. This mean ethnic representative count not different by electoral population size in Mauritius areas.',\n",
       " \"In Non-ranking final, Judd Trump's most often opponent was Ronnie O'Sullivan from England. They meet in four different championships. Trump win in three times, he beat O'Sullivan in 2015 World Grand Prix with score 10-7 , in 2016 Championship League with score 3-2 and in The Masters with scores 20-4. But, Trump was second to O'Sullivan in 2014 Champion of Champions, lose with score 7-10.\",\n",
       " 'The number of people for international Rugby League matches at Wembley Stadium from 1930 to 1997 had big changes. The lowest people was 9,874 in the 1973 Ashes series where Great Britain won against Australia, while the highest people was at the 1992 Rugby League World Cup Final, with 73,631 people watching Australia win against Great Britain. In all the years, matches with Australia and Great Britain usually had more people, like in the 1990 Ashes series with 54,569 people and the 1994 Ashes series with 57,034 people. But, there were times not like this, like the 1933-34 Kangaroo Tour match between Australia and Wales, which had much lower people of 10,000.',\n",
       " 'The 2013 World Series of Poker Europe runner-up was Fabrice Soulier. He lost to Adrián Mateos who won the championship and a first place prize of 1 million. Soulier held 9D 8D as his losing hand while Mateos had As Kc.',\n",
       " 'Emilia Attías acted in two films released in 2016, which are \"Dolores\" and \"El muerto cuenta su historia.\"',\n",
       " \"China has the strongest overall power with a team total of 374.675 points. They had the highest scores in Floor, Vault, and Team Total, which all contributed to their overall performance. This was followed closely by Japan with 369.55 points, Russia with 366.225 points, South Korea with 365.675 points, Germany with 365.675 points, United States with 365.2 points, France with 361.2 points, and Romania with 359.35 points respectively. China's impressive results in Floor and Vault demonstrate their strong overall power.\",\n",
       " 'According to the table information, no obvious trend between number of WSOP cashes and final position in November Nine - 2010 can be found. Example, John Racener has second most cashes (10) and he got second place, but Cuong Soi Nguyen has zero cashes still finished in ninth place. Besides, Michael Mizrachi has most cashes (23) and one earlier bracelet but he only in fifth place, so it seems no certain relation between cashes and last position is there. So from this, we can conclude that maybe having more WSOP cashes is not meaning doing better or higher rank in this event.',\n",
       " \"From the table above, it can be seen that Lindenwood held the top record in six of the nine NCRHA seasons. They held a perfect record of 33-0-0 during the 2005-06 season and proceeded to hold 19+ winning records in the following five seasons. Combined, this means that Lindenwood has achieved an impressive 139 victories and only two losses in these six NCRHA seasons. The only season they didn't hold the top record was the 2008-09 season, when UMSL took over as National Champions.\",\n",
       " 'Over years, the attendance at Midwest FurFest has increase consistent. When the event is change from Schaumburg to Wheeling in 2008, attendants are growth from 1,690 to 1,992 attendees. The move to Rosemont in 2010 result in even more growing, with attendees reach 2,285 that year and finally go beyond 10,000 attendees in 2018.',\n",
       " 'Chutes Too Narrow was ranked 113th in Uncut\\'s list of the \"150 Greatest Albums of the Decade,\" a UK publication which released its ranking in 2009.',\n",
       " 'From table, we can see that team bat first (Inns. 1) win match in 10 out of 16 times, and team bat second (Inns. 2) win in 6 out of 16 times. This maybe means bat first can give team advantage, because they can set high target for other team to chase.',\n",
       " 'Cincinnati Reds baseball team founded in 1882 and they often play home game at Great American Ball Park.',\n",
       " 'From 2011 until 2018, there are big change in how many people watch Germany TV channels. ZDFneo have most grow, up 2.8 point. But some channel have less people watch. RTL go down most, 5.8 point, and SAT.1 go down 3.9 point. This moving in watching might show more fight between channel in this time, and some channel can change good for people want, but other channel not keep how many people watch before.',\n",
       " 'From given data, Australia has won one of three Rugby League Four Nations finals in games Australia versus New Zealand. The scores were 12-16,18-22 and 34-8.',\n",
       " 'University of Pennsylvania have total 74 Olympic medals, it more than both Arizona State University and Princeton University. Arizona State University have total 60 Olympic medals, same with Princeton University, they also have 60 Olympic medals.',\n",
       " 'Sardar Ujjal Singh be as governor of Tamil Nadu from January 14 1969 to May 27 1971 for about 2 years, . President Zakir Hussain appoint him.',\n",
       " \"In 2010, Vivian Girls released a 7-inch single titled “My Love Will Follow Me” backed with a cover of The Chantels’ song “He's Gone.” It was released on the label Wild World and had a limited run of 2000 copies.\",\n",
       " 'The Spokane Shock - af2 team have sold-out games in the year 2006 with 4 of 8 games, 2007 with 8 of 8 games, 2008 with 8 of 8 games, and 2009 with 5 of 8 games. The total number of sold-out games cross these years is 25 out of 32 games.',\n",
       " \"Out of the listed franchises, two have not won any championships so far. These teams participate in Rugby Union (London St. George's RFC) and Lacrosse (London Blue Devils).\",\n",
       " 'The highest points in the game between Seattle Supersonics and San Francisco was scored by Walt Hazzard, who scored 29 points. This game was on December 5, 1967 at Oakland - Alameda County Coliseum Arena and attended by 2306 people.',\n",
       " 'In Jamie Chadwick career, the not good season for her about point get, number of win, and all position was in year 2016. She was in British GT Championship that year and her team was Generation AMR SuperRacing. In this time, Chadwick get only 29 points, not have any win, and her position was number 15.',\n",
       " 'In 1981 Galician parliament election, Galician National-Popular Bloc get 2 seats. This number is small part of total seats in this election, which is 71.',\n",
       " 'The movie \"Veedu Theda\" was make in 2011 year. The main actor in this movie is Nikhil Siddharth.',\n",
       " \"The Wisconsin Badgers men's basketball players drafted in the first round include Glen Selbo (Toronto Huskies), Don Rehfeldt (Baltimore Bullets), Al Henry (Philadelphia 76ers), Wes Matthews (Washington Bullets), Michael Finley (Phoenix Suns), Paul Grant (Minnesota Timberwolves), Devin Harris (Washington Wizards), Alando Tucker (Phoenix Suns), Frank Kaminsky (Charlotte Hornets), and Sam Dekker (Houston Rockets).\",\n",
       " 'Between 1986 and 1987, two locomotives were produced: the 6K and the 8K. The 6K model had a top speed of 100 km/hr and an output power of 5100 kW, with a total production run of 85 units. On the other hand, the 8K had a top speed of 100 km/hr as well, but its power output was higher at 23200 kW, with a total production run of 150 units.',\n",
       " 'The ranking of the destination countries by number of foreign students hosted in 2018 show mixed relation with percentage change in number of these students from previous year. While United States keep top position with modest increase of 1.48%, several countries lower in list have higher growth rates. For example, Canada, ranked 5th, see highest percentage change with 18.78%, followed by Australia at 4th with impressive 13.52% growth. Spain, the 10th ranked destination, also experience big increase of 15.33% in foreign students compare to previous year.',\n",
       " 'In the 2008 Nascar Craftsman Truck Series, Billy Ballew Motorsports had one driver racing for them. That driver was Kyle Busch, who was driving in car 51 and was driving a Toyota. He finished 8th overall in the series standings',\n",
       " \"There could be several factors affecting the variation in gross earnings, including changes in audience preferences, marketing strategies, distribution channels, production budgets, and the overall socio-economic context of the time. These factors can have a significant impact on the commercial success of films and often explain the changes in gross earnings over time.   It's important to analyze the context of each film and the various factors contributing to their success or failure, rather than only looking at the release year. As a result, the key to understanding the commercial success of Bangladeshi films might not be heavily correlated to their release year, but rather a combination of multiple factors influencing the industry.\",\n",
       " 'The HP LaserJet 4200 and 4250 models, both in HP LaserJet 4000 series, have some same and different specifications. In same parts, both models come out in November 2002 and stop in June/November 20051. They have print resolution of 1200 DPI. Also, both printers can make the memory bigger, up to 512 MB. But, there are some different things between these two models. The LaserJet 4200 has 300 MHz CPU speed, but 4250 has faster 460 MHz CPU. Also, 4200 model can print 35 pages in one minute (PPM), but 4250 can print a little faster, 43 PPM.',\n",
       " 'In table, Australia play as home team in six different match, have different performance in score. In Trans-Tasman Test match, Australia get high score 42 and 20 against New Zealand. But in International Test against Samoa, Australia only score 23, and in International Friendly match against Serbia and New Zealand, Australia score 0 and 3.',\n",
       " 'Manchester United faced Celtic on November 20, 1990. The game ended with a score of 1 - 3 in favour of Celtic. Manchester United scored one goal, while Celtic managed to put away three goals. The attendance for the game was 41658.',\n",
       " 'In the 1958 Big Ten Conference football season, Iowa got the highest Points Per Game (PPG) at 27.2. They achieved overall record of 8-1-1 and a conference record of 5-1, which make them get the top place in the Big Ten Conference standings. ',\n",
       " 'Although there are some similarities among the bikini regulations of Miss Universe, Miss USA, and Miss Teen USA pageants, they also have their differences. Both Miss Universe and Miss USA allowed contestants to wear bikinis after a fifty-year ban imposed in 1947, lifting the ban in 1997. However, Miss Teen USA, which was founded in 1983, permitted contestants to wear bikinis from 1997 onwards as well. One difference between the events is that in 2000, Miss Universe, Miss USA, and Miss Teen USA provided tankinis as an alternative for the contestants for the first and last time, showcasing slight variance in the competition attire.',\n",
       " 'The Mount Hope Bridge and the Arkwright Bridge both span across two counties in Rhode Island. The Mount Hope Bridge was built in 1927 and 1929, and was listed on the National Register of Historic Places in 1976. It spans across both Bristol and Portsmouth counties. The Arkwright Bridge was built in 1888, and was listed on the National Register of Historic Places in 1978. It spans across both Kent and Providence counties.',\n",
       " 'France and Russia have each won the OGAE Video Contest multiple times. France claimed victory in 2003 with Pascal Obispo\\'s \"Fan\" (122 points) ,in 2011 with Mylène Farmer\\'s \"Lonely Lisa\" (96 points) and in 2014 with Indila\\'s \"Tourner dans le vide\", while Russia won in 2007 with Via Gra\\'s \"LML\" (198 points), 2008 with Via Gra\\'s \"Potselui\" (140 points), and 2009 with Yin-Yang\\'s \"Karma\" (142 points).',\n",
       " 'Between 1998 and 2002, Ondigital/ITV Digital was the provider that offered a digital transmission in the UK. This provider offered Pay TV with an unknown number of channels and a digital terrestrial transmission.',\n",
       " 'Among University of Arizona, Cornell University and University of Tennessee, University of Tennessee has earn most high number gold medals with 30 gold medals.',\n",
       " 'A all total six album getting the certification of 20x Platinum or more high in United States. These album have Their Greatest Hits (1971-1975) from Eagles, Thriller by Michael Jackson, Hotel California also from Eagles, Led Zeppelin IV by Led Zeppelin, Back in Black by AC/DC, and Rumours by Fleetwood Mac. These famous records show some of best-selling artists and albums in U.S. music industry.',\n",
       " 'The Lynx constellation is home to several objects, including three galaxies. Two of these galaxies are spiral galaxies, Ngc 2770 and Ngc 2798, while the third is an irregular galaxy, Ngc 2799. All three galaxies can be found within the Right Ascension of 09H09 M33.7S to 09H17 M31.2S and the Declination of Degree07\\'25\" to Degree59\\'36\".',\n",
       " 'The player stay longest at S.L. Benfica is Portugal Nené, he play from 1968 to 1986. In this time, he join in 575 matches. Nené get total 359 goals when he at club.',\n",
       " 'In 1926, there be total 4 trains units make across different railway lines and gauges.Two different gauges had train units make in that year. The 2 ft 6 in gauge of Victorian Government Railways in Australia had two units with works number 6267-6268 built by Beyer, Peacock. The 1,000 mm gauge of C.F.Madagascar also have two units, with works numbers 2031-2032, make by St. Leonard in Belgium. ',\n",
       " 'Inkster High School had the shortest membership duration in the Western Wayne Athletic Conference, joining in 2013 and leaving the same year. The circumstances surrounding its exit were due to the school being shut down, with no successive conference affiliation.',\n",
       " \"The Minardi Team Usa team consists of two drivers: Dan Clarke and Robert Doornbos (R) . Dan Clarke had a best time of 59.503, and was unable to complete a time in Qual 1. Robert Doornbos (R)' best time was 59.553.\",\n",
       " \"In 1979, England played three tour matches. The first tour match was against Japan 'B' and England won with a score of 7-0. The second tour match was against Kyūshū and the result was an English victory with a score of 3-0. Finally, England played the Fiji Juniors and they won 22-0.\",\n",
       " 'The highest individual score in One Day Internationals at the Kensington Oval is 149, scored by Adam Gilchrist. He took 104 balls for his innings.',\n",
       " 'The total point get by participant who imitate Tom Jones is 6 point, can see in table, person is Péter Kovács from Hungary. Same, the one who imitate Ricky Martin, come from Italy, he also get 6 point. So, altogether total point of person who imitate Tom Jones and Ricky Martin is 12 point.',\n",
       " 'The batsmen involved in the 10th wicket partnership in List A Cricket Records of Essex were Stuart Turner and Ray East. This partnership occurred in 1982 at Leeds against Yorkshire, with a total of 81 runs.',\n",
       " 'The Guelph Gargoyles and the Toronto Eagles have the highest percentages of the 2010 Oafl season, both having a percentage of 484.62 and 471.43 respectively. Both teams were able to get the maximum of four points for their wins, leading them to the top of the table. The Guelph Gargoyles enjoyed a particularly impressive victory with a score line of 63-13 for an incredible percentage of 484.62, whilst Toronto Eagles had a strong 66-14 win which earned them 471.43%.',\n",
       " 'The Colorado Avalanche had three games that resulted in a tie in November 1995. On November 9, the Avalanche tied the Dallas Stars 1-1 and on November 25, they tied Montreal Canadiens 2-2. They also tied Montreal Canadiens 3-3 on November 20.',\n",
       " 'Of the countries no sing in English, Greece get highest rank. They get 8th place in Eurovision Song Contest 2010 - Final with140 points.',\n",
       " 'The Vivian Girls have released three singles with a limited edition of 2000 copies. These include \"I Can\\'t Stay\" (2008), \"My Love Will Follow Me\" (2010), and \"I Heard You Say\" (2011). \"I Can\\'t Stay\" was released on In The Red, \"My Love Will Follow Me\" was released on Wild World, and \"I Heard You Say\" was released on Polyvinyl.',\n",
       " 'In 1983 Eurovision Song Contest, United Kingdom had artist Sweet Dreams to do singing for song \"I\\'m Never Giving Up.\" They got total 79 points, making them 6th out of 20 countries who join. When look at other contestants, United Kingdom was in top one-third in both how high they place and points they got. Even not in top 3, their show still think strong because they did better than most other countries in competition.']"
      ]
     },
     "execution_count": 75,
     "metadata": {},
     "output_type": "execute_result"
    }
   ],
   "source": [
    "validate_df = datasets.load_from_disk(\"/home/y.khan/cai6307-y.khan/Query-Focused-Tabular-Summarization/data/decomposed/decomposed_validate\")\n",
    "validate_df['summary']"
   ]
  },
  {
   "cell_type": "code",
   "execution_count": null,
   "id": "2cbd46d9-ee0b-41b3-a57e-8fa8cb914994",
   "metadata": {},
   "outputs": [],
   "source": []
  }
 ],
 "metadata": {
  "kernelspec": {
   "display_name": "hf-llm",
   "language": "python",
   "name": "hf-llm"
  },
  "language_info": {
   "codemirror_mode": {
    "name": "ipython",
    "version": 3
   },
   "file_extension": ".py",
   "mimetype": "text/x-python",
   "name": "python",
   "nbconvert_exporter": "python",
   "pygments_lexer": "ipython3",
   "version": "3.10.12"
  }
 },
 "nbformat": 4,
 "nbformat_minor": 5
}
